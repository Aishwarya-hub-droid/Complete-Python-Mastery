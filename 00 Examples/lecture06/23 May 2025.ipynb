{
 "cells": [
  {
   "cell_type": "code",
   "execution_count": 3,
   "id": "54f8a948",
   "metadata": {},
   "outputs": [
    {
     "name": "stdout",
     "output_type": "stream",
     "text": [
      "welcome to codeswithpankaj\n",
      "this is a function\n",
      "welcome to codeswithpankaj\n",
      "this is a function\n"
     ]
    }
   ],
   "source": [
    "# functions in python \n",
    "\n",
    "# functions are defined using the def keyword\n",
    "\n",
    "# function is a block of code that only runs when it is called\n",
    "# you can pass data, known as parameters, into a function\n",
    "# a function can return data as a result\n",
    "\n",
    "# example :\n",
    "\n",
    "\n",
    "def info():\n",
    "    print(\"welcome to codeswithpankaj\")\n",
    "    print(\"this is a function\")\n",
    "\n",
    "# calling a function\n",
    "info()\n",
    "info()"
   ]
  },
  {
   "cell_type": "code",
   "execution_count": 5,
   "id": "b6e23459",
   "metadata": {},
   "outputs": [
    {
     "name": "stdout",
     "output_type": "stream",
     "text": [
      "sum of a and b is  15\n"
     ]
    }
   ],
   "source": [
    "# type of function\n",
    "\n",
    "# basic function\n",
    "\n",
    "def add():\n",
    "    a = 5\n",
    "    b = 10\n",
    "    c = a + b\n",
    "    print(\"sum of a and b is \", c)\n",
    "\n",
    "add()    "
   ]
  },
  {
   "cell_type": "code",
   "execution_count": null,
   "id": "e3564e6f",
   "metadata": {},
   "outputs": [],
   "source": [
    "# function with parameters\n",
    "\n",
    "# def functionName(parameter):\n",
    "    # code to be executed\n",
    "    # output\n",
    "\n",
    "# example\n",
    "\n",
    "def add(a, b):\n",
    "    c = a + b\n",
    "    print(\"sum of a and b is \", c)  \n",
    "\n",
    "add(5, 10)\n",
    "add(20, 30)\n",
    "    "
   ]
  }
 ],
 "metadata": {
  "kernelspec": {
   "display_name": "Python 3",
   "language": "python",
   "name": "python3"
  },
  "language_info": {
   "codemirror_mode": {
    "name": "ipython",
    "version": 3
   },
   "file_extension": ".py",
   "mimetype": "text/x-python",
   "name": "python",
   "nbconvert_exporter": "python",
   "pygments_lexer": "ipython3",
   "version": "3.13.3"
  }
 },
 "nbformat": 4,
 "nbformat_minor": 5
}
