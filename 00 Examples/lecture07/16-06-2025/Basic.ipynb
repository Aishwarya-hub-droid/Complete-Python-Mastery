{
 "cells": [
  {
   "cell_type": "code",
   "execution_count": 3,
   "id": "dcb0fcf2",
   "metadata": {},
   "outputs": [
    {
     "name": "stdout",
     "output_type": "stream",
     "text": [
      "welcome to codeswithpankaj.com\n",
      "welcome to codeswithpankaj.com\n",
      "6756\n"
     ]
    }
   ],
   "source": [
    "print(\"welcome to codeswithpankaj.com\")\n",
    "print('welcome to codeswithpankaj.com')\n",
    "print(6756)"
   ]
  },
  {
   "cell_type": "code",
   "execution_count": 4,
   "id": "0851fedb",
   "metadata": {},
   "outputs": [
    {
     "name": "stdout",
     "output_type": "stream",
     "text": [
      "My number is :  45454\n"
     ]
    }
   ],
   "source": [
    "print(\"My number is : \",45454)"
   ]
  },
  {
   "cell_type": "code",
   "execution_count": null,
   "id": "583994e4",
   "metadata": {},
   "outputs": [
    {
     "name": "stdout",
     "output_type": "stream",
     "text": [
      "my name is :  joy\n",
      "my age is :  31\n",
      "my height is :  4.5\n"
     ]
    }
   ],
   "source": [
    "# variable \n",
    "\n",
    "# VariableName = Values\n",
    "\n",
    "name = \"joy\"\n",
    "age = 31\n",
    "height = 4.5\n",
    "\n",
    "print('my name is : ',name)\n",
    "print('my age is : ',age)\n",
    "print('my height is : ',height)"
   ]
  }
 ],
 "metadata": {
  "kernelspec": {
   "display_name": "Python 3",
   "language": "python",
   "name": "python3"
  },
  "language_info": {
   "codemirror_mode": {
    "name": "ipython",
    "version": 3
   },
   "file_extension": ".py",
   "mimetype": "text/x-python",
   "name": "python",
   "nbconvert_exporter": "python",
   "pygments_lexer": "ipython3",
   "version": "3.13.4"
  }
 },
 "nbformat": 4,
 "nbformat_minor": 5
}
