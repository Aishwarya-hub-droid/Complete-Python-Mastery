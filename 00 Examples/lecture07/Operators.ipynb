{
 "cells": [
  {
   "cell_type": "code",
   "execution_count": 7,
   "id": "45389b9f",
   "metadata": {},
   "outputs": [
    {
     "name": "stdout",
     "output_type": "stream",
     "text": [
      "974\n",
      "818\n",
      "974\n",
      "11.487179487179487\n",
      "11\n",
      "190556932731893503596303726456733230903416439276043320433470689123216869703029123199115578571018531285474459879098033461717970069808752425682093038298923197822228808874795753318242241944363953737397567741963057674043025937856987136\n"
     ]
    }
   ],
   "source": [
    "# operator in python\n",
    "\n",
    "# Arithmetic Operators\n",
    "\n",
    "x = 896 \n",
    "y = 78 \n",
    "\n",
    "print(x+y)\n",
    "print(x-y)\n",
    "print(x+y)\n",
    "print(x/y)\n",
    "print(x//y)\n",
    "print(x**y)\n"
   ]
  },
  {
   "cell_type": "code",
   "execution_count": 10,
   "id": "3b3728ad",
   "metadata": {},
   "outputs": [
    {
     "name": "stdout",
     "output_type": "stream",
     "text": [
      "False\n",
      "True\n",
      "False\n"
     ]
    }
   ],
   "source": [
    "# Comparison Operators\n",
    "# example \n",
    "\n",
    "x = 10 \n",
    "y = 77\n",
    "print(x > y)\n",
    "print(x < y)\n",
    "print(x == y)\n"
   ]
  }
 ],
 "metadata": {
  "kernelspec": {
   "display_name": "Python 3",
   "language": "python",
   "name": "python3"
  },
  "language_info": {
   "codemirror_mode": {
    "name": "ipython",
    "version": 3
   },
   "file_extension": ".py",
   "mimetype": "text/x-python",
   "name": "python",
   "nbconvert_exporter": "python",
   "pygments_lexer": "ipython3",
   "version": "3.13.4"
  }
 },
 "nbformat": 4,
 "nbformat_minor": 5
}
