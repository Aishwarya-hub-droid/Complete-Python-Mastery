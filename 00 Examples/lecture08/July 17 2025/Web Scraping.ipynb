{
 "cells": [
  {
   "cell_type": "code",
   "execution_count": 1,
   "id": "0b3b7194",
   "metadata": {},
   "outputs": [
    {
     "name": "stdout",
     "output_type": "stream",
     "text": [
      "Collecting requests\n",
      "  Downloading requests-2.32.4-py3-none-any.whl (64 kB)\n",
      "                                              0.0/64.8 kB ? eta -:--:--\n",
      "     ---------------------------------------- 64.8/64.8 kB 3.4 MB/s eta 0:00:00\n",
      "Collecting beautifulsoup4\n",
      "  Downloading beautifulsoup4-4.13.4-py3-none-any.whl (187 kB)\n",
      "                                              0.0/187.3 kB ? eta -:--:--\n",
      "     -------------------------------------- 187.3/187.3 kB 5.7 MB/s eta 0:00:00\n",
      "Collecting charset_normalizer<4,>=2 (from requests)\n",
      "  Downloading charset_normalizer-3.4.2-cp311-cp311-win_amd64.whl (105 kB)\n",
      "                                              0.0/105.4 kB ? eta -:--:--\n",
      "     ---------------------------------------- 105.4/105.4 kB ? eta 0:00:00\n",
      "Collecting idna<4,>=2.5 (from requests)\n",
      "  Using cached idna-3.10-py3-none-any.whl (70 kB)\n",
      "Collecting urllib3<3,>=1.21.1 (from requests)\n",
      "  Downloading urllib3-2.5.0-py3-none-any.whl (129 kB)\n",
      "                                              0.0/129.8 kB ? eta -:--:--\n",
      "     -------------------------------------- 129.8/129.8 kB 8.0 MB/s eta 0:00:00\n",
      "Collecting certifi>=2017.4.17 (from requests)\n",
      "  Downloading certifi-2025.7.14-py3-none-any.whl (162 kB)\n",
      "                                              0.0/162.7 kB ? eta -:--:--\n",
      "     -------------------------------------- 162.7/162.7 kB 9.5 MB/s eta 0:00:00\n",
      "Collecting soupsieve>1.2 (from beautifulsoup4)\n",
      "  Downloading soupsieve-2.7-py3-none-any.whl (36 kB)\n",
      "Requirement already satisfied: typing-extensions>=4.0.0 in c:\\users\\admin\\appdata\\roaming\\python\\python311\\site-packages (from beautifulsoup4) (4.14.0)\n",
      "Installing collected packages: urllib3, soupsieve, idna, charset_normalizer, certifi, requests, beautifulsoup4\n",
      "Successfully installed beautifulsoup4-4.13.4 certifi-2025.7.14 charset_normalizer-3.4.2 idna-3.10 requests-2.32.4 soupsieve-2.7 urllib3-2.5.0\n",
      "Note: you may need to restart the kernel to use updated packages.\n"
     ]
    },
    {
     "name": "stderr",
     "output_type": "stream",
     "text": [
      "  WARNING: The script normalizer.exe is installed in 'c:\\Users\\Admin\\AppData\\Local\\Programs\\Python\\Python311\\Scripts' which is not on PATH.\n",
      "  Consider adding this directory to PATH or, if you prefer to suppress this warning, use --no-warn-script-location.\n",
      "\n",
      "[notice] A new release of pip is available: 23.1.2 -> 25.1.1\n",
      "[notice] To update, run: python.exe -m pip install --upgrade pip\n"
     ]
    }
   ],
   "source": [
    "%pip install requests beautifulsoup4"
   ]
  },
  {
   "cell_type": "code",
   "execution_count": 4,
   "id": "ecea36d1",
   "metadata": {},
   "outputs": [],
   "source": [
    "# steps no. 1\n",
    "# import lib \n",
    "import requests\n",
    "from bs4 import BeautifulSoup\n",
    "import re\n",
    "import csv"
   ]
  },
  {
   "cell_type": "code",
   "execution_count": 8,
   "id": "4ab6c8dc",
   "metadata": {},
   "outputs": [],
   "source": [
    "# Step no 2\n",
    "# https://books.toscrape.com/\n",
    "\n",
    "url = \"https://books.toscrape.com/\"\n",
    "response = requests.get(url)\n",
    "\n",
    "# check request \n",
    "if response.status_code != 200:\n",
    "    print(\"failed to fetch page..\")\n",
    "    exit()"
   ]
  },
  {
   "cell_type": "code",
   "execution_count": 10,
   "id": "6a66a986",
   "metadata": {},
   "outputs": [],
   "source": [
    "# step 3 : Parse the html\n",
    "soup = BeautifulSoup(response.text,\"html.parser\")"
   ]
  },
  {
   "cell_type": "code",
   "execution_count": null,
   "id": "e27dc1f5",
   "metadata": {},
   "outputs": [
    {
     "name": "stdout",
     "output_type": "stream",
     "text": [
      "[['A Light in the Attic', '51.77'], ['Tipping the Velvet', '53.74'], ['Soumission', '50.10'], ['Sharp Objects', '47.82'], ['Sapiens: A Brief History of Humankind', '54.23'], ['The Requiem Red', '22.65'], ['The Dirty Little Secrets of Getting Your Dream Job', '33.34'], ['The Coming Woman: A Novel Based on the Life of the Infamous Feminist, Victoria Woodhull', '17.93'], ['The Boys in the Boat: Nine Americans and Their Epic Quest for Gold at the 1936 Berlin Olympics', '22.60'], ['The Black Maria', '52.15'], ['Starving Hearts (Triangular Trade Trilogy, #1)', '13.99'], [\"Shakespeare's Sonnets\", '20.66'], ['Set Me Free', '17.46'], [\"Scott Pilgrim's Precious Little Life (Scott Pilgrim #1)\", '52.29'], ['Rip it Up and Start Again', '35.02'], ['Our Band Could Be Your Life: Scenes from the American Indie Underground, 1981-1991', '57.25'], ['Olio', '23.88'], ['Mesaerion: The Best Science Fiction Stories 1800-1849', '37.59'], ['Libertarianism for Beginners', '51.33'], [\"It's Only the Himalayas\", '45.17']]\n",
      "['A Light in the Attic', '51.77']\n",
      "['Tipping the Velvet', '53.74']\n",
      "['Soumission', '50.10']\n",
      "['Sharp Objects', '47.82']\n",
      "['Sapiens: A Brief History of Humankind', '54.23']\n",
      "['The Requiem Red', '22.65']\n",
      "['The Dirty Little Secrets of Getting Your Dream Job', '33.34']\n",
      "['The Coming Woman: A Novel Based on the Life of the Infamous Feminist, Victoria Woodhull', '17.93']\n",
      "['The Boys in the Boat: Nine Americans and Their Epic Quest for Gold at the 1936 Berlin Olympics', '22.60']\n",
      "['The Black Maria', '52.15']\n",
      "['Starving Hearts (Triangular Trade Trilogy, #1)', '13.99']\n",
      "[\"Shakespeare's Sonnets\", '20.66']\n",
      "['Set Me Free', '17.46']\n",
      "[\"Scott Pilgrim's Precious Little Life (Scott Pilgrim #1)\", '52.29']\n",
      "['Rip it Up and Start Again', '35.02']\n",
      "['Our Band Could Be Your Life: Scenes from the American Indie Underground, 1981-1991', '57.25']\n",
      "['Olio', '23.88']\n",
      "['Mesaerion: The Best Science Fiction Stories 1800-1849', '37.59']\n",
      "['Libertarianism for Beginners', '51.33']\n",
      "[\"It's Only the Himalayas\", '45.17']\n"
     ]
    }
   ],
   "source": [
    "# step 4 Extract book title and price \n",
    "\n",
    "books = soup.find_all(\"article\",class_=\"product_pod\")\n",
    "data = []\n",
    "for book in books:\n",
    "    # get book title\n",
    "    title = book.find(\"h3\").find(\"a\")[\"title\"]\n",
    "    price_text = book.find(\"p\",class_=\"price_color\").text\n",
    "    price_match = re.search(r\"£(\\d+\\.\\d{2})\",price_text)\n",
    "    price = price_match.group(1) if price_match else \"N/A\"\n",
    "    \n",
    "    data.append([title,price])\n",
    "    \n",
    "print(data) \n",
    "\n",
    "for i in data:\n",
    "    print(i) \n",
    "    "
   ]
  }
 ],
 "metadata": {
  "kernelspec": {
   "display_name": "Python 3",
   "language": "python",
   "name": "python3"
  },
  "language_info": {
   "codemirror_mode": {
    "name": "ipython",
    "version": 3
   },
   "file_extension": ".py",
   "mimetype": "text/x-python",
   "name": "python",
   "nbconvert_exporter": "python",
   "pygments_lexer": "ipython3",
   "version": "3.11.4"
  }
 },
 "nbformat": 4,
 "nbformat_minor": 5
}
