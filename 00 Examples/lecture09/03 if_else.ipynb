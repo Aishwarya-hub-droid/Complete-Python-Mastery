{
 "cells": [
  {
   "cell_type": "code",
   "execution_count": 1,
   "id": "dc53e637-1968-45b0-8047-ad001d251fb6",
   "metadata": {},
   "outputs": [
    {
     "name": "stdout",
     "output_type": "stream",
     "text": [
      "a is smallest number \n"
     ]
    }
   ],
   "source": [
    "# if else\n",
    "\n",
    "a = 10\n",
    "b = 20\n",
    "\n",
    "# find the smallest number \n",
    "\n",
    "if a < b:\n",
    "    print(\"a is smallest number \") # t\n",
    "else:\n",
    "    print(\"a is not a smallest number \") # f"
   ]
  },
  {
   "cell_type": "code",
   "execution_count": null,
   "id": "75b873a3-9ee7-4108-affd-d0adf68f65ed",
   "metadata": {},
   "outputs": [],
   "source": [
    "a = 10\n",
    "b = 20\n",
    "c = 30\n",
    "\n",
    "if a < b and a < c:\n",
    "    print(\"a is smallest "
   ]
  }
 ],
 "metadata": {
  "kernelspec": {
   "display_name": "Python 3 (ipykernel)",
   "language": "python",
   "name": "python3"
  },
  "language_info": {
   "codemirror_mode": {
    "name": "ipython",
    "version": 3
   },
   "file_extension": ".py",
   "mimetype": "text/x-python",
   "name": "python",
   "nbconvert_exporter": "python",
   "pygments_lexer": "ipython3",
   "version": "3.12.7"
  }
 },
 "nbformat": 4,
 "nbformat_minor": 5
}
