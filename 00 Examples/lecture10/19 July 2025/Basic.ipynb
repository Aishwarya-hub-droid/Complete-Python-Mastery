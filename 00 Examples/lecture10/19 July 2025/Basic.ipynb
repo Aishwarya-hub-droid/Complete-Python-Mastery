{
 "cells": [
  {
   "cell_type": "code",
   "execution_count": 3,
   "id": "e3462d3f-3d76-4028-bd4d-5fdcbb8eed46",
   "metadata": {},
   "outputs": [
    {
     "name": "stdout",
     "output_type": "stream",
     "text": [
      "welcome to codeswithpankaj.com\n",
      "welcome to codeswithpankaj.com\n"
     ]
    }
   ],
   "source": [
    "print(\"welcome to codeswithpankaj.com\")\n",
    "print('welcome to codeswithpankaj.com')"
   ]
  },
  {
   "cell_type": "code",
   "execution_count": 5,
   "id": "dcb04fdf-626c-4c8c-9e5b-8d7df0827526",
   "metadata": {},
   "outputs": [
    {
     "name": "stdout",
     "output_type": "stream",
     "text": [
      "\"codeswithpankaj\"\n",
      "'codeswithpankaj'\n"
     ]
    }
   ],
   "source": [
    "print('\"codeswithpankaj\"')\n",
    "print(\"'codeswithpankaj'\")"
   ]
  },
  {
   "cell_type": "code",
   "execution_count": 7,
   "id": "09d47538-84c4-4f82-88d4-72312687d083",
   "metadata": {},
   "outputs": [
    {
     "name": "stdout",
     "output_type": "stream",
     "text": [
      "4564654\n",
      "my number is  78147584\n"
     ]
    }
   ],
   "source": [
    "print(4564654)\n",
    "# print(\"\",3243)\n",
    "\n",
    "print(\"my number is \",78147584)"
   ]
  },
  {
   "cell_type": "code",
   "execution_count": 9,
   "id": "2d591ad1-8e74-485f-a1f3-b10ed7f14279",
   "metadata": {},
   "outputs": [
    {
     "name": "stdout",
     "output_type": "stream",
     "text": [
      "23\n",
      "50\n"
     ]
    }
   ],
   "source": [
    "# variable \n",
    "\n",
    "# variableName = Value\n",
    "number = 23\n",
    "print(number)\n",
    "number = 50\n",
    "print(number)"
   ]
  },
  {
   "cell_type": "markdown",
   "id": "1b8b7898-f5b0-4895-b032-5329a4ed979c",
   "metadata": {},
   "source": [
    "name = \"joy\"\n",
    "age = 23\n",
    "height = 4.5\n",
    "print(\"my name is \",name)\n",
    "print(\"my name is \",age)\n",
    "print(\"my hei is \",height)"
   ]
  },
  {
   "cell_type": "code",
   "execution_count": null,
   "id": "8e2341a5-ac24-4059-befb-8e86eb21ae2b",
   "metadata": {},
   "outputs": [],
   "source": []
  }
 ],
 "metadata": {
  "kernelspec": {
   "display_name": "Python 3 (ipykernel)",
   "language": "python",
   "name": "python3"
  },
  "language_info": {
   "codemirror_mode": {
    "name": "ipython",
    "version": 3
   },
   "file_extension": ".py",
   "mimetype": "text/x-python",
   "name": "python",
   "nbconvert_exporter": "python",
   "pygments_lexer": "ipython3",
   "version": "3.13.5"
  }
 },
 "nbformat": 4,
 "nbformat_minor": 5
}
