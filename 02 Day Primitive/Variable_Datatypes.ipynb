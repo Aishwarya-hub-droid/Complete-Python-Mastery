{
 "cells": [
  {
   "cell_type": "code",
   "execution_count": 1,
   "metadata": {},
   "outputs": [
    {
     "name": "stdout",
     "output_type": "stream",
     "text": [
      "codeswithpankaj\n"
     ]
    }
   ],
   "source": [
    "print('codeswithpankaj')"
   ]
  },
  {
   "cell_type": "code",
   "execution_count": 3,
   "metadata": {},
   "outputs": [
    {
     "name": "stdout",
     "output_type": "stream",
     "text": [
      "My Name is :  Nishant\n",
      "My age is :  12\n",
      "My Height is :  3.4\n"
     ]
    }
   ],
   "source": [
    "name = 'Nishant'\n",
    "age = 12\n",
    "height = 3.4\n",
    "\n",
    "print('My Name is : ',name)\n",
    "print('My age is : ',age)\n",
    "print('My Height is : ',height)"
   ]
  },
  {
   "cell_type": "code",
   "execution_count": 4,
   "metadata": {},
   "outputs": [
    {
     "name": "stdout",
     "output_type": "stream",
     "text": [
      "My Name is :  codeswith\n",
      "My age is :  23\n",
      "My Height is :  4.5\n"
     ]
    }
   ],
   "source": [
    "# user input \n",
    "\n",
    "name = input('Enter Your Name - ')\n",
    "age = int(input('Enter your Age - '))\n",
    "height = float(input('Enter your height - '))\n",
    "\n",
    "print('My Name is : ',name)\n",
    "print('My age is : ',age)\n",
    "print('My Height is : ',height)"
   ]
  },
  {
   "cell_type": "code",
   "execution_count": 6,
   "metadata": {},
   "outputs": [
    {
     "name": "stdout",
     "output_type": "stream",
     "text": [
      "The Result is : -  68\n"
     ]
    }
   ],
   "source": [
    "# Example 2nd\n",
    "\n",
    "number1 = int(input('Enter Number 1 ... '))\n",
    "number2 = int(input('Enter Number 2 ... '))\n",
    "\n",
    "result = number1 + number2\n",
    "\n",
    "print('The Result is : - ',result)\n"
   ]
  },
  {
   "cell_type": "code",
   "execution_count": null,
   "metadata": {},
   "outputs": [],
   "source": [
    "# Data type in Python\n",
    "\n",
    "# 1. int\n",
    "# 2. float\n",
    "# 3. str\n",
    "# 4. bool\n",
    "# 5. list\n",
    "# 6. tuple\n",
    "# 7. set\n",
    "# 8. dict\n",
    "# 9. None\n",
    "# 10. complex\n",
    "# 11. range\n",
    "# 12. bytes\n",
    "# 13. bytearray\n",
    "# 14. memoryview\n",
    "# 15. frozenset\n",
    "# 16. Ellipsis\n",
    "# 17. NotImplemented\n",
    "# 18. Enum\n",
    "# 19. ContextManager\n",
    "# 20. Generator\n",
    "# 21. AsyncGenerator\n",
    "# 22. Coroutine\n",
    "# 23. AsyncioTask\n",
    "# 24. AsyncioFuture \n",
    "# 25. AsyncioStream\n",
    "# 26. AsyncioSocket\n",
    "# 27. AsyncioSubprocess\n",
    "# 28. AsyncioEventLoop\n",
    "# 29. AsyncioProtocol\n",
    "# 30. AsyncioTransport\n",
    "# 31. AsyncioBaseProtocol\n",
    "# 32. AsyncioBaseTransport\n",
    "# 33. AsyncioSSLProtocol"
   ]
  },
  {
   "cell_type": "code",
   "execution_count": null,
   "metadata": {},
   "outputs": [],
   "source": []
  },
  {
   "cell_type": "code",
   "execution_count": null,
   "metadata": {},
   "outputs": [],
   "source": []
  },
  {
   "cell_type": "code",
   "execution_count": null,
   "metadata": {},
   "outputs": [],
   "source": []
  }
 ],
 "metadata": {
  "kernelspec": {
   "display_name": "Python 3",
   "language": "python",
   "name": "python3"
  },
  "language_info": {
   "codemirror_mode": {
    "name": "ipython",
    "version": 3
   },
   "file_extension": ".py",
   "mimetype": "text/x-python",
   "name": "python",
   "nbconvert_exporter": "python",
   "pygments_lexer": "ipython3",
   "version": "3.12.0"
  }
 },
 "nbformat": 4,
 "nbformat_minor": 2
}
