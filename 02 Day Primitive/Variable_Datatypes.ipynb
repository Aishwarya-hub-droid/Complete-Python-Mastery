{
 "cells": [
  {
   "cell_type": "code",
   "execution_count": 1,
   "metadata": {},
   "outputs": [
    {
     "name": "stdout",
     "output_type": "stream",
     "text": [
      "codeswithpankaj\n"
     ]
    }
   ],
   "source": [
    "print('codeswithpankaj')"
   ]
  },
  {
   "cell_type": "code",
   "execution_count": 3,
   "metadata": {},
   "outputs": [
    {
     "name": "stdout",
     "output_type": "stream",
     "text": [
      "My Name is :  Nishant\n",
      "My age is :  12\n",
      "My Height is :  3.4\n"
     ]
    }
   ],
   "source": [
    "name = 'Nishant'\n",
    "age = 12\n",
    "height = 3.4\n",
    "\n",
    "print('My Name is : ',name)\n",
    "print('My age is : ',age)\n",
    "print('My Height is : ',height)"
   ]
  },
  {
   "cell_type": "code",
   "execution_count": 4,
   "metadata": {},
   "outputs": [
    {
     "name": "stdout",
     "output_type": "stream",
     "text": [
      "My Name is :  codeswith\n",
      "My age is :  23\n",
      "My Height is :  4.5\n"
     ]
    }
   ],
   "source": [
    "# user input \n",
    "\n",
    "name = input('Enter Your Name - ')\n",
    "age = int(input('Enter your Age - '))\n",
    "height = float(input('Enter your height - '))\n",
    "\n",
    "print('My Name is : ',name)\n",
    "print('My age is : ',age)\n",
    "print('My Height is : ',height)"
   ]
  },
  {
   "cell_type": "code",
   "execution_count": 6,
   "metadata": {},
   "outputs": [
    {
     "name": "stdout",
     "output_type": "stream",
     "text": [
      "The Result is : -  68\n"
     ]
    }
   ],
   "source": [
    "# Example 2nd\n",
    "\n",
    "number1 = int(input('Enter Number 1 ... '))\n",
    "number2 = int(input('Enter Number 2 ... '))\n",
    "\n",
    "result = number1 + number2\n",
    "\n",
    "print('The Result is : - ',result)\n"
   ]
  },
  {
   "cell_type": "code",
   "execution_count": 16,
   "metadata": {},
   "outputs": [
    {
     "name": "stdout",
     "output_type": "stream",
     "text": [
      "<class 'int'>\n",
      "<class 'str'>\n",
      "<class 'float'>\n",
      "<class 'tuple'>\n",
      "<class 'tuple'>\n",
      "<class 'tuple'>\n",
      "<class 'list'>\n",
      "<class 'set'>\n",
      "<class 'dict'>\n"
     ]
    }
   ],
   "source": [
    "# datatype\n",
    "# using type()\n",
    "a = 10\n",
    "\n",
    "print(type(a))\n",
    "\n",
    "a = 'p4n'\n",
    "\n",
    "print(type(a))\n",
    "\n",
    "a = 1.7\n",
    "\n",
    "print(type(a))\n",
    "\n",
    "a = 10,78,34\n",
    "\n",
    "print(type(a))\n",
    "\n",
    "a = (10,)\n",
    "\n",
    "print(type(a))\n",
    "\n",
    "a = (10,67)\n",
    "\n",
    "print(type(a))\n",
    "\n",
    "a = [10,67,55,34]\n",
    "\n",
    "print(type(a))\n",
    "\n",
    "a = {5,43,3,10}\n",
    "\n",
    "print(type(a))\n",
    "\n",
    "a = {'name':'joy'}\n",
    "\n",
    "print(type(a))"
   ]
  }
 ],
 "metadata": {
  "kernelspec": {
   "display_name": "Python 3",
   "language": "python",
   "name": "python3"
  },
  "language_info": {
   "codemirror_mode": {
    "name": "ipython",
    "version": 3
   },
   "file_extension": ".py",
   "mimetype": "text/x-python",
   "name": "python",
   "nbconvert_exporter": "python",
   "pygments_lexer": "ipython3",
   "version": "3.12.0"
  }
 },
 "nbformat": 4,
 "nbformat_minor": 2
}
