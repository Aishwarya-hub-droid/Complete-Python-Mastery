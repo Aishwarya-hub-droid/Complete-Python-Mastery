{
 "cells": [
  {
   "cell_type": "code",
   "execution_count": 6,
   "metadata": {},
   "outputs": [
    {
     "name": "stdout",
     "output_type": "stream",
     "text": [
      "Number 1 is smallest..\n"
     ]
    }
   ],
   "source": [
    "# Example 1\n",
    "number1 = 100;\n",
    "number2 = 200;\n",
    "\n",
    "if number1 < number2:\n",
    "    # True Section \n",
    "    print('Number 1 is smallest..')    "
   ]
  },
  {
   "cell_type": "code",
   "execution_count": 7,
   "metadata": {},
   "outputs": [
    {
     "name": "stdout",
     "output_type": "stream",
     "text": [
      "Number 1 is smallest ...\n"
     ]
    }
   ],
   "source": [
    "# Example 2\n",
    "if number1 < number2:\n",
    "    # True Section\n",
    "    print('Number 1 is smallest ...')\n",
    "else:\n",
    "    # False Section\n",
    "    print('Number1 is not smallest ....')    "
   ]
  },
  {
   "cell_type": "code",
   "execution_count": 9,
   "metadata": {},
   "outputs": [
    {
     "name": "stdout",
     "output_type": "stream",
     "text": [
      "Number 2 is smallest...\n"
     ]
    }
   ],
   "source": [
    "# Nested if else ...\n",
    "num1 = int(input('Enter Number 1 : '))\n",
    "num2 = int(input('Enter Number 2 : '))\n",
    "num3 = int(input('Enter Number 3 : '))\n",
    "\n",
    "if num1 < num2 and num1 < num3:\n",
    "    print('Number 1 smallest...')\n",
    "elif num2 < num1 and num2 < num3:\n",
    "    print('Number 2 is smallest...') \n",
    "else:\n",
    "    print('Number 3 is smallest..')       "
   ]
  }
 ],
 "metadata": {
  "kernelspec": {
   "display_name": "Python 3",
   "language": "python",
   "name": "python3"
  },
  "language_info": {
   "codemirror_mode": {
    "name": "ipython",
    "version": 3
   },
   "file_extension": ".py",
   "mimetype": "text/x-python",
   "name": "python",
   "nbconvert_exporter": "python",
   "pygments_lexer": "ipython3",
   "version": "3.10.8"
  }
 },
 "nbformat": 4,
 "nbformat_minor": 2
}
