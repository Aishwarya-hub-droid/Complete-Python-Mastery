{
 "cells": [
  {
   "cell_type": "code",
   "execution_count": 1,
   "metadata": {},
   "outputs": [
    {
     "name": "stdout",
     "output_type": "stream",
     "text": [
      "Addition: adds two operands +  130\n",
      "Subtraction: subtracts two operands -  120\n",
      "Multiplication: multiplies two operands *  625\n",
      "Division (float): divides the first operand by the second /  25.0\n",
      "Division (floor): divides the first operand by the second //  25\n",
      "Modulus: returns the remainder when the first operand is divided by the second %  0\n",
      "Power (Exponent): Returns first raised to power second **  30517578125\n"
     ]
    }
   ],
   "source": [
    "# Operators\n",
    "# Arithmetic Operators\n",
    "\n",
    "num1 = 125\n",
    "num2 = 5\n",
    "\n",
    "print('Addition: adds two operands + ',num1 + num2)\n",
    "print('Subtraction: subtracts two operands - ',num1 - num2)\n",
    "print('Multiplication: multiplies two operands * ',num1 * num2)\n",
    "print('Division (float): divides the first operand by the second / ',num1 / num2)\n",
    "print('Division (floor): divides the first operand by the second // ',num1 // num2)\n",
    "print('Modulus: returns the remainder when the first operand is divided by the second % ',num1 % num2)\n",
    "print('Power (Exponent): Returns first raised to power second ** ',num1 ** num2)"
   ]
  },
  {
   "cell_type": "code",
   "execution_count": 6,
   "metadata": {},
   "outputs": [
    {
     "name": "stdout",
     "output_type": "stream",
     "text": [
      "20880467999847912034355032910567\n",
      "150.66666666666666\n",
      "150\n"
     ]
    }
   ],
   "source": [
    "number1 = 23\n",
    "print(number1 ** number1)\n",
    "\n",
    "print(452/3)\n",
    "print(452//3)"
   ]
  },
  {
   "cell_type": "code",
   "execution_count": 15,
   "metadata": {},
   "outputs": [
    {
     "name": "stdout",
     "output_type": "stream",
     "text": [
      "Greater than: True if the left operand is greater than the right >  True\n",
      "Less than: True if the left operand is less than the right <  False\n",
      "Equal to: True if both operands are equal ==  True\n",
      "Not equal to – True if operands are not equal !=  True\n",
      "Greater than or equal to: True if left operand is greater than or equal to the right >=  True\n",
      "Less than or equal to: True if left operand is less than or equal to the right <=  False\n"
     ]
    }
   ],
   "source": [
    "# Relational Operators\n",
    "\n",
    "print('Greater than: True if the left operand is greater than the right > ', 67 > 22)\n",
    "print('Less than: True if the left operand is less than the right < ',67 < 22)\n",
    "print('Equal to: True if both operands are equal == ',23 == 23)\n",
    "print('Not equal to – True if operands are not equal != ', 67 != 69)\n",
    "print('Greater than or equal to: True if left operand is greater than or equal to the right >= ',91 >= 90)\n",
    "print('Less than or equal to: True if left operand is less than or equal to the right <= ',34 <= 22)\n"
   ]
  },
  {
   "cell_type": "code",
   "execution_count": 15,
   "metadata": {},
   "outputs": [
    {
     "name": "stdout",
     "output_type": "stream",
     "text": [
      "True\n",
      "False\n",
      "False\n",
      "True\n",
      "False\n",
      "False\n"
     ]
    }
   ],
   "source": [
    "print(45 < 46)\n",
    "print(45 <= 44)\n",
    "print(45 > 46)\n",
    "print(45 >= 44)\n",
    "print(23 == 34)\n",
    "print(34 != 34)"
   ]
  },
  {
   "cell_type": "code",
   "execution_count": 20,
   "metadata": {},
   "outputs": [
    {
     "name": "stdout",
     "output_type": "stream",
     "text": [
      "False\n",
      "True\n",
      "False\n"
     ]
    }
   ],
   "source": [
    "# Logical Operators\n",
    "# and = Logical AND: True if both the operands are true\n",
    "print(23 < 34 and 22 < 11)\n",
    "#       T           F\n",
    "\n",
    "# or  = Logical OR: True if either of the operands is true\n",
    "print(23 < 34 or 22 < 11)\n",
    "#       T           F\n",
    "# not = Logical NOT: True if operand is false\n",
    "print( 34 != 34)"
   ]
  },
  {
   "cell_type": "code",
   "execution_count": 22,
   "metadata": {},
   "outputs": [
    {
     "name": "stdout",
     "output_type": "stream",
     "text": [
      "400\n",
      "410\n",
      "4100\n",
      "410.0\n",
      "400.0\n",
      "40.0\n"
     ]
    }
   ],
   "source": [
    "# Assignment Operators \n",
    "\n",
    "number =  400\n",
    "print(number)\n",
    "\n",
    "# number = number + 10\n",
    "\n",
    "number += 10\n",
    "print(number)\n",
    "\n",
    "# number = number * 10\n",
    "number *= 10\n",
    "print(number)\n",
    "\n",
    "# number = number / 10\n",
    "number /= 10\n",
    "print(number)\n",
    "\n",
    "number -= 10\n",
    "print(number)\n",
    "\n",
    "number //= 10\n",
    "print(number)"
   ]
  },
  {
   "cell_type": "code",
   "execution_count": 28,
   "metadata": {},
   "outputs": [
    {
     "name": "stdout",
     "output_type": "stream",
     "text": [
      "True\n",
      "True\n",
      "False\n",
      "False\n",
      "True\n",
      "True\n",
      "False\n"
     ]
    }
   ],
   "source": [
    "# Membership Operators\n",
    "\n",
    "# in\n",
    "\n",
    "name = \"p4n.in\"\n",
    "\n",
    "print(name in 'p4n.in')\n",
    "print(name in 'p4n.in@codeswithjpankaj')\n",
    "print(name in 'p')\n",
    "\n",
    "# not in \n",
    "\n",
    "print(name not in 'p4n.in')\n",
    "print(name not in 'p4n')\n",
    "\n",
    "# Example :\n",
    "msg = \"codeswithpankaj.com\" \n",
    "\n",
    "print('c' in msg)\n",
    "print('z' in msg)\n"
   ]
  },
  {
   "cell_type": "code",
   "execution_count": 29,
   "metadata": {},
   "outputs": [
    {
     "name": "stdout",
     "output_type": "stream",
     "text": [
      "False\n",
      "True\n"
     ]
    }
   ],
   "source": [
    "# Identity Operators\n",
    "\n",
    "n1 = 10\n",
    "n2 = 20 \n",
    "\n",
    "# is\n",
    "print(n1 is n2) # ==\n",
    "\n",
    "# is not \n",
    "print(n1 is not n2)"
   ]
  }
 ],
 "metadata": {
  "kernelspec": {
   "display_name": "Python 3",
   "language": "python",
   "name": "python3"
  },
  "language_info": {
   "codemirror_mode": {
    "name": "ipython",
    "version": 3
   },
   "file_extension": ".py",
   "mimetype": "text/x-python",
   "name": "python",
   "nbconvert_exporter": "python",
   "pygments_lexer": "ipython3",
   "version": "3.10.8"
  },
  "orig_nbformat": 4
 },
 "nbformat": 4,
 "nbformat_minor": 2
}
