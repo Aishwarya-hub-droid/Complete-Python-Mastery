{
 "cells": [
  {
   "cell_type": "markdown",
   "metadata": {},
   "source": [
    "### Operators\n",
    "Python provides a wide range of operators that allow you to perform various operations on values and variables. Here are some of the most commonly used operators in Python:\n",
    "\n",
    "Arithmetic Operators:\n",
    "\n",
    "1. Addition: +\n",
    "2. Subtraction: -\n",
    "3. Multiplication: *\n",
    "4. Division: /\n",
    "5. Modulo (Remainder): %\n",
    "6. Exponentiation: **\n",
    "7. Floor Division: //"
   ]
  },
  {
   "cell_type": "code",
   "execution_count": 2,
   "metadata": {},
   "outputs": [
    {
     "name": "stdout",
     "output_type": "stream",
     "text": [
      "Addition : of Number :  172\n",
      "Subtraction : of Number :  112\n",
      "Multiplication : of Number :  4260\n",
      "Division : of Number :  4.733333333333333\n",
      "Modulo : of Number :  22\n",
      "Exponentiation : of Number :  37038239146735245951344493404263805570342620292107169670023348224\n",
      "Floor Division : of Number :  4\n"
     ]
    }
   ],
   "source": [
    "# example \n",
    "\n",
    "number1 = 142\n",
    "Number2 = 30\n",
    "print('Addition : of Number : ',number1+Number2)\n",
    "print('Subtraction : of Number : ',number1-Number2)\n",
    "print('Multiplication : of Number : ',number1*Number2)\n",
    "print('Division : of Number : ',number1/Number2)\n",
    "print('Modulo : of Number : ',number1%Number2)\n",
    "print('Exponentiation : of Number : ',number1**Number2)\n",
    "print('Floor Division : of Number : ',number1//Number2)"
   ]
  },
  {
   "cell_type": "markdown",
   "metadata": {},
   "source": [
    "### Comparison Operators:\n",
    "\n",
    "1. Equal to: ==\n",
    "2. Not equal to: !=\n",
    "3. Greater than: >\n",
    "4. Less than: <\n",
    "5. Greater than or equal to: >=\n",
    "6. Less than or equal to: <="
   ]
  },
  {
   "cell_type": "code",
   "execution_count": 10,
   "metadata": {},
   "outputs": [
    {
     "name": "stdout",
     "output_type": "stream",
     "text": [
      "Equal ==  False\n",
      "Not Equal to :  True\n",
      "Greater than :  False\n",
      "Less than :  True\n",
      "Greater Than or Equal to :  True\n",
      "Less than or equal to :  True\n"
     ]
    }
   ],
   "source": [
    "# Example\n",
    "# 1. Equal to: ==\n",
    "print('Equal == ',56 == 67)\n",
    "# 2. Not equal to: !=\n",
    "print('Not Equal to : ', 34 != 56)\n",
    "# 3. Greater than: >\n",
    "print('Greater than : ',45 > 78)\n",
    "# 4. Less than: <\n",
    "print('Less than : ',34 < 56)\n",
    "# 5. Greater than or equal to: >=\n",
    "print('Greater Than or Equal to : ',46 >= 45)\n",
    "# 6. Less than or equal to: <=\n",
    "print('Less than or equal to : ', 45 <= 56)"
   ]
  },
  {
   "cell_type": "markdown",
   "metadata": {},
   "source": [
    "### Assignment Operators:\n",
    "\n",
    "1. Assignment: =\n",
    "2. Addition assignment: +=\n",
    "3. Subtraction assignment: -=\n",
    "4. Multiplication assignment: *=\n",
    "5. Division assignment: /=\n",
    "6. Modulo assignment: %=\n",
    "7. Exponentiation assignment: **=\n",
    "8. Floor division assignment: //="
   ]
  },
  {
   "cell_type": "code",
   "execution_count": 14,
   "metadata": {},
   "outputs": [
    {
     "name": "stdout",
     "output_type": "stream",
     "text": [
      "10\n",
      "20\n",
      "30\n",
      "20\n",
      "200\n",
      "20.0\n",
      "0.0\n",
      "0.0\n",
      "0.0\n"
     ]
    }
   ],
   "source": [
    "a = 10\n",
    "print(a)\n",
    "\n",
    "# a = a + 10\n",
    "# print(a)\n",
    "\n",
    "# 2. Addition assignment: +=\n",
    "a += 10\n",
    "print(a)\n",
    "# 3. Subtraction assignment: -=\n",
    "a -= 10\n",
    "print(a)\n",
    "# 4. Multiplication assignment: *=\n",
    "a *= 10\n",
    "print(a)\n",
    "# 5. Division assignment: /=\n",
    "a /= 10\n",
    "print(a)\n",
    "# 6. Modulo assignment: %=\n",
    "a %= 10\n",
    "print(a)\n",
    "# 7. Exponentiation assignment: **=\n",
    "a **= 10\n",
    "print(a)\n",
    "# 8. Floor division assignment: //=\n",
    "a //= 10\n",
    "print(a)"
   ]
  },
  {
   "cell_type": "markdown",
   "metadata": {},
   "source": [
    "### Logical Operators:\n",
    "\n",
    "1. Logical AND: and\n",
    "2. Logical OR: or\n",
    "3. Logical NOT: not"
   ]
  },
  {
   "cell_type": "code",
   "execution_count": 17,
   "metadata": {},
   "outputs": [
    {
     "name": "stdout",
     "output_type": "stream",
     "text": [
      "False\n",
      "True\n",
      "True\n"
     ]
    }
   ],
   "source": [
    "print(34 < 78 and 45 == 67)\n",
    "print(34 < 78 or 45 == 67)\n",
    "print(34 != 56)\n",
    "\n"
   ]
  },
  {
   "cell_type": "markdown",
   "metadata": {},
   "source": [
    "### Membership Operators:\n",
    "\n",
    "1. in: Evaluates if a value is present in a sequence.\n",
    "2. not in: Evaluates if a value is not present in a sequence."
   ]
  },
  {
   "cell_type": "code",
   "execution_count": 20,
   "metadata": {},
   "outputs": [
    {
     "name": "stdout",
     "output_type": "stream",
     "text": [
      "True\n",
      "False\n",
      "False\n",
      "True\n"
     ]
    }
   ],
   "source": [
    "# example :\n",
    "\n",
    "website = 'codeswithpankaj'\n",
    "\n",
    "print('c' in website)\n",
    "print('z' in website)\n",
    "\n",
    "print('c' not in website)\n",
    "print('z' not in website)"
   ]
  },
  {
   "cell_type": "markdown",
   "metadata": {},
   "source": [
    "### Identity Operators:\n",
    "\n",
    "1. is: Evaluates if two variables refer to the same object.\n",
    "2. is not: Evaluates if two variables do not refer to the same object."
   ]
  },
  {
   "cell_type": "code",
   "execution_count": 22,
   "metadata": {},
   "outputs": [
    {
     "name": "stdout",
     "output_type": "stream",
     "text": [
      "False\n",
      "True\n"
     ]
    }
   ],
   "source": [
    "n0 = 10\n",
    "n1 = 45\n",
    "\n",
    "print( n0 is n1)\n",
    "print( n0 is not n1)"
   ]
  }
 ],
 "metadata": {
  "kernelspec": {
   "display_name": "Python 3",
   "language": "python",
   "name": "python3"
  },
  "language_info": {
   "codemirror_mode": {
    "name": "ipython",
    "version": 3
   },
   "file_extension": ".py",
   "mimetype": "text/x-python",
   "name": "python",
   "nbconvert_exporter": "python",
   "pygments_lexer": "ipython3",
   "version": "3.10.8"
  }
 },
 "nbformat": 4,
 "nbformat_minor": 2
}
