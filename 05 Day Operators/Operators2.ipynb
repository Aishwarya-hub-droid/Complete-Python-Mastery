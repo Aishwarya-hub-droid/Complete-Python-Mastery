{
  "cells": [
    {
      "cell_type": "code",
      "execution_count": 1,
      "metadata": {
        "trusted": true
      },
      "outputs": [
        {
          "name": "stdout",
          "output_type": "stream",
          "text": [
            "Addition   50\n",
            "Subtraction  -30\n",
            "Multiplication  400\n",
            "Division  48.333333333333336\n",
            "Modulo  0\n",
            "Exponentiation  3048625\n",
            "Floor Division  48\n"
          ]
        }
      ],
      "source": [
        "# Arithmetic Operators\n",
        "\n",
        "# Addition: +\n",
        "print(\"Addition  \",10+40)\n",
        "# Subtraction: -\n",
        "print(\"Subtraction \",10-40)\n",
        "# Multiplication: *\n",
        "print(\"Multiplication \",10*40)\n",
        "# Division: /\n",
        "print(\"Division \",145/3)\n",
        "# Modulo (Remainder): %\n",
        "print(\"Modulo \",140 % 2)\n",
        "# Exponentiation: **\n",
        "print(\"Exponentiation \",145**3)\n",
        "# Floor Division: //\n",
        "print(\"Floor Division \",145//3)\n"
      ]
    },
    {
      "cell_type": "code",
      "execution_count": 6,
      "metadata": {
        "trusted": true
      },
      "outputs": [
        {
          "name": "stdout",
          "output_type": "stream",
          "text": [
            "Equal to: ==  False\n",
            "Not equal to: !=  True\n",
            "Greater than: >  False\n",
            "Less than: <  True\n",
            "Greater than or equal to: >=  True\n",
            "Less than or equal to: <=  True\n"
          ]
        }
      ],
      "source": [
        "# Comparison Operators:\n",
        "#     Equal to: ==\n",
        "print(\"Equal to: == \", 40 == 56)\n",
        "#     Not equal to: !=\n",
        "print(\"Not equal to: != \", 34 != 56)\n",
        "#     Greater than: >\n",
        "print(\"Greater than: > \",34 > 56)\n",
        "#     Less than: <\n",
        "print(\"Less than: < \",34 < 56)\n",
        "#     Greater than or equal to: >=\n",
        "print(\"Greater than or equal to: >= \",340 >= 34)\n",
        "#     Less than or equal to: <=\n",
        "print(\"Less than or equal to: <= \",34 <= 56)\n"
      ]
    },
    {
      "cell_type": "code",
      "execution_count": 8,
      "metadata": {
        "trusted": true
      },
      "outputs": [
        {
          "name": "stdout",
          "output_type": "stream",
          "text": [
            "90\n",
            "100\n",
            "90\n",
            "900\n",
            "90.0\n",
            "0.0\n",
            "0.0\n",
            "0.0\n"
          ]
        }
      ],
      "source": [
        "# Assignment Operators:\n",
        "\n",
        "#     Assignment: =\n",
        "number  = 90\n",
        "print(number)\n",
        "#     Addition assignment: +=\n",
        "\n",
        "# number = number + 10\n",
        "number +=10\n",
        "print(number)\n",
        "#     Subtraction assignment: -=\n",
        "number -=10\n",
        "print(number)\n",
        "#     Multiplication assignment: *=\n",
        "number *=10\n",
        "print(number)\n",
        "#     Division assignment: /=\n",
        "number /=10\n",
        "print(number)\n",
        "#     Modulo assignment: %=\n",
        "number %=10\n",
        "print(number)\n",
        "#     Exponentiation assignment: **=\n",
        "number **=10\n",
        "print(number)\n",
        "#     Floor division assignment: //=\n",
        "number //=10\n",
        "print(number)\n"
      ]
    },
    {
      "cell_type": "code",
      "execution_count": 12,
      "metadata": {
        "trusted": true
      },
      "outputs": [
        {
          "name": "stdout",
          "output_type": "stream",
          "text": [
            "False\n",
            "False\n",
            "True\n",
            "False\n",
            "False\n",
            "True\n"
          ]
        }
      ],
      "source": [
        "# Logical Operators:\n",
        "\n",
        "#     Logical AND: and\n",
        "#     Logical OR: or\n",
        "#     Logical NOT: not !\n",
        "\n",
        "#     Logical AND: and\n",
        "# left side | right side  = result\n",
        "#    T      |    T        =   T\n",
        "#    T      |    F        =   F\n",
        "#    F      |    T        =   F\n",
        "#    F      |    F        =   F\n",
        "\n",
        "print( 34 < 89 and 45 > 78 )\n",
        "#         T           F\n",
        "print(45 <= 43 and 23 != 67)\n",
        "\n",
        "\n",
        "\n",
        "#     Logical OR: or\n",
        "# left side | right side  = result\n",
        "#    T      |    T        =   T\n",
        "#    T      |    F        =   T\n",
        "#    F      |    T        =   T\n",
        "#    F      |    F        =   F\n",
        "print( 34 < 89 or 45 > 78 )\n",
        "#         T           F\n",
        "print(45 <= 43 and 23 != 67)\n",
        "\n",
        "print(67 != 67)\n",
        "\n",
        "# Example :-\n",
        "\n",
        "print(34 < 45 and 56 > 78 or 67 != 90)\n",
        "#       t           f           t \n",
        "#           f                 \n",
        "#                   t"
      ]
    },
    {
      "cell_type": "code",
      "execution_count": 16,
      "metadata": {
        "trusted": true
      },
      "outputs": [
        {
          "name": "stdout",
          "output_type": "stream",
          "text": [
            "False\n",
            "True\n",
            "True\n",
            "False\n",
            "False\n",
            "True\n"
          ]
        }
      ],
      "source": [
        "# Membership Operators:\n",
        "\n",
        "#     in: Evaluates if a value is present in a sequence.\n",
        "\n",
        "msg = 'codeswithpankaj.com'\n",
        "\n",
        "print('r' in msg)\n",
        "print('c' in msg)\n",
        "\n",
        "#     not in: Evaluates if a value is not present in a sequence.\n",
        "\n",
        "print('r' not in msg)\n",
        "print('c' not in msg)\n",
        "\n",
        "# example -1 \n",
        "data = [45,33,22,11]\n",
        "print(23 in data)\n",
        "print(23 not in data)\n"
      ]
    },
    {
      "cell_type": "code",
      "execution_count": 17,
      "metadata": {
        "trusted": true
      },
      "outputs": [
        {
          "name": "stdout",
          "output_type": "stream",
          "text": [
            "False\n",
            "True\n"
          ]
        }
      ],
      "source": [
        "# Identity Operators:\n",
        "\n",
        "#     is: Evaluates if two variables refer to the same object.\n",
        "\n",
        "a = 'p4n.in'\n",
        "b = 'pn2.in'\n",
        "\n",
        "print(a is b) # ==\n",
        "\n",
        "#     is not: Evaluates if two variables do not refer to the same object.\n",
        "\n",
        "print(a is not b) # !=\n"
      ]
    }
  ],
  "metadata": {
    "kernelspec": {
      "display_name": "Python 3",
      "language": "python",
      "name": "python3"
    },
    "language_info": {
      "codemirror_mode": {
        "name": "ipython",
        "version": 3
      },
      "file_extension": ".py",
      "mimetype": "text/x-python",
      "name": "python",
      "nbconvert_exporter": "python",
      "pygments_lexer": "ipython3",
      "version": "3.10.8"
    }
  },
  "nbformat": 4,
  "nbformat_minor": 4
}
