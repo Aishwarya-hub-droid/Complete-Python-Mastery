{
  "metadata": {
    "kernelspec": {
      "name": "python",
      "display_name": "Python (Pyodide)",
      "language": "python"
    },
    "language_info": {
      "codemirror_mode": {
        "name": "python",
        "version": 3
      },
      "file_extension": ".py",
      "mimetype": "text/x-python",
      "name": "python",
      "nbconvert_exporter": "python",
      "pygments_lexer": "ipython3",
      "version": "3.8"
    }
  },
  "nbformat_minor": 4,
  "nbformat": 4,
  "cells": [
    {
      "cell_type": "code",
      "source": "# if\n\nnumber1 = 14\nnumber2 = 30\n\n# find the smallest value \n\nif number1 < number2:\n    print(\"Number 1 is samllest...\")",
      "metadata": {
        "trusted": true
      },
      "outputs": [
        {
          "name": "stdout",
          "text": "Number 1 is samllest...\n",
          "output_type": "stream"
        }
      ],
      "execution_count": 3
    },
    {
      "cell_type": "code",
      "source": "# find the smallest between 2 numbers \nnumber1 = 10\nnumber2 = 30\n\nif number1 < number2:\n   print(\"number 1 is smallest .value\")\nelse:\n   print(\"Number 1 is not smallest . value\")\n    ",
      "metadata": {
        "trusted": true
      },
      "outputs": [
        {
          "name": "stdout",
          "text": "number 1 is smallest .value\n",
          "output_type": "stream"
        }
      ],
      "execution_count": 5
    },
    {
      "cell_type": "code",
      "source": "# find the smallest value between 3 numbers \n\nnumber1 = 90\nnumber2 = 45\nnumber3 = 78\n\n# basic logic \nif number1 < number2:\n    print(\"number 1 is smallest..\")\nelif number1 < number3:\n    print(\"number 1 is smallest..\")\nelif number2 < number1:\n    print(\"number 2 is smallest..\")\nelif number2 < number3:\n    print(\"number 2 is smallest..\") \nelif number3 < number1:\n    print(\"number 3 is smallest..\") \nelif number3 < number2:\n    print(\"number 3 is smallest..\") \n",
      "metadata": {
        "trusted": true
      },
      "outputs": [
        {
          "name": "stdout",
          "text": "number 2 is smallest..\n",
          "output_type": "stream"
        }
      ],
      "execution_count": 7
    },
    {
      "cell_type": "code",
      "source": "# find the smallest value between 3 numbers \n\nnumber1 = 9\nnumber2 = 45\nnumber3 = 7\n\n# advance logic \n\nif number1 < number2 and number1 < number3:\n    print(\"Number 1 is smallest \")\nelif number2 < number1 and number2 < number3:\n    print(\"Number 2 is smallest \") \nelse:\n    print(\"Number 3 is smallest \") \n    ",
      "metadata": {
        "trusted": true
      },
      "outputs": [
        {
          "name": "stdout",
          "text": "Number 3 is smallest \n",
          "output_type": "stream"
        }
      ],
      "execution_count": 10
    }
  ]
}