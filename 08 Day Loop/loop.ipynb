{
  "metadata": {
    "kernelspec": {
      "name": "python",
      "display_name": "Python (Pyodide)",
      "language": "python"
    },
    "language_info": {
      "codemirror_mode": {
        "name": "python",
        "version": 3
      },
      "file_extension": ".py",
      "mimetype": "text/x-python",
      "name": "python",
      "nbconvert_exporter": "python",
      "pygments_lexer": "ipython3",
      "version": "3.8"
    }
  },
  "nbformat_minor": 4,
  "nbformat": 4,
  "cells": [
    {
      "cell_type": "code",
      "source": "# find the char in word \ndata = \"cwpc\"\n\nfor i in data:\n    print(i)",
      "metadata": {
        "trusted": true
      },
      "outputs": [
        {
          "name": "stdout",
          "text": "c\nw\np\nc\n",
          "output_type": "stream"
        }
      ],
      "execution_count": 13
    },
    {
      "cell_type": "code",
      "source": "# range(end) - always start with zero \nfor i in range(10):\n    print(i)",
      "metadata": {
        "trusted": true
      },
      "outputs": [
        {
          "name": "stdout",
          "text": "0\n1\n2\n3\n4\n5\n6\n7\n8\n9\n",
          "output_type": "stream"
        }
      ],
      "execution_count": 14
    },
    {
      "cell_type": "code",
      "source": "# range(start,end) # example - range(21,45) start = 21 and end 44\n\nfor i in range(21,44):\n    print(i)",
      "metadata": {
        "trusted": true
      },
      "outputs": [
        {
          "name": "stdout",
          "text": "21\n22\n23\n24\n25\n26\n27\n28\n29\n30\n31\n32\n33\n34\n35\n36\n37\n38\n39\n40\n41\n42\n43\n",
          "output_type": "stream"
        }
      ],
      "execution_count": 15
    },
    {
      "cell_type": "code",
      "source": "# range(start,end,steps) \n# example range(1,15,2) output = 1,3,5,7,9,11,13 \nfor i in range(1,15,2):\n    print(i)",
      "metadata": {
        "trusted": true
      },
      "outputs": [
        {
          "name": "stdout",
          "text": "1\n3\n5\n7\n9\n11\n13\n",
          "output_type": "stream"
        }
      ],
      "execution_count": 17
    },
    {
      "cell_type": "code",
      "source": "# print table \nfor i in range(1,11):\n    print(i*2)",
      "metadata": {
        "trusted": true
      },
      "outputs": [
        {
          "name": "stdout",
          "text": "2\n4\n6\n8\n10\n12\n14\n16\n18\n20\n",
          "output_type": "stream"
        }
      ],
      "execution_count": 7
    },
    {
      "cell_type": "code",
      "source": "# print table using userinput\ntable = 3\nfor i in range(1,11):\n    print(i*table)",
      "metadata": {
        "trusted": true
      },
      "outputs": [
        {
          "name": "stdout",
          "text": "3\n6\n9\n12\n15\n18\n21\n24\n27\n30\n",
          "output_type": "stream"
        }
      ],
      "execution_count": 11
    },
    {
      "cell_type": "code",
      "source": "# user input start and end \n\nstart =  2\nend = 10\nfor i in range(start,end):\n    print(i)\n    ",
      "metadata": {
        "trusted": true
      },
      "outputs": [
        {
          "name": "stdout",
          "text": "2\n3\n4\n5\n6\n7\n8\n9\n",
          "output_type": "stream"
        }
      ],
      "execution_count": 19
    },
    {
      "cell_type": "code",
      "source": "# end=''\nfor i in range(1,20):\n    print(i,end=\" \")",
      "metadata": {
        "trusted": true
      },
      "outputs": [
        {
          "name": "stdout",
          "text": "12345678910111213141516171819",
          "output_type": "stream"
        }
      ],
      "execution_count": 22
    },
    {
      "cell_type": "code",
      "source": "# start = 65\n# end value = 91\n\n# chr() change to  ASCII value to char\n# ord() change to  char to ASCII value \n\nfor i in range(65,91):\n    print(chr(i),end=' ')",
      "metadata": {
        "trusted": true
      },
      "outputs": [
        {
          "name": "stdout",
          "text": "A B C D E F G H I J K L M N O P Q R S T U V W X Y Z ",
          "output_type": "stream"
        }
      ],
      "execution_count": 24
    },
    {
      "cell_type": "code",
      "source": "start_char = 'p'\nend_char = 'z'\n\nstart = ord(start_char)\nend = ord(end_char)\n\nfor i in range(start,end+1):\n    print(chr(i),end=' ')\n",
      "metadata": {
        "trusted": true
      },
      "outputs": [
        {
          "name": "stdout",
          "text": "p q r s t u v w x y z ",
          "output_type": "stream"
        }
      ],
      "execution_count": 27
    }
  ]
}