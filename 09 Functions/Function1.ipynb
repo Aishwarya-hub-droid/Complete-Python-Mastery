{
 "cells": [
  {
   "cell_type": "code",
   "execution_count": 6,
   "metadata": {},
   "outputs": [],
   "source": [
    "def info():\n",
    "    print(\"www.codeswithpankaj.com\")\n",
    "    print(\"www.p4n.in\")"
   ]
  },
  {
   "cell_type": "code",
   "execution_count": 5,
   "metadata": {},
   "outputs": [
    {
     "name": "stdout",
     "output_type": "stream",
     "text": [
      "www.codeswithpankaj.com\n",
      "www.p4n.in\n",
      "www.codeswithpankaj.com\n",
      "www.p4n.in\n"
     ]
    }
   ],
   "source": [
    "# calling function \n",
    "info()\n",
    "info()"
   ]
  },
  {
   "cell_type": "code",
   "execution_count": 13,
   "metadata": {},
   "outputs": [],
   "source": [
    "# arg\n",
    "def gst(price,tax):\n",
    "    final_price = price*tax/100\n",
    "    print(\"Your GST % : \",tax,\"%\")\n",
    "    print(\"Your GST Amount : \",final_price,\" ₹\")\n",
    "    print(\"Your MRP : \",(final_price+price),\" ₹\")\n",
    "    print('------------------------------')"
   ]
  },
  {
   "cell_type": "code",
   "execution_count": 16,
   "metadata": {},
   "outputs": [
    {
     "name": "stdout",
     "output_type": "stream",
     "text": [
      "Your GST % :  18 %\n",
      "Your GST Amount :  216.0  ₹\n",
      "Your MRP :  1416.0  ₹\n",
      "------------------------------\n",
      "Your GST % :  2 %\n",
      "Your GST Amount :  90.0  ₹\n",
      "Your MRP :  4590.0  ₹\n",
      "------------------------------\n",
      "Your GST % :  9 %\n",
      "Your GST Amount :  720.0  ₹\n",
      "Your MRP :  8720.0  ₹\n",
      "------------------------------\n"
     ]
    }
   ],
   "source": [
    "gst(1200,18)\n",
    "gst(4500,2)\n",
    "gst(8000,9)"
   ]
  },
  {
   "cell_type": "code",
   "execution_count": 17,
   "metadata": {},
   "outputs": [],
   "source": [
    "# Return type\n",
    "\n",
    "def price():\n",
    "    return 400"
   ]
  },
  {
   "cell_type": "code",
   "execution_count": 19,
   "metadata": {},
   "outputs": [
    {
     "name": "stdout",
     "output_type": "stream",
     "text": [
      "Your Price : -  400\n"
     ]
    }
   ],
   "source": [
    "print(\"Your Price : - \",price())"
   ]
  }
 ],
 "metadata": {
  "kernelspec": {
   "display_name": "Python 3",
   "language": "python",
   "name": "python3"
  },
  "language_info": {
   "codemirror_mode": {
    "name": "ipython",
    "version": 3
   },
   "file_extension": ".py",
   "mimetype": "text/x-python",
   "name": "python",
   "nbconvert_exporter": "python",
   "pygments_lexer": "ipython3",
   "version": "3.10.8"
  }
 },
 "nbformat": 4,
 "nbformat_minor": 2
}
