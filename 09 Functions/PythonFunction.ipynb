{
 "cells": [
  {
   "cell_type": "code",
   "execution_count": null,
   "metadata": {},
   "outputs": [],
   "source": [
    "# --> https://www.p4n.store/python/python-functions/python-functions\n",
    "\n",
    "#def function_name():\n",
    "    # Function body - code that defines what the function does"
   ]
  },
  {
   "cell_type": "code",
   "execution_count": 1,
   "metadata": {},
   "outputs": [],
   "source": [
    "def WebAddress():\n",
    "    print(\"www.codeswithpankaj.com\")\n",
    "    print(\"www.p4n.in\")"
   ]
  },
  {
   "cell_type": "code",
   "execution_count": 3,
   "metadata": {},
   "outputs": [
    {
     "name": "stdout",
     "output_type": "stream",
     "text": [
      "www.codeswithpankaj.com\n",
      "www.p4n.in\n",
      "www.codeswithpankaj.com\n",
      "www.p4n.in\n"
     ]
    }
   ],
   "source": [
    "# calling function \n",
    "WebAddress()\n",
    "WebAddress()"
   ]
  },
  {
   "cell_type": "code",
   "execution_count": 4,
   "metadata": {},
   "outputs": [],
   "source": [
    "# https://www.p4n.store/python/python-functions/python-functions#h.tpdcnui0kmvn\n",
    "\n",
    "def info(name,age,height):\n",
    "    print('My Name is : ',name)\n",
    "    print('My age is : ',age)\n",
    "    print('My height is : ',height)"
   ]
  },
  {
   "cell_type": "code",
   "execution_count": 7,
   "metadata": {},
   "outputs": [
    {
     "name": "stdout",
     "output_type": "stream",
     "text": [
      "My Name is :  Rahul\n",
      "My age is :  18\n",
      "My height is :  5.3\n",
      "My Name is :  Amina\n",
      "My age is :  20\n",
      "My height is :  5.9\n"
     ]
    }
   ],
   "source": [
    "info('Rahul',18,5.3)\n",
    "info('Amina',20,5.9)"
   ]
  },
  {
   "cell_type": "code",
   "execution_count": 1,
   "metadata": {},
   "outputs": [],
   "source": [
    "def bill(food,price,gst,qt):\n",
    "    QtPrice = price * qt\n",
    "    GstAmount = QtPrice*gst/100\n",
    "    FinalPrice = QtPrice +GstAmount\n",
    "    print('----------Bill----------')\n",
    "    print('Food - : ',food)\n",
    "    print('Food QT = ',qt)\n",
    "    print('Price = ',price,'₹')\n",
    "    print('GST : ',gst,'%')\n",
    "    print('GST = ',gst,'%',' Amount : = ',GstAmount,'₹')\n",
    "    print('Final QT Price : ',QtPrice,'₹')\n",
    "    print('Total Bill Amount : ',FinalPrice,'₹')\n",
    "    print('---------------------------') \n"
   ]
  },
  {
   "cell_type": "code",
   "execution_count": 11,
   "metadata": {},
   "outputs": [
    {
     "name": "stdout",
     "output_type": "stream",
     "text": [
      "----------Bill----------\n",
      "Food - :  samosa\n",
      "Food QT =  8\n",
      "Price =  230 ₹\n",
      "GST :  2 %\n",
      "GST =  2 %  Amount : =  36.8 ₹\n",
      "Final QT Price :  1840 ₹\n",
      "Total Bill Amount :  1876.8 ₹\n",
      "---------------------------\n",
      "----------Bill----------\n",
      "Food - :  Jalebi\n",
      "Food QT =  150\n",
      "Price =  560 ₹\n",
      "GST :  18 %\n",
      "GST =  18 %  Amount : =  15120.0 ₹\n",
      "Final QT Price :  84000 ₹\n",
      "Total Bill Amount :  99120.0 ₹\n",
      "---------------------------\n",
      "----------Bill----------\n",
      "Food - :  Toy\n",
      "Food QT =  6\n",
      "Price =  5630 ₹\n",
      "GST :  9 %\n",
      "GST =  9 %  Amount : =  3040.2 ₹\n",
      "Final QT Price :  33780 ₹\n",
      "Total Bill Amount :  36820.2 ₹\n",
      "---------------------------\n"
     ]
    }
   ],
   "source": [
    "bill('samosa',230,2,8)\n",
    "bill('Jalebi',560,18,150)\n",
    "bill('Toy',5630,9,6)"
   ]
  },
  {
   "cell_type": "code",
   "execution_count": 5,
   "metadata": {},
   "outputs": [
    {
     "name": "stdout",
     "output_type": "stream",
     "text": [
      "codeswithpankaj.com\n",
      "codeswithpankaj.com\n"
     ]
    }
   ],
   "source": [
    "# function : \n",
    "\n",
    "def msg():\n",
    "    print(\"codeswithpankaj.com\")    \n",
    "\n",
    "# calling function\n",
    "msg() \n",
    "msg()    "
   ]
  },
  {
   "cell_type": "code",
   "execution_count": 7,
   "metadata": {},
   "outputs": [],
   "source": [
    "def info():\n",
    "    print('Name : ','joy')\n",
    "    print('Age : ',23)\n",
    "    print('height : ',4.5)"
   ]
  },
  {
   "cell_type": "code",
   "execution_count": 9,
   "metadata": {},
   "outputs": [
    {
     "name": "stdout",
     "output_type": "stream",
     "text": [
      "Name :  joy\n",
      "Age :  23\n",
      "Name :  4.5\n",
      "Name :  joy\n",
      "Age :  23\n",
      "Name :  4.5\n"
     ]
    }
   ],
   "source": [
    "info()"
   ]
  },
  {
   "cell_type": "code",
   "execution_count": 13,
   "metadata": {},
   "outputs": [],
   "source": [
    "# arguments\n",
    "def info(name,age,height):\n",
    "    print('---------------')\n",
    "    print('Name : ',name)\n",
    "    print('Age : ',age)\n",
    "    print('height : ',height)\n",
    "    print('---------------')"
   ]
  },
  {
   "cell_type": "code",
   "execution_count": 14,
   "metadata": {},
   "outputs": [
    {
     "name": "stdout",
     "output_type": "stream",
     "text": [
      "---------------\n",
      "Name :  joy\n",
      "Age :  23\n",
      "height :  5.6\n",
      "---------------\n",
      "---------------\n",
      "Name :  Toy\n",
      "Age :  12\n",
      "height :  3.6\n",
      "---------------\n"
     ]
    }
   ],
   "source": [
    "info(\"joy\",23,5.6);\n",
    "info(\"Toy\",12,3.6);"
   ]
  },
  {
   "cell_type": "code",
   "execution_count": 17,
   "metadata": {},
   "outputs": [],
   "source": [
    "def tax(price,gst):\n",
    "    gst_amount = price*gst/100\n",
    "    final_price = gst_amount+price\n",
    "    print('GST = ',gst,'%')\n",
    "    print('Amount = ',price,'₹')\n",
    "    print('GST Amount = ',gst_amount,'₹')\n",
    "    print('MRP = ',final_price,'₹')\n",
    "    print('-----------------')\n"
   ]
  },
  {
   "cell_type": "code",
   "execution_count": 18,
   "metadata": {},
   "outputs": [
    {
     "name": "stdout",
     "output_type": "stream",
     "text": [
      "GST =  18 %\n",
      "Amount =  1200 ₹\n",
      "GST Amount =  216.0 ₹\n",
      "MRP =  1416.0 ₹\n",
      "-----------------\n",
      "GST =  9 %\n",
      "Amount =  4590 ₹\n",
      "GST Amount =  413.1 ₹\n",
      "MRP =  5003.1 ₹\n",
      "-----------------\n"
     ]
    }
   ],
   "source": [
    "tax(1200,18)\n",
    "tax(4590,9)"
   ]
  }
 ],
 "metadata": {
  "kernelspec": {
   "display_name": "Python 3",
   "language": "python",
   "name": "python3"
  },
  "language_info": {
   "codemirror_mode": {
    "name": "ipython",
    "version": 3
   },
   "file_extension": ".py",
   "mimetype": "text/x-python",
   "name": "python",
   "nbconvert_exporter": "python",
   "pygments_lexer": "ipython3",
   "version": "3.10.8"
  },
  "orig_nbformat": 4
 },
 "nbformat": 4,
 "nbformat_minor": 2
}
