{
 "cells": [
  {
   "cell_type": "code",
   "execution_count": null,
   "metadata": {},
   "outputs": [],
   "source": [
    "# Empty tuple\n",
    "data = ()\n",
    "# Tuple having integers\n",
    "data = (34,56,78,22)\n",
    "# tuple with mixed datatypes\n",
    "data = (34,2.3,'joy',800,'t')\n",
    "# nested tuple\n",
    "data = (3,4,5,6,(3,2,1,9))\n",
    "# Creating a tuple having one element\n",
    "data = 45,\n",
    "# Parentheses is optional\n",
    "data = (67,)"
   ]
  },
  {
   "cell_type": "code",
   "execution_count": 3,
   "metadata": {},
   "outputs": [
    {
     "name": "stdout",
     "output_type": "stream",
     "text": [
      "w\n",
      "n\n"
     ]
    }
   ],
   "source": [
    "# Indexing\n",
    "# Access Python Tuple Elements\n",
    "# accessing tuple elements using indexing\n",
    "\n",
    "#       -10   -9   -8   -7   -6   -5   -4   -3   -2   -1\n",
    "data = ('w', 'w', 'w', '.', 'p', '4', 'n', '.', 'i', 'n')\n",
    "#        0.   1.   2.   3.   4.   5.   6.   7.   8.   9. \n",
    "\n",
    "print(data[2]) # w\n",
    "print(data[-4])\n"
   ]
  },
  {
   "cell_type": "code",
   "execution_count": 7,
   "metadata": {},
   "outputs": [
    {
     "name": "stdout",
     "output_type": "stream",
     "text": [
      "n\n",
      ".\n"
     ]
    }
   ],
   "source": [
    "# Negative Indexing\n",
    "# accessing tuple elements using negative indexing\n",
    "#       -10   -9   -8   -7   -6   -5   -4   -3   -2   -1\n",
    "data = ('w', 'w', 'w', '.', 'p', '4', 'n', '.', 'i', 'n')\n",
    "\n",
    "print(data[-1])   # prints 'n' \n",
    "print(data[-3])   # prints '.'"
   ]
  },
  {
   "cell_type": "code",
   "execution_count": 8,
   "metadata": {},
   "outputs": [
    {
     "name": "stdout",
     "output_type": "stream",
     "text": [
      "('w', '.', 'p')\n",
      "('w', 'w', '.', 'p', '4', 'n')\n",
      "('4', 'n', '.', 'i', 'n')\n",
      "('w', 'w', 'w', '.', 'p')\n",
      "('w', 'w', 'w', '.', 'p', '4', 'n', '.', 'i', 'n')\n"
     ]
    }
   ],
   "source": [
    "# accessing tuple elements using slicing\n",
    "data = ('w', 'w', 'w', '.', 'p', '4', 'n', '.', 'i', 'n')\n",
    "\n",
    "# accessing tuple elements using slicing\n",
    "print(data[2:5]) # output ('w', '.', 'p')\n",
    "print(data[-9:-3]) # output ('w', 'w', '.', 'p', '4', 'n')\n",
    "print(data[-5:]) # output ('4', 'n', '.', 'i', 'n')\n",
    "print(data[:5]) # output ('w', 'w', 'w', '.', 'p')\n",
    "print(data[:]) # output ('w', 'w', 'w', '.', 'p', '4', 'n', '.', 'i', 'n')"
   ]
  },
  {
   "cell_type": "code",
   "execution_count": 11,
   "metadata": {},
   "outputs": [
    {
     "name": "stdout",
     "output_type": "stream",
     "text": [
      "3\n",
      "4\n"
     ]
    }
   ],
   "source": [
    "# count()\n",
    "data = ('w', 'w', 'w', '.', 'p', '4', 'n', '.', 'i', 'n')\n",
    "print(data.count('w'))\n",
    "# index()\n",
    "print(data.index('p'))"
   ]
  }
 ],
 "metadata": {
  "kernelspec": {
   "display_name": "Python 3",
   "language": "python",
   "name": "python3"
  },
  "language_info": {
   "codemirror_mode": {
    "name": "ipython",
    "version": 3
   },
   "file_extension": ".py",
   "mimetype": "text/x-python",
   "name": "python",
   "nbconvert_exporter": "python",
   "pygments_lexer": "ipython3",
   "version": "3.12.0"
  }
 },
 "nbformat": 4,
 "nbformat_minor": 2
}
