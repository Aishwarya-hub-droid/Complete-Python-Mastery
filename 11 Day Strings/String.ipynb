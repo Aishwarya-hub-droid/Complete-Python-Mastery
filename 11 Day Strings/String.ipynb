{
 "cells": [
  {
   "cell_type": "code",
   "execution_count": 1,
   "metadata": {},
   "outputs": [
    {
     "name": "stdout",
     "output_type": "stream",
     "text": [
      "www.codeswithpankaj.com\n"
     ]
    }
   ],
   "source": [
    "# Python Strings Example\n",
    "data = 'www.codeswithpankaj.com'\n",
    "print(data)"
   ]
  },
  {
   "cell_type": "code",
   "execution_count": 2,
   "metadata": {},
   "outputs": [
    {
     "name": "stdout",
     "output_type": "stream",
     "text": [
      "codeswithpankaj\n",
      "codeswithpankaj\n",
      "''Triple quotes are generally used for  \n",
      "    represent the multiline or \n",
      "    docstring\n"
     ]
    }
   ],
   "source": [
    "# Creating String in Python\n",
    "#Using single quotes  \n",
    "str1 = 'codeswithpankaj'  \n",
    "print(str1)  \n",
    "#Using double quotes  \n",
    "str2 = \"codeswithpankaj\"  \n",
    "print(str2)  \n",
    "  \n",
    "#Using triple quotes  \n",
    "str3 = '''''Triple quotes are generally used for  \n",
    "    represent the multiline or \n",
    "    docstring'''   \n",
    "print(str3)  "
   ]
  },
  {
   "cell_type": "code",
   "execution_count": 5,
   "metadata": {},
   "outputs": [
    {
     "name": "stdout",
     "output_type": "stream",
     "text": [
      "p\n",
      "4\n"
     ]
    }
   ],
   "source": [
    "# index\n",
    "#       0123456789\n",
    "data = 'www.p4n.in'\n",
    "\n",
    "print(data[4]) # p\n",
    "print(data[5]) # 4"
   ]
  },
  {
   "cell_type": "code",
   "execution_count": 9,
   "metadata": {},
   "outputs": [
    {
     "name": "stdout",
     "output_type": "stream",
     "text": [
      "p4n\n"
     ]
    }
   ],
   "source": [
    "# String Slices\n",
    "print(data[4:7]) # output p4n"
   ]
  },
  {
   "cell_type": "code",
   "execution_count": 6,
   "metadata": {},
   "outputs": [
    {
     "name": "stdout",
     "output_type": "stream",
     "text": [
      "Www.codeswithpankaj.com\n",
      "WWW.CODESWITHPANKAJ.COM\n",
      "www.codeswithpankaj.com\n",
      "('www', '.', 'codeswithpankaj.com')\n",
      "@codeswithpankaj.com\n",
      "18\n",
      "p4n.in this is website -\n",
      "['www', 'codeswithpankaj', 'com']\n",
      "True\n",
      "True\n",
      "False\n",
      "13\n"
     ]
    }
   ],
   "source": [
    "# capitalize()\tIt capitalizes the first character of the String. This function is deprecated in python3\n",
    "website = 'www.codeswithpankaj.com'\n",
    "print(website.capitalize())\n",
    "\n",
    "# 1. upper() converts the string to uppercase\n",
    "print(website.upper())\n",
    "\n",
    "# 2. lower() converts the string to lowercase\n",
    "print(website.lower())\n",
    "\n",
    "# 3. partition() returns a tuple\n",
    "print(website.partition('.'))\n",
    "\n",
    "# 4. replace() replaces substring inside\n",
    "print(website.replace('www.','@'))\n",
    "\n",
    "# 5. find() returns the index of first occurrence of substring\n",
    "print(website.find('j'))\n",
    "\n",
    "# 6. rstrip() removes trailing characters\n",
    "data = 'p4n.in   '\n",
    "print(data.rstrip(),'this is website -')\n",
    "\n",
    "# 7. split() splits string from left\n",
    "print(website.split('.'))\n",
    "\n",
    "# 8. startswith() checks if string starts with the specified string\n",
    "print(website.startswith('w'))\n",
    "\n",
    "# 9. isnumeric() checks numeric characters\n",
    "data = '90'\n",
    "print(data.isnumeric())\n",
    "print(website.isnumeric())\n",
    "\n",
    "# 10. index() returns index of substring\n",
    "print(website.index('p'))"
   ]
  },
  {
   "cell_type": "code",
   "execution_count": 32,
   "metadata": {},
   "outputs": [
    {
     "name": "stdout",
     "output_type": "stream",
     "text": [
      "w\n",
      "w\n",
      "w\n",
      ".\n",
      "p\n",
      "4\n",
      "n\n",
      ".\n",
      "i\n",
      "n\n"
     ]
    }
   ],
   "source": [
    "# iterating through  string\n",
    "\n",
    "data = \"www.p4n.in\"\n",
    "\n",
    "for i in data:\n",
    "    print(i)"
   ]
  }
 ],
 "metadata": {
  "kernelspec": {
   "display_name": "Python 3",
   "language": "python",
   "name": "python3"
  },
  "language_info": {
   "codemirror_mode": {
    "name": "ipython",
    "version": 3
   },
   "file_extension": ".py",
   "mimetype": "text/x-python",
   "name": "python",
   "nbconvert_exporter": "python",
   "pygments_lexer": "ipython3",
   "version": "3.10.8"
  },
  "orig_nbformat": 4
 },
 "nbformat": 4,
 "nbformat_minor": 2
}
