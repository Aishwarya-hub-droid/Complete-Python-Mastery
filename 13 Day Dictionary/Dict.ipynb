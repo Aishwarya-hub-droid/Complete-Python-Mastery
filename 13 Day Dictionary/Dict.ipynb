{
 "cells": [
  {
   "cell_type": "code",
   "execution_count": 2,
   "metadata": {},
   "outputs": [
    {
     "name": "stdout",
     "output_type": "stream",
     "text": [
      "<class 'dict'>\n"
     ]
    }
   ],
   "source": [
    "# empty \n",
    "data = {}\n",
    "print(type(data))"
   ]
  },
  {
   "cell_type": "code",
   "execution_count": 3,
   "metadata": {},
   "outputs": [
    {
     "name": "stdout",
     "output_type": "stream",
     "text": [
      "{'name': 'joy', 'age': 12}\n"
     ]
    }
   ],
   "source": [
    "data = {'name':'joy','age':12}\n",
    "print(data)"
   ]
  },
  {
   "cell_type": "code",
   "execution_count": 5,
   "metadata": {},
   "outputs": [
    {
     "name": "stdout",
     "output_type": "stream",
     "text": [
      "joy\n",
      "12\n"
     ]
    }
   ],
   "source": [
    "# Accessing Values\n",
    "data = {'name':'joy','age':12}\n",
    "print(data['name']) #key name , value = joy\n",
    "print(data['age']) #key = age , value = 12"
   ]
  },
  {
   "cell_type": "code",
   "execution_count": 7,
   "metadata": {},
   "outputs": [
    {
     "name": "stdout",
     "output_type": "stream",
     "text": [
      "{'name': 'joy', 'age': 22}\n",
      "{'name': 'joy', 'age': 22, 'height': 5.6}\n"
     ]
    }
   ],
   "source": [
    "# Modifying\n",
    "data['age'] = 22\n",
    "print(data)\n",
    "# Adding Items\n",
    "data['height'] = 5.6\n",
    "print(data)"
   ]
  },
  {
   "cell_type": "code",
   "execution_count": 11,
   "metadata": {},
   "outputs": [
    {
     "name": "stdout",
     "output_type": "stream",
     "text": [
      "class is exists  22\n"
     ]
    }
   ],
   "source": [
    "# Checking Key Existence\n",
    "finddata = input('Enter Key data ')\n",
    "if finddata in data:\n",
    "    print('class is exists ',data[finddata])\n",
    "else:\n",
    "    print('class is not exists')  "
   ]
  },
  {
   "cell_type": "code",
   "execution_count": 22,
   "metadata": {},
   "outputs": [
    {
     "name": "stdout",
     "output_type": "stream",
     "text": [
      "dict_keys(['name', 'age'])\n",
      "name\n",
      "age\n",
      "dict_values(['joy', 22])\n",
      "dict_items([('name', 'joy'), ('age', 22)])\n",
      "22\n",
      "22\n"
     ]
    },
    {
     "ename": "KeyError",
     "evalue": "'height'",
     "output_type": "error",
     "traceback": [
      "\u001b[1;31m---------------------------------------------------------------------------\u001b[0m",
      "\u001b[1;31mKeyError\u001b[0m                                  Traceback (most recent call last)",
      "\u001b[1;32mc:\\Users\\comp\\Desktop\\Old\\Lecture\\python\\Dictionary\\Dict.ipynb Cell 6\u001b[0m line \u001b[0;36m1\n\u001b[0;32m     <a href='vscode-notebook-cell:/c%3A/Users/comp/Desktop/Old/Lecture/python/Dictionary/Dict.ipynb#W4sZmlsZQ%3D%3D?line=11'>12</a>\u001b[0m \u001b[39mprint\u001b[39m(data[\u001b[39m'\u001b[39m\u001b[39mage\u001b[39m\u001b[39m'\u001b[39m])\n\u001b[0;32m     <a href='vscode-notebook-cell:/c%3A/Users/comp/Desktop/Old/Lecture/python/Dictionary/Dict.ipynb#W4sZmlsZQ%3D%3D?line=12'>13</a>\u001b[0m \u001b[39m# pop(key, default)\u001b[39;00m\n\u001b[1;32m---> <a href='vscode-notebook-cell:/c%3A/Users/comp/Desktop/Old/Lecture/python/Dictionary/Dict.ipynb#W4sZmlsZQ%3D%3D?line=13'>14</a>\u001b[0m \u001b[39mprint\u001b[39m(data\u001b[39m.\u001b[39;49mpop(\u001b[39m'\u001b[39;49m\u001b[39mheight\u001b[39;49m\u001b[39m'\u001b[39;49m))\n\u001b[0;32m     <a href='vscode-notebook-cell:/c%3A/Users/comp/Desktop/Old/Lecture/python/Dictionary/Dict.ipynb#W4sZmlsZQ%3D%3D?line=14'>15</a>\u001b[0m \u001b[39mprint\u001b[39m(data)\n\u001b[0;32m     <a href='vscode-notebook-cell:/c%3A/Users/comp/Desktop/Old/Lecture/python/Dictionary/Dict.ipynb#W4sZmlsZQ%3D%3D?line=15'>16</a>\u001b[0m \u001b[39m# Nested Dictionaries\u001b[39;00m\n\u001b[0;32m     <a href='vscode-notebook-cell:/c%3A/Users/comp/Desktop/Old/Lecture/python/Dictionary/Dict.ipynb#W4sZmlsZQ%3D%3D?line=16'>17</a>\u001b[0m \u001b[39m# using loop into dictionaries\u001b[39;00m\n",
      "\u001b[1;31mKeyError\u001b[0m: 'height'"
     ]
    }
   ],
   "source": [
    "\n",
    "# Dictionary Methods :\n",
    "# keys()\n",
    "print(data.keys())\n",
    "for i in data:\n",
    "    print(i)\n",
    "# values()\n",
    "print(data.values())\n",
    "# items()\n",
    "print(data.items())\n",
    "# get(key, default)\n",
    "print(data.get('age'))\n",
    "print(data['age'])\n",
    "# pop(key, default)\n",
    "print(data.pop('height'))\n"
   ]
  },
  {
   "cell_type": "code",
   "execution_count": 23,
   "metadata": {},
   "outputs": [
    {
     "name": "stdout",
     "output_type": "stream",
     "text": [
      "{'name': 'joy', 'age': 22}\n"
     ]
    }
   ],
   "source": [
    "print(data)"
   ]
  },
  {
   "cell_type": "code",
   "execution_count": 30,
   "metadata": {},
   "outputs": [
    {
     "name": "stdout",
     "output_type": "stream",
     "text": [
      "Alice\n",
      "25\n"
     ]
    }
   ],
   "source": [
    "# Nested Dictionaries\n",
    "employees = {\n",
    "    \"employee1\": {\n",
    "        \"name\": \"Alice\",\n",
    "        \"age\": 30\n",
    "    },\n",
    "    \"employee2\": {\n",
    "        \"name\": \"Bob\",\n",
    "        \"age\": 25\n",
    "    }\n",
    "}\n",
    "# using loop into dictionaries\n",
    "print(employees['employee1']['name'])\n",
    "print(employees['employee2']['age'])"
   ]
  },
  {
   "cell_type": "code",
   "execution_count": 33,
   "metadata": {},
   "outputs": [
    {
     "name": "stdout",
     "output_type": "stream",
     "text": [
      "Name  =  Hanuman Road\n",
      "Description  =  null\n",
      "BranchType  =  Sub Post Office\n",
      "DeliveryStatus  =  Non-Delivery\n",
      "Circle  =  Maharashtra\n",
      "District  =  Mumbai\n",
      "Division  =  Mumbai  North\n",
      "Region  =  Mumbai\n",
      "Block  =  Mumbai\n",
      "State  =  Maharashtra\n",
      "Country  =  India\n",
      "Pincode  =  400057\n"
     ]
    }
   ],
   "source": [
    "Data = {\n",
    "        \"Name\": \"Hanuman Road\",\n",
    "        \"Description\": \"null\",\n",
    "        \"BranchType\": \"Sub Post Office\",\n",
    "        \"DeliveryStatus\": \"Non-Delivery\",\n",
    "        \"Circle\": \"Maharashtra\",\n",
    "        \"District\": \"Mumbai\",\n",
    "        \"Division\": \"Mumbai  North\",\n",
    "        \"Region\": \"Mumbai\",\n",
    "        \"Block\": \"Mumbai\",\n",
    "        \"State\": \"Maharashtra\",\n",
    "        \"Country\": \"India\",\n",
    "        \"Pincode\": \"400057\"\n",
    "}\n",
    "\n",
    "for i in Data:\n",
    "    print(i,' = ',Data[i])"
   ]
  }
 ],
 "metadata": {
  "kernelspec": {
   "display_name": "Python 3",
   "language": "python",
   "name": "python3"
  },
  "language_info": {
   "codemirror_mode": {
    "name": "ipython",
    "version": 3
   },
   "file_extension": ".py",
   "mimetype": "text/x-python",
   "name": "python",
   "nbconvert_exporter": "python",
   "pygments_lexer": "ipython3",
   "version": "3.12.0"
  }
 },
 "nbformat": 4,
 "nbformat_minor": 2
}
