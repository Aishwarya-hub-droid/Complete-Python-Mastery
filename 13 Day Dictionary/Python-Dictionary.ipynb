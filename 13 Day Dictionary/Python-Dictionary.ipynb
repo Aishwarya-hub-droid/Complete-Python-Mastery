{
 "cells": [
  {
   "cell_type": "code",
   "execution_count": 2,
   "metadata": {},
   "outputs": [
    {
     "name": "stdout",
     "output_type": "stream",
     "text": [
      "{'name': 'Nishant', 'age': 28, 'city': 'New York'}\n"
     ]
    }
   ],
   "source": [
    "# Dictionary in python\n",
    "# A dictionary is a collection which is unordered, changeable and indexed. In Python dictionaries are written with curly brackets, and they have keys and values.\n",
    "# Dictionaries are used to store data values in key:value pairs.\n",
    "\n",
    "# example\n",
    "# Create and print a dictionary:\n",
    "person = {'name': 'Nishant', 'age': 28, 'city': 'New York'}\n",
    "print(person)"
   ]
  },
  {
   "cell_type": "code",
   "execution_count": 3,
   "metadata": {},
   "outputs": [
    {
     "name": "stdout",
     "output_type": "stream",
     "text": [
      "Nishant\n"
     ]
    }
   ],
   "source": [
    "# Accessing Items\n",
    "# You can access the items of a dictionary by referring to its key name, inside square brackets:\n",
    "x = person['name']\n",
    "print(x)"
   ]
  },
  {
   "cell_type": "code",
   "execution_count": 4,
   "metadata": {},
   "outputs": [
    {
     "name": "stdout",
     "output_type": "stream",
     "text": [
      "{'name': 'Nishant', 'age': 12, 'city': 'New York'}\n"
     ]
    }
   ],
   "source": [
    "# Change Values\n",
    "# You can change the value of a specific item by referring to its key name:\n",
    "person['age'] = 12\n",
    "print(person)"
   ]
  },
  {
   "cell_type": "code",
   "execution_count": 5,
   "metadata": {},
   "outputs": [
    {
     "name": "stdout",
     "output_type": "stream",
     "text": [
      "{'name': 'Nishant', 'age': 12, 'city': 'New York', 'height': 5.8}\n"
     ]
    }
   ],
   "source": [
    "# add items \n",
    "# Adding an item to the dictionary is done by using a new index key and assigning a value to it:\n",
    "\n",
    "person['height'] = 5.8\n",
    "print(person)"
   ]
  },
  {
   "cell_type": "code",
   "execution_count": 6,
   "metadata": {},
   "outputs": [
    {
     "name": "stdout",
     "output_type": "stream",
     "text": [
      "{'name': 'Nishant', 'age': 12, 'height': 5.8}\n"
     ]
    }
   ],
   "source": [
    "# Removing Items\n",
    "# There are several methods to remove items from a dictionary:\n",
    "# using pop() method # example pop('key')\n",
    "person.pop('city')\n",
    "print(person)"
   ]
  },
  {
   "cell_type": "code",
   "execution_count": 7,
   "metadata": {},
   "outputs": [
    {
     "name": "stdout",
     "output_type": "stream",
     "text": [
      "{'name': 'Nishant', 'height': 5.8}\n"
     ]
    }
   ],
   "source": [
    "# using del keyword # example del dict['key']\n",
    "del person['age']\n",
    "print(person)"
   ]
  },
  {
   "cell_type": "code",
   "execution_count": 8,
   "metadata": {},
   "outputs": [
    {
     "name": "stdout",
     "output_type": "stream",
     "text": [
      "{}\n"
     ]
    }
   ],
   "source": [
    "#  using clear() method # example clear()\n",
    "person.clear()\n",
    "print(person)"
   ]
  },
  {
   "cell_type": "code",
   "execution_count": 10,
   "metadata": {},
   "outputs": [
    {
     "name": "stdout",
     "output_type": "stream",
     "text": [
      "product : Apple\n",
      "price : 1000\n",
      "quantity : 10\n"
     ]
    }
   ],
   "source": [
    "# Loop Through a Dictionary\n",
    "# You can loop through a dictionary by using a for loop.\n",
    "# When looping through a dictionary, the return value are the keys of the dictionary, but there are methods to return the values as well.\n",
    "\n",
    "# Example \n",
    "\n",
    "Data = {'product': 'Apple', 'price': 1000, 'quantity': 10}\n",
    "\n",
    "for x in Data:\n",
    "    print(f'{x} : { Data[x] }')"
   ]
  },
  {
   "cell_type": "code",
   "execution_count": 18,
   "metadata": {},
   "outputs": [
    {
     "name": "stdout",
     "output_type": "stream",
     "text": [
      "{'product': ['Apple', 'Banana', 'Orange', 'Grapes'], 'price': [100, 50, 60, 900], 'quantity': [10, 20, 30, 90]}\n",
      "Apple = 100 * 10\n",
      "Banana = 50 * 20\n",
      "Orange = 60 * 30\n",
      "Grapes = 900 * 90\n",
      "Total Price = 99900\n"
     ]
    }
   ],
   "source": [
    "# Example 1\n",
    "# create a list of product and price and quantity\n",
    "\n",
    "product = ['Apple', 'Banana', 'Orange','Grapes']\n",
    "price = [100, 50, 60,900]\n",
    "quantity = [10, 20, 30,90]\n",
    "\n",
    "# create a dictionary of product, price and quantity\n",
    "\n",
    "Data = {'product': product, 'price': price, 'quantity': quantity}\n",
    "\n",
    "# print the dictionary\n",
    "print(Data)\n",
    "\n",
    "\n",
    "# print the product, price and quantity of the product\n",
    "for i in range(len(product)):\n",
    "    print(f'{product[i]} = {price[i]} * {quantity[i]}')\n",
    "    \n",
    "\n",
    "# print total and average price of the product\n",
    "\n",
    "total = 0\n",
    "for i in range(len(price)):\n",
    "    # total += price[i] * quantity[i]\n",
    "    total += price[i]\n",
    "    average = total / len(price)\n",
    "    final_total = total * quantity[i]\n",
    "print(f'Total Price = {final_total}')\n",
    "    "
   ]
  },
  {
   "cell_type": "code",
   "execution_count": 20,
   "metadata": {},
   "outputs": [
    {
     "name": "stdout",
     "output_type": "stream",
     "text": [
      "dict_items([('name', 'Nishant'), ('age', 28), ('city', 'New York')])\n"
     ]
    }
   ],
   "source": [
    "# item() using in dictionary\n",
    "# The items() method will return each item in a dictionary, as tuples in a list.\n",
    "# The tuple contains a key-value pair.\n",
    "# The syntax for the items() method is:\n",
    "\n",
    "# dictionary.items()\n",
    "\n",
    "# Example\n",
    "\n",
    "data = {'name': 'Nishant', 'age': 28, 'city': 'New York'}\n",
    "\n",
    "# for i in data.items():\n",
    "#     print(i)\n",
    "    \n",
    "\n",
    "print(data.items())    \n",
    "    "
   ]
  },
  {
   "cell_type": "code",
   "execution_count": 21,
   "metadata": {},
   "outputs": [
    {
     "name": "stdout",
     "output_type": "stream",
     "text": [
      "dict_keys(['name', 'age', 'city'])\n"
     ]
    }
   ],
   "source": [
    "# keys() using in dictionary\n",
    "# The keys() method will return each key in a dictionary, as a list.\n",
    "# The syntax for the keys() method is:\n",
    "# dict.keys()\n",
    "\n",
    "# Example\n",
    "\n",
    "data = {'name': 'Nishant', 'age': 28, 'city': 'New York'}\n",
    "print(data.keys())  # Output: dict_keys(['name', 'age', 'city'])"
   ]
  },
  {
   "cell_type": "code",
   "execution_count": 22,
   "metadata": {},
   "outputs": [
    {
     "name": "stdout",
     "output_type": "stream",
     "text": [
      "dict_values(['Nishant', 28, 'New York'])\n"
     ]
    }
   ],
   "source": [
    "# values() using in dictionary\n",
    "\n",
    "# The values() method will return each value in a dictionary, as a list.\n",
    "# The syntax for the values() method is:\n",
    "# dict.values()\n",
    "\n",
    "# Example\n",
    "\n",
    "data = {'name': 'Nishant', 'age': 28, 'city': 'New York'}\n",
    "print(data.values())  # Output: dict_values(['Nishant', 28, 'New York'])"
   ]
  },
  {
   "cell_type": "code",
   "execution_count": 23,
   "metadata": {},
   "outputs": [
    {
     "name": "stdout",
     "output_type": "stream",
     "text": [
      "{'name': 'Nishant', 'age': 28, 'city': 'New York'}\n"
     ]
    }
   ],
   "source": [
    "# copy() using in dictionary\n",
    "# The copy() method will make a copy of the dictionary.\n",
    "# The syntax for the copy() method is:\n",
    "\n",
    "# dictionary.copy()\n",
    "\n",
    "# Example\n",
    "\n",
    "data = {'name': 'Nishant', 'age': 28, 'city': 'New York'}\n",
    "\n",
    "new_data = data.copy()\n",
    "print(new_data)"
   ]
  },
  {
   "cell_type": "code",
   "execution_count": 25,
   "metadata": {},
   "outputs": [
    {
     "name": "stdout",
     "output_type": "stream",
     "text": [
      "Samosa: 3000\n",
      "jalebi: 8500\n",
      "vadapav: 56000\n"
     ]
    }
   ],
   "source": [
    "# take user input into dictionary\n",
    "# key and value pair\n",
    "\n",
    "data = {}\n",
    "\n",
    "n = int(input('Enter the number of items: '))\n",
    "\n",
    "for i in range(n):\n",
    "    key = input('Enter the key: ')\n",
    "    value = input('Enter the value: ')\n",
    "    data[key] = value\n",
    "    \n",
    "    \n",
    "for key, value in data.items():\n",
    "    print(f'{key}: {value}')  # print key and value pair    "
   ]
  },
  {
   "cell_type": "code",
   "execution_count": null,
   "metadata": {},
   "outputs": [],
   "source": []
  }
 ],
 "metadata": {
  "kernelspec": {
   "display_name": "Python 3",
   "language": "python",
   "name": "python3"
  },
  "language_info": {
   "codemirror_mode": {
    "name": "ipython",
    "version": 3
   },
   "file_extension": ".py",
   "mimetype": "text/x-python",
   "name": "python",
   "nbconvert_exporter": "python",
   "pygments_lexer": "ipython3",
   "version": "3.12.1"
  }
 },
 "nbformat": 4,
 "nbformat_minor": 2
}
