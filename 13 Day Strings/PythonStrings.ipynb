{
  "metadata": {
    "language_info": {
      "codemirror_mode": {
        "name": "python",
        "version": 3
      },
      "file_extension": ".py",
      "mimetype": "text/x-python",
      "name": "python",
      "nbconvert_exporter": "python",
      "pygments_lexer": "ipython3",
      "version": "3.8"
    },
    "kernelspec": {
      "name": "python",
      "display_name": "Python (Pyodide)",
      "language": "python"
    }
  },
  "nbformat_minor": 4,
  "nbformat": 4,
  "cells": [
    {
      "cell_type": "code",
      "source": "website = \"www.codeswithpankaj.com\"\nprint(website)",
      "metadata": {
        "trusted": true
      },
      "execution_count": 1,
      "outputs": [
        {
          "name": "stdout",
          "text": "www.codeswithpankaj.com\n",
          "output_type": "stream"
        }
      ]
    },
    {
      "cell_type": "code",
      "source": "# find the size of string ....\nlen(website)",
      "metadata": {
        "trusted": true
      },
      "execution_count": 2,
      "outputs": [
        {
          "execution_count": 2,
          "output_type": "execute_result",
          "data": {
            "text/plain": "23"
          },
          "metadata": {}
        }
      ]
    },
    {
      "cell_type": "code",
      "source": "# check the type use type()\ntype(website)",
      "metadata": {
        "trusted": true
      },
      "execution_count": 3,
      "outputs": [
        {
          "execution_count": 3,
          "output_type": "execute_result",
          "data": {
            "text/plain": "str"
          },
          "metadata": {}
        }
      ]
    },
    {
      "cell_type": "code",
      "source": "# Compare Two Strings\ndata1 = \"@p4n.in\"\ndata2 = \"@p4n.store\"\n\n#data1 == data2\n#data1 != data2\n\nif data1 == data2:\n    print(\"Data is matched\")\nelse:\n    print(\"Data is not matched\")",
      "metadata": {
        "trusted": true
      },
      "execution_count": 7,
      "outputs": [
        {
          "name": "stdout",
          "text": "Data is not matched\n",
          "output_type": "stream"
        }
      ]
    },
    {
      "cell_type": "code",
      "source": "# Join Two or More Strings\nfirst_name = \"joy\"\nlast_name = \" jain\"\n\nfull_name = first_name + last_name\nprint(full_name)",
      "metadata": {
        "trusted": true
      },
      "execution_count": 9,
      "outputs": [
        {
          "name": "stdout",
          "text": "joy jain\n",
          "output_type": "stream"
        }
      ]
    },
    {
      "cell_type": "code",
      "source": "# iterate through a string using a for loop\ndata = \"p4n.in\"\nfor i in data:\n    print(i)",
      "metadata": {
        "trusted": true
      },
      "execution_count": 12,
      "outputs": [
        {
          "name": "stdout",
          "text": "p\n4\nn\n.\ni\nn\n",
          "output_type": "stream"
        }
      ]
    },
    {
      "cell_type": "code",
      "source": "# access char from string \nprint(data[1])\nprint(data[-1])\nprint(data[2:5])",
      "metadata": {
        "trusted": true
      },
      "execution_count": 15,
      "outputs": [
        {
          "name": "stdout",
          "text": "4\nn\nn.i\n",
          "output_type": "stream"
        }
      ]
    },
    {
      "cell_type": "code",
      "source": "data = \"www.p4n.in\"\n# 1. upper() converts the string to uppercase\nprint(data.upper())\n# 2. lower() converts the string to lowercase\nprint(data.lower())\n# 3. partition() returns a tuple\nnewdata = data.partition('.')\nprint(newdata)\n# 4. replace() replaces substring inside\nprint(data.replace('.','-'))\n# 5. find() returns the index of first occurrence of substring\nprint(data.find('4'))\n# 6. rstrip() removes trailing characters\ntxt = \"banana     \"\nx = txt.rstrip()\nprint(x,\"is best...\")\n# 7. split() splits string from left\nprint(data.split('.'))\n# 8. startswith() checks if string starts with the specified string\nprint(data.startswith('4'))\n# 9. isnumeric() checks numeric characters\nprint(data.isnumeric())\n# 10. index() returns index of substring\nprint(data.index('p'))",
      "metadata": {
        "trusted": true
      },
      "execution_count": 41,
      "outputs": [
        {
          "name": "stdout",
          "text": "WWW.P4N.IN\nwww.p4n.in\n('www', '.', 'p4n.in')\nwww-p4n-in\n5\nbanana is best...\n['www', 'p4n', 'in']\nFalse\nFalse\n4\n",
          "output_type": "stream"
        }
      ]
    },
    {
      "cell_type": "code",
      "source": "# escape double quotes\nexample = \"He said, \\\"What's there?\\\"\"\nprint(example)\n# escape single quotes\nexample = 'He said, \"What\\'s there?\"'\n\nprint(example)\n\n# Output: He said, \"What's there?\"\n\n",
      "metadata": {
        "trusted": true
      },
      "execution_count": 44,
      "outputs": [
        {
          "ename": "<class 'SyntaxError'>",
          "evalue": "unterminated string literal (detected at line 11) (<ipython-input-44-11155db05097>, line 11)",
          "traceback": [
            "\u001b[0;36m  Cell \u001b[0;32mIn[44], line 11\u001b[0;36m\u001b[0m\n\u001b[0;31m    msg = 'he's'\u001b[0m\n\u001b[0m               ^\u001b[0m\n\u001b[0;31mSyntaxError\u001b[0m\u001b[0;31m:\u001b[0m unterminated string literal (detected at line 11)\n"
          ],
          "output_type": "error"
        }
      ]
    },
    {
      "cell_type": "code",
      "source": "# Python String Formatting (f-Strings)\n# use format\n\nname = \"pankaj\"\nage = 30\nheight = 5.6\n\nprint(\"my name is {} height {} and age {}\".format(name,age,height))\n\nprint(\"my name is {0} height  {2} age {1}\".format(\"joy\",3,3.5))",
      "metadata": {
        "trusted": true
      },
      "execution_count": 49,
      "outputs": [
        {
          "name": "stdout",
          "text": "my name is pankaj height 30 and age 5.6\nmy name is joy height  3.5 age 3\n",
          "output_type": "stream"
        }
      ]
    },
    {
      "cell_type": "code",
      "source": "# Python String Formatting (f-Strings)\nname = 'Cathy'\ncountry = 'UK'\n\nprint(f'{name} is from {country}')",
      "metadata": {
        "trusted": true
      },
      "execution_count": 50,
      "outputs": [
        {
          "name": "stdout",
          "text": "Cathy is from UK\n",
          "output_type": "stream"
        }
      ]
    },
    {
      "cell_type": "code",
      "source": "",
      "metadata": {},
      "execution_count": null,
      "outputs": []
    }
  ]
}
