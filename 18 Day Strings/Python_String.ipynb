{
 "cells": [
  {
   "cell_type": "code",
   "execution_count": 3,
   "metadata": {},
   "outputs": [
    {
     "name": "stdout",
     "output_type": "stream",
     "text": [
      "codeswithpankaj.com\n",
      "codeswithpankaj.com\n",
      "codeswithpankaj.com\n"
     ]
    }
   ],
   "source": [
    "# String in python\n",
    "\n",
    "# String is a sequence of characters\n",
    "\n",
    "# String can be enclosed in single quotes or double quotes\n",
    "\n",
    "# String can be enclosed in triple quotes\n",
    "# Triple quotes can be used to enclose a multi-line string\n",
    "\n",
    "# example :\n",
    "\n",
    "# Single quotes\n",
    "\n",
    "string1 = 'codeswithpankaj.com'\n",
    "print(string1)\n",
    "\n",
    "string2 = \"codeswithpankaj.com\"\n",
    "print(string2)\n",
    "\n",
    "string3 = '''codeswithpankaj.com'''\n",
    "print(string3)"
   ]
  },
  {
   "cell_type": "code",
   "execution_count": 5,
   "metadata": {},
   "outputs": [
    {
     "name": "stdout",
     "output_type": "stream",
     "text": [
      "This is a multi-line string.\n",
      "It can span multiple lines.\n"
     ]
    }
   ],
   "source": [
    "# Multi-line string\n",
    "multi_line_string = \"\"\"This is a multi-line string.\n",
    "It can span multiple lines.\"\"\"\n",
    "print(multi_line_string)"
   ]
  },
  {
   "cell_type": "code",
   "execution_count": 7,
   "metadata": {},
   "outputs": [
    {
     "name": "stdout",
     "output_type": "stream",
     "text": [
      "c\n",
      "m\n"
     ]
    }
   ],
   "source": [
    "# Accessing characters in a string\n",
    "\n",
    "# Characters in a string can be accessed using the index\n",
    "\n",
    "# Index starts from 0\n",
    "\n",
    "# Negative index can also be used to access characters from the end of the string\n",
    "\n",
    "# example :\n",
    "\n",
    "web = 'codeswithpankaj.com'\n",
    "\n",
    "# index of this string\n",
    "\n",
    "# c -> 0\n",
    "# o -> 1\n",
    "# d -> 2\n",
    "# e -> 3\n",
    "# s -> 4\n",
    "# w -> 5\n",
    "# i -> 6\n",
    "# t -> 7\n",
    "# h -> 8\n",
    "# p -> 9\n",
    "# a -> 10\n",
    "# n -> 11\n",
    "# k -> 12\n",
    "# a -> 13\n",
    "# j -> 14\n",
    "# . -> 15\n",
    "# c -> 16\n",
    "# o -> 17\n",
    "# m -> 18\n",
    "# (no character at index 19)\n",
    "\n",
    "print(web[0])  # c\n",
    "\n",
    "# negative index\n",
    "print(web[-1])  # m"
   ]
  },
  {
   "cell_type": "code",
   "execution_count": 10,
   "metadata": {},
   "outputs": [
    {
     "name": "stdout",
     "output_type": "stream",
     "text": [
      "codes\n",
      "cds\n",
      "withpankaj.com\n",
      "moc.jaknaphtiwsedoc\n"
     ]
    }
   ],
   "source": [
    "# Slicing a string\n",
    "# A string can be sliced to extract a subset of characters from it.\n",
    "\n",
    "# Syntax : string[start:stop:step]\n",
    "# syntax : string[start:stop]\n",
    "# syntax : string[start:]\n",
    "\n",
    "# example :\n",
    "\n",
    "web = 'codeswithpankaj.com'\n",
    "print(web[0:5])  # output : codes\n",
    "print(web[0:5:2])  # output : cose\n",
    "print(web[5:])  # output : withpankaj.com\n",
    "\n",
    "# navigate string in reverse order\n",
    "print(web[::-1])  # output : moc.jaknaphtiwdseodoc"
   ]
  },
  {
   "cell_type": "code",
   "execution_count": 11,
   "metadata": {},
   "outputs": [
    {
     "name": "stdout",
     "output_type": "stream",
     "text": [
      "Pankaj Chouhan\n"
     ]
    }
   ],
   "source": [
    "# String concatenation\n",
    "\n",
    "# Strings can be concatenated using the + operator\n",
    "\n",
    "# example :\n",
    "\n",
    "first_name = 'Pankaj'\n",
    "last_name = 'Chouhan'\n",
    "\n",
    "full_name = first_name + ' ' + last_name\n",
    "print(full_name)"
   ]
  },
  {
   "cell_type": "code",
   "execution_count": 12,
   "metadata": {},
   "outputs": [
    {
     "name": "stdout",
     "output_type": "stream",
     "text": [
      "hello hello hello \n"
     ]
    }
   ],
   "source": [
    "# String repetition\n",
    "# The expression \"hello\" * 3 repeats the string \"hello\" three times.\n",
    "\n",
    "# example :\n",
    "\n",
    "print('hello ' * 3)  # output : hello hello hello"
   ]
  },
  {
   "cell_type": "code",
   "execution_count": 14,
   "metadata": {},
   "outputs": [
    {
     "name": "stdout",
     "output_type": "stream",
     "text": [
      "My name is Pankaj and I am 25 years old. I live in mumbai\n",
      "My name is Pankaj and I am 25 years old. I live in mumbai\n"
     ]
    }
   ],
   "source": [
    "# String formatting\n",
    "# The format() method allows you to format strings.\n",
    "# It takes a string with placeholders for values, and then replaces those placeholders with the actual values.\n",
    "\n",
    "\n",
    "# example :\n",
    "\n",
    "name = 'Pankaj'\n",
    "age = 25\n",
    "city = 'mumbai'\n",
    "\n",
    "print('My name is {} and I am {} years old. I live in {}'.format(name, age, city))\n",
    "\n",
    "# using index in format method\n",
    "\n",
    "print('My name is {0} and I am {1} years old. I live in {2}'.format(name, age, city))"
   ]
  },
  {
   "cell_type": "code",
   "execution_count": null,
   "metadata": {},
   "outputs": [],
   "source": [
    "# using keyword arguments in format method\n",
    "\n",
    "print('My name is {name} and I am {age} years old. I live in {city}'.format(name=name, age=age, city=city))\n",
    "\n",
    "# f-string\n",
    "\n",
    "# f-string is a new way to format strings in Python 3.6 and later versions.\n",
    "# It is a more readable and efficient way to format strings.\n",
    "\n",
    "# example :\n",
    "name = 'John'\n",
    "age = 30\n",
    "\n",
    "print(f'My name is {name} and I am {age} years old.')"
   ]
  },
  {
   "cell_type": "code",
   "execution_count": 32,
   "metadata": {},
   "outputs": [
    {
     "name": "stdout",
     "output_type": "stream",
     "text": [
      "Codeswithpankaj.com\n",
      "codeswithpankaj.com\n",
      "CODESWITHPANKAJ.COM\n",
      "codeswithpankaj.com\n",
      "codeswithpankaj.org\n",
      "['codeswithpankaj', 'com']\n",
      "codeswithpankaj.com\n",
      "9\n",
      "9\n",
      "2\n",
      "True\n",
      "False\n",
      "True\n",
      "False\n",
      "True\n",
      "False\n",
      "True\n",
      "False\n",
      "True\n",
      "True\n",
      "19\n",
      "True\n",
      "True\n"
     ]
    }
   ],
   "source": [
    "# String methods\n",
    "# Python has many built-in methods that you can use to manipulate strings.\n",
    "# Here are some of the most commonly used string methods:\n",
    "\n",
    "# capitalize() - Converts the first character of a string to uppercase\n",
    "data = \"codeswithpankaj.com\"\n",
    "print(data.capitalize())  # Codeswith\n",
    "\n",
    "# lower() - Converts all characters in a string to lowercase\n",
    "data = \"codeswithpankaj.com\"\n",
    "print(data.lower())  # codeswithpankaj.com\n",
    "\n",
    "# upper() - Converts all characters in a string to uppercase\n",
    "data = \"codeswithpankaj.com\"\n",
    "print(data.upper())  # CODESWITHPANKAJ.COM\n",
    "\n",
    "\n",
    "# strip() - Removes leading and trailing whitespace from a string\n",
    "data = \"    codeswithpankaj.com    \"\n",
    "print(data.strip())  # codeswithpankaj.com\n",
    "\n",
    "\n",
    "# replace() - Replaces a substring in a string with another substring\n",
    "data = \"codeswithpankaj.com\"\n",
    "print(data.replace('com', 'org'))  # codeswithpankaj.org\n",
    "\n",
    "# split() - Splits a string into a list of substrings based on a delimiter\n",
    "data = \"codeswithpankaj.com\"\n",
    "print(data.split('.'))  # \n",
    "\n",
    "\n",
    "# join() - Joins a list of strings into a single string\n",
    "data = ['codeswithpankaj', 'com']\n",
    "print('.'.join(data))  # codeswithpankaj.com\n",
    "\n",
    "\n",
    "# find() - Searches for a substring in a string and returns the index of the first occurrence\n",
    "data = \"codeswithpankaj.com\"\n",
    "print(data.find('p'))  # 9\n",
    "\n",
    "\n",
    "# index() - Searches for a substring in a string and returns the index of the first occurrence\n",
    "data = \"codeswithpankaj.com\"\n",
    "print(data.index('p'))  # 9 (same as find() method)\n",
    "\n",
    "\n",
    "# count() - Counts the number of occurrences of a substring in a string\n",
    "data = \"codeswithpankaj.com\"\n",
    "print(data.count('a'))  # 2\n",
    "\n",
    "# startswith() - Checks if a string starts with a specified substring\n",
    "\n",
    "data = \"codeswithpankaj.com\"\n",
    "print(data.startswith('codes'))  # True\n",
    "print(data.startswith('org'))  # False\n",
    "\n",
    "# endswith() - Checks if a string ends with a specified substring\n",
    "data = \"codeswithpankaj.com\"\n",
    "print(data.endswith('com'))  # True\n",
    "print(data.endswith('org'))  # False\n",
    "\n",
    "# isalpha() - Checks if all characters in a string are alphabetic\n",
    "data = \"codeswithpankaj\"\n",
    "print(data.isalpha())  # True\n",
    "data = \"codeswithpankaj123\"\n",
    "print(data.isalpha())  # False\n",
    "\n",
    "# isdigit() - Checks if all characters in a string are digits\n",
    "\n",
    "data = \"123\"\n",
    "print(data.isdigit())  # True\n",
    "data = \"123abc\"\n",
    "print(data.isdigit())  # False\n",
    "\n",
    "\n",
    "# isalnum() - Checks if all characters in a string are alphanumeric\n",
    "data = \"codeswithpankaj123\"\n",
    "print(data.isalnum())  # True\n",
    "\n",
    "\n",
    "# isspace() - Checks if all characters in a string are whitespace\n",
    "data = \"   \"\n",
    "print(data.isspace())  # True\n",
    "\n",
    "\n",
    "# len() - Returns the length of a string\n",
    "data = \"codeswithpankaj.com\"\n",
    "print(len(data))  # 18\n",
    "\n",
    "\n",
    "# in - Checks if a substring is present in a string\n",
    "data = \"codeswithpankaj.com\"\n",
    "print('pankaj' in data)  # True\n",
    "\n",
    "# not in - Checks if a substring is not present in a string\n",
    "data = \"codeswithpankaj.com\"\n",
    "print('org' not in data)  # True   (org is not present in the string)\n",
    "\n"
   ]
  }
 ],
 "metadata": {
  "kernelspec": {
   "display_name": "Python 3",
   "language": "python",
   "name": "python3"
  },
  "language_info": {
   "codemirror_mode": {
    "name": "ipython",
    "version": 3
   },
   "file_extension": ".py",
   "mimetype": "text/x-python",
   "name": "python",
   "nbconvert_exporter": "python",
   "pygments_lexer": "ipython3",
   "version": "3.12.1"
  }
 },
 "nbformat": 4,
 "nbformat_minor": 2
}
