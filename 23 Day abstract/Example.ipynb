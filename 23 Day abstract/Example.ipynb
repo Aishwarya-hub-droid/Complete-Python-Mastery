{
 "cells": [
  {
   "cell_type": "code",
   "execution_count": 1,
   "id": "669f4d79",
   "metadata": {},
   "outputs": [
    {
     "name": "stdout",
     "output_type": "stream",
     "text": [
      "Washing apples...\n",
      "Cutting apples...\n",
      "Squeezing apples...\n",
      "Here is your apple juice!\n"
     ]
    }
   ],
   "source": [
    "class JuiceMachine:\n",
    "    def make_apple_juice(self):\n",
    "        # hidden steps inside\n",
    "        self.__wash_apples()\n",
    "        self.__cut_apples()\n",
    "        self.__squeeze_apples()\n",
    "        print(\"Here is your apple juice!\")\n",
    "\n",
    "    def __wash_apples(self):\n",
    "        print(\"Washing apples...\")\n",
    "\n",
    "    def __cut_apples(self):\n",
    "        print(\"Cutting apples...\")\n",
    "\n",
    "    def __squeeze_apples(self):\n",
    "        print(\"Squeezing apples...\")\n",
    "\n",
    "# User just presses button\n",
    "machine = JuiceMachine()\n",
    "machine.make_apple_juice()"
   ]
  }
 ],
 "metadata": {
  "kernelspec": {
   "display_name": "Python 3",
   "language": "python",
   "name": "python3"
  },
  "language_info": {
   "codemirror_mode": {
    "name": "ipython",
    "version": 3
   },
   "file_extension": ".py",
   "mimetype": "text/x-python",
   "name": "python",
   "nbconvert_exporter": "python",
   "pygments_lexer": "ipython3",
   "version": "3.13.5"
  }
 },
 "nbformat": 4,
 "nbformat_minor": 5
}
