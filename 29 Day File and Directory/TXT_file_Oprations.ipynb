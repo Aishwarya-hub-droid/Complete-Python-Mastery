{
 "cells": [
  {
   "cell_type": "code",
   "execution_count": null,
   "metadata": {},
   "outputs": [],
   "source": [
    "# text file Operations\n",
    "# 1. read 'r'\n",
    "# 2. write 'w'\n",
    "# 3. append 'a'\n",
    "# 4. read and write 'r+'\n",
    "# 5. write and read 'w+'\n",
    "# 6. append and read 'a+'"
   ]
  },
  {
   "cell_type": "code",
   "execution_count": 12,
   "metadata": {},
   "outputs": [],
   "source": [
    "# 2. write file\n",
    "# example\n",
    "\n",
    "with open('cwpc.txt', 'w') as f:\n",
    "    f.write('welcome to codeswithpankaj.com')\n"
   ]
  },
  {
   "cell_type": "code",
   "execution_count": 15,
   "metadata": {},
   "outputs": [
    {
     "name": "stdout",
     "output_type": "stream",
     "text": [
      "welcome to codeswithpankaj.com\n",
      " welcome to cwpc.in \n",
      "\n"
     ]
    }
   ],
   "source": [
    "# read file \n",
    "\n",
    "with open('cwpc.txt', 'r') as file:\n",
    "    data = file.read()\n",
    "    print(data)"
   ]
  },
  {
   "cell_type": "code",
   "execution_count": 14,
   "metadata": {},
   "outputs": [],
   "source": [
    "# append file\n",
    "\n",
    "with open('cwpc.txt','a') as f:\n",
    "    f.write('\\n welcome to cwpc.in \\n')"
   ]
  }
 ],
 "metadata": {
  "kernelspec": {
   "display_name": "Python 3",
   "language": "python",
   "name": "python3"
  },
  "language_info": {
   "codemirror_mode": {
    "name": "ipython",
    "version": 3
   },
   "file_extension": ".py",
   "mimetype": "text/x-python",
   "name": "python",
   "nbconvert_exporter": "python",
   "pygments_lexer": "ipython3",
   "version": "3.12.1"
  }
 },
 "nbformat": 4,
 "nbformat_minor": 2
}
