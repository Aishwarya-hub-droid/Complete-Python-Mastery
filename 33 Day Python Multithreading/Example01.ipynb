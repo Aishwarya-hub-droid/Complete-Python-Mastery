{
 "cells": [
  {
   "cell_type": "code",
   "execution_count": 5,
   "metadata": {},
   "outputs": [
    {
     "name": "stdout",
     "output_type": "stream",
     "text": [
      "Task 1 - Iteration 0\n",
      "Task 2 - Iteration 0\n",
      "Task 1 - Iteration 1\n",
      "Task 1 - Iteration 2\n",
      "Task 1 - Iteration 3\n",
      "Task 1 - Iteration 4\n",
      "Task 2 - Iteration 1\n",
      "Task 2 - Iteration 2\n",
      "Task 2 - Iteration 3\n",
      "Task 2 - Iteration 4\n",
      "All done!\n"
     ]
    }
   ],
   "source": [
    "import threading\n",
    "import time\n",
    "# Define two functions to be run in separate threads\n",
    "def task1():\n",
    "    for i in range(5):\n",
    "        print(\"Task 1 - Iteration\", i)\n",
    "        time.sleep(1)\n",
    "\n",
    "def task2():\n",
    "    for i in range(5):\n",
    "        print(\"Task 2 - Iteration\", i)\n",
    "        time.sleep(5)\n",
    "\n",
    "# create threads objects\n",
    "t1 = threading.Thread(target=task1)\n",
    "t2 = threading.Thread(target=task2)\n",
    "\n",
    "# start the threads\n",
    "t1.start()\n",
    "t2.start()\n",
    "\n",
    "# wait for the threads to finish\n",
    "t1.join()\n",
    "t2.join()\n",
    "\n",
    "print(\"All done!\")\n"
   ]
  },
  {
   "cell_type": "code",
   "execution_count": 6,
   "metadata": {},
   "outputs": [
    {
     "name": "stdout",
     "output_type": "stream",
     "text": [
      "Single-threaded program started.\n",
      "Task 1 started.\n",
      "Task 1 completed.\n",
      "Task 2 started.\n",
      "Task 2 completed.\n",
      "Single-threaded program completed.\n"
     ]
    }
   ],
   "source": [
    "def task1():\n",
    "    print(\"Task 1 started.\")\n",
    "    time.sleep(2)  # Simulate some time-consuming operation\n",
    "    print(\"Task 1 completed.\")\n",
    "\n",
    "def task2():\n",
    "    print(\"Task 2 started.\")\n",
    "    time.sleep(1)  # Simulate another operation\n",
    "    print(\"Task 2 completed.\")\n",
    "\n",
    "def main():\n",
    "    print(\"Single-threaded program started.\")\n",
    "    task1()\n",
    "    task2()\n",
    "    print(\"Single-threaded program completed.\")\n",
    "\n",
    "if __name__ == \"__main__\":\n",
    "    main()"
   ]
  },
  {
   "cell_type": "code",
   "execution_count": 7,
   "metadata": {},
   "outputs": [
    {
     "name": "stdout",
     "output_type": "stream",
     "text": [
      "Welcome Thread 1 ----  0\n",
      "Welcome Thread 1 ----  1\n",
      "Welcome Thread 1 ----  2\n",
      "Welcome Thread 1 ----  3\n",
      "Welcome Thread 1 ----  4\n",
      "Welcome Thread 1 ----  5\n",
      "Welcome Thread 1 ----  6\n",
      "Welcome Thread 1 ----  7\n",
      "Welcome Thread 1 ----  8\n",
      "Welcome Thread 1 ----  9\n"
     ]
    }
   ],
   "source": [
    "from threading import Thread  \n",
    "import time # import time module \n",
    "\n",
    "class threading1():\n",
    "  def run():\n",
    "    for i in range(10):\n",
    "      print('Welcome Thread 1 ---- ',i)\n",
    "      time.sleep(1)\n",
    "\n",
    "obj = threading1\n",
    "obj.run()"
   ]
  }
 ],
 "metadata": {
  "kernelspec": {
   "display_name": "Python 3",
   "language": "python",
   "name": "python3"
  },
  "language_info": {
   "codemirror_mode": {
    "name": "ipython",
    "version": 3
   },
   "file_extension": ".py",
   "mimetype": "text/x-python",
   "name": "python",
   "nbconvert_exporter": "python",
   "pygments_lexer": "ipython3",
   "version": "3.13.4"
  }
 },
 "nbformat": 4,
 "nbformat_minor": 2
}
