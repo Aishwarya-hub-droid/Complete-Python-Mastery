{
 "cells": [
  {
   "cell_type": "code",
   "execution_count": 13,
   "metadata": {},
   "outputs": [],
   "source": [
    "import pandas as pd"
   ]
  },
  {
   "cell_type": "code",
   "execution_count": 14,
   "metadata": {},
   "outputs": [
    {
     "name": "stdout",
     "output_type": "stream",
     "text": [
      "  programming          topic  unit\n",
      "0      python         pandas   101\n",
      "1         c++  variable in C   102\n",
      "2        java      interface   103\n",
      "3  javascript       function   104\n"
     ]
    }
   ],
   "source": [
    "# From a Dictionary:\n",
    "data = {\n",
    "    'programming':['python','c++','java','javascript'],\n",
    "    'topic':['pandas','variable in C','interface','function'],\n",
    "    'unit':[101,102,103,104]\n",
    "}\n",
    "\n",
    "df = pd.DataFrame(data)\n",
    "print(df)"
   ]
  },
  {
   "cell_type": "code",
   "execution_count": 44,
   "metadata": {},
   "outputs": [],
   "source": [
    "# From a List of Dictionaries: \n",
    "# data1 = [\n",
    "#     {'Name': 'Joy', 'Age': 25, 'Country': 'USA'},\n",
    "#     {'Name': 'Toy', 'Age': 30, 'Country': 'Canada'},\n",
    "#     {'Name': 'Roy', 'Age': 22, 'Country': 'UK'}\n",
    "# ]\n",
    "# df = pd.DataFrame(data1)\n",
    "# print(df)"
   ]
  },
  {
   "cell_type": "code",
   "execution_count": 17,
   "metadata": {},
   "outputs": [
    {
     "name": "stdout",
     "output_type": "stream",
     "text": [
      "   unit          topic\n",
      "0   101         pandas\n",
      "1   102  variable in C\n",
      "2   103      interface\n",
      "3   104       function\n"
     ]
    }
   ],
   "source": [
    "# From an Existing DataFrame:\n",
    "# Assuming 'df' is an existing DataFrame\n",
    "new_df = df[['unit', 'topic']]  \n",
    "# Creating a new DataFrame with only 'Name' and 'Age' columns\n",
    "print(new_df)"
   ]
  },
  {
   "cell_type": "code",
   "execution_count": 19,
   "metadata": {},
   "outputs": [
    {
     "name": "stdout",
     "output_type": "stream",
     "text": [
      "0        python\n",
      "1           c++\n",
      "2          java\n",
      "3    javascript\n",
      "Name: programming, dtype: object\n",
      "   unit          topic\n",
      "0   101         pandas\n",
      "1   102  variable in C\n",
      "2   103      interface\n",
      "3   104       function\n"
     ]
    }
   ],
   "source": [
    "# How to Select an Index or Column from a Pandas DataFrame\n",
    "# Select a single column\n",
    "name_column = df['programming']\n",
    "print(name_column)\n",
    "\n",
    "# Select multiple columns\n",
    "name_age_columns = df[['unit', 'topic']]\n",
    "print(name_age_columns)"
   ]
  },
  {
   "cell_type": "code",
   "execution_count": 21,
   "metadata": {},
   "outputs": [
    {
     "name": "stdout",
     "output_type": "stream",
     "text": [
      "programming    python\n",
      "topic          pandas\n",
      "unit              101\n",
      "Name: 0, dtype: object\n",
      "programming              c++\n",
      "topic          variable in C\n",
      "unit                     102\n",
      "Name: 1, dtype: object\n"
     ]
    }
   ],
   "source": [
    "# Using .loc to select rows by label\n",
    "first_row = df.loc[0]\n",
    "print(first_row)\n",
    "\n",
    "# Using .iloc to select rows by integer index\n",
    "second_row = df.iloc[1]\n",
    "print(second_row)"
   ]
  },
  {
   "cell_type": "code",
   "execution_count": 26,
   "metadata": {},
   "outputs": [
    {
     "name": "stdout",
     "output_type": "stream",
     "text": [
      "variable in C\n",
      "interface\n"
     ]
    }
   ],
   "source": [
    "# Using .loc to select specific rows and columns by label\n",
    "specific_row_col = df.loc[1, 'topic']\n",
    "print(specific_row_col)\n",
    "\n",
    "# Using .iloc to select specific rows and columns by integer index\n",
    "specific_row_col_iloc = df.iloc[2, 1]\n",
    "print(specific_row_col_iloc)"
   ]
  },
  {
   "cell_type": "code",
   "execution_count": 28,
   "metadata": {},
   "outputs": [
    {
     "name": "stdout",
     "output_type": "stream",
     "text": [
      "     programming          topic\n",
      "unit                           \n",
      "101       python         pandas\n",
      "102          c++  variable in C\n",
      "103         java      interface\n",
      "104   javascript       function\n"
     ]
    }
   ],
   "source": [
    "# Setting Index:\n",
    "df_with_index = df.set_index('unit')\n",
    "print(df_with_index)"
   ]
  },
  {
   "cell_type": "code",
   "execution_count": 34,
   "metadata": {},
   "outputs": [
    {
     "name": "stdout",
     "output_type": "stream",
     "text": [
      "   unit programming          topic\n",
      "0   101      python         pandas\n",
      "1   102         c++  variable in C\n",
      "2   103        java      interface\n",
      "3   104  javascript       function\n"
     ]
    }
   ],
   "source": [
    "# Resetting Index:\n",
    "df_reset = df_with_index.reset_index()\n",
    "print(df_reset)"
   ]
  },
  {
   "cell_type": "code",
   "execution_count": 38,
   "metadata": {},
   "outputs": [
    {
     "name": "stdout",
     "output_type": "stream",
     "text": [
      "DataFrame with Custom Index:\n",
      "     programming          topic\n",
      "unit                           \n",
      "101       python         pandas\n",
      "102          c++  variable in C\n",
      "103         java      interface\n",
      "104   javascript       function\n"
     ]
    }
   ],
   "source": [
    "# How to Add an Index, Row or Column to a Pandas DataFrame\n",
    "# Adding an Index\n",
    "df_with_index = df.set_index('unit')\n",
    "print(\"DataFrame with Custom Index:\")\n",
    "print(df_with_index)"
   ]
  },
  {
   "cell_type": "code",
   "execution_count": 49,
   "metadata": {},
   "outputs": [
    {
     "name": "stdout",
     "output_type": "stream",
     "text": [
      "\n",
      "DataFrame with New Column:\n",
      "{'programming': ['python', 'c++', 'java', 'javascript'], 'topic': ['pandas', 'variable in C', 'interface', 'function'], 'unit': [101, 102, 103, 104], 'course': ['IOS', 'Andorid', 'WebDev', 'SQL']}\n",
      "  programming          topic  unit   course\n",
      "0      python         pandas   101      IOS\n",
      "1         c++  variable in C   102  Andorid\n",
      "2        java      interface   103   WebDev\n",
      "3  javascript       function   104      SQL\n"
     ]
    }
   ],
   "source": [
    "\n",
    "# Adding a Column\n",
    "#df_with_new_column = df_with_new_row.copy()  # Create a copy to avoid modifying the original\n",
    "data['course'] = ['IOS', 'Andorid', 'WebDev', 'SQL']\n",
    "print(\"\\nDataFrame with New Column:\")\n",
    "print(data)"
   ]
  },
  {
   "cell_type": "code",
   "execution_count": 57,
   "metadata": {},
   "outputs": [
    {
     "name": "stdout",
     "output_type": "stream",
     "text": [
      "  programming          topic  unit   course\n",
      "0      python         pandas   101      IOS\n",
      "1         c++  variable in C   102  Andorid\n",
      "2        java      interface   103   WebDev\n",
      "3  javascript       function   104      SQL\n"
     ]
    }
   ],
   "source": [
    "df = pd.DataFrame(data)\n",
    "print(df)"
   ]
  },
  {
   "cell_type": "code",
   "execution_count": 66,
   "metadata": {},
   "outputs": [
    {
     "name": "stdout",
     "output_type": "stream",
     "text": [
      "  programming                        topic  unit    course\n",
      "0      python                       pandas   101       NaN\n",
      "1         c++                variable in C   102       NaN\n",
      "2        java                    interface   103       NaN\n",
      "3  javascript                     function   104       NaN\n",
      "4        ruby  object-oriented programming   105       NaN\n",
      "5        ruby  object-oriented programming   105  Database\n",
      "6        ruby  object-oriented programming   105  Database\n"
     ]
    }
   ],
   "source": [
    "# Adding a Row\n",
    "# Create a dictionary for the new row\n",
    "new_row = {'programming': 'ruby', 'topic': 'object-oriented programming', 'unit': 105,'course':'Database'}\n",
    "\n",
    "# Append the new row to the DataFrame\n",
    "df = pd.concat([df, pd.DataFrame([new_row])], ignore_index=True)\n",
    "\n",
    "print(df)"
   ]
  },
  {
   "cell_type": "code",
   "execution_count": null,
   "metadata": {},
   "outputs": [],
   "source": []
  }
 ],
 "metadata": {
  "kernelspec": {
   "display_name": "Python 3",
   "language": "python",
   "name": "python3"
  },
  "language_info": {
   "codemirror_mode": {
    "name": "ipython",
    "version": 3
   },
   "file_extension": ".py",
   "mimetype": "text/x-python",
   "name": "python",
   "nbconvert_exporter": "python",
   "pygments_lexer": "ipython3",
   "version": "3.10.8"
  },
  "orig_nbformat": 4
 },
 "nbformat": 4,
 "nbformat_minor": 2
}
