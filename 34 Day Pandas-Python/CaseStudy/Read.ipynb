{
 "cells": [
  {
   "cell_type": "code",
   "execution_count": 12,
   "metadata": {},
   "outputs": [
    {
     "name": "stdout",
     "output_type": "stream",
     "text": [
      "['prep_time', '45', '80', '15', '15', '15', '10', '10', '10', '20', '10', '10', '5', '20', '10', '30', '10', '10', '10', '10', '-1', '10', '-1', '10', '40', '25', '45', '20', '10', '15', '480', '45', '15', '15', '180', '10', '30', '10', '15', '5', '10', '20', '20', '10', '10', '10', '5', '180', '10', '240', '5', '10', '10', '10', '10', '40', '10', '10', '10', '10', '10', '10', '10', '10', '15', '10', '-1', '240', '5', '10', '5', '5', '10', '10', '20', '20', '30', '10', '20', '10', '10', '10', '120', '20', '10', '30', '10', '10', '20', '20', '10', '30', '20', '10', '20', '40', '20', '45', '20', '10', '45', '25', '30', '10', '10', '60', '25', '20', '20', '20', '15', '10', '5', '15', '10', '500', '15', '10', '30', '10', '20', '10', '10', '240', '240', '150', '30', '30', '10', '360', '120', '360', '10', '-1', '20', '-1', '10', '20', '10', '10', '10', '10', '10', '10', '5', '360', '10', '10', '5', '-1', '15', '10', '120', '-1', '10', '10', '495', '20', '120', '120', '10', '15', '10', '15', '10', '10', '10', '10', '-1', '20', '10', '20', '20', '-1', '10', '20', '5', '20', '20', '30', '30', '5', '10', '15', '10', '10', '-1', '20', '-1', '10', '10', '10', '20', '20', '10', '10', '10', '15', '5', '15', '10', '20', '10', '70', '20', '20', '10', '10', '60', '25', '25', '20', '10', '30', '-1', '5', '15', '-1', '10', '35', '12', '-1', '10', '10', '-1', '20', '5', '15', '-1', '10', '-1', '-1', '15', '10', '20', '-1', '20', '15', '-1', '-1', '-1', '-1', '-1', '-1', '10', '-1', '10', '-1', '15', '-1', '10', '5', '20', '-1', '20', '-1']\n"
     ]
    }
   ],
   "source": [
    "import csv\n",
    "# Open the CSV file\n",
    "data = []\n",
    "with open('indian_food.csv', 'r') as file:\n",
    "    # Create a CSV reader object\n",
    "    csv_reader = csv.reader(file)\n",
    "    for row in csv_reader:\n",
    "        # Access the data in each column of the row\n",
    "        column1 = row[3]\n",
    "        data.append(column1)\n",
    "        #print(column1,column2)\n",
    "print(data)        "
   ]
  },
  {
   "cell_type": "code",
   "execution_count": 13,
   "metadata": {},
   "outputs": [],
   "source": [
    "with open('output.csv', 'w', newline='') as file:\n",
    "    # Create a CSV writer object\n",
    "    csv_writer = csv.writer(file)\n",
    "\n",
    "    # Write the data to the CSV file\n",
    "    csv_writer.writerows(data)"
   ]
  },
  {
   "cell_type": "code",
   "execution_count": 15,
   "metadata": {},
   "outputs": [],
   "source": [
    "# Data to be written to the CSV file\n",
    "data = [\n",
    "    ['Name', 'Age', 'Country'],\n",
    "    ['John', '25', 'USA'],\n",
    "    ['Emily', '30', 'Canada'],\n",
    "    ['Sam', '22', 'Australia']\n",
    "]\n",
    "\n",
    "# Open the CSV file in write mode\n",
    "with open('output1.csv', 'w', newline='') as file:\n",
    "    # Create a CSV writer object\n",
    "    csv_writer = csv.writer(file)\n",
    "\n",
    "    # Write the data to the CSV file\n",
    "    csv_writer.writerows(data)"
   ]
  }
 ],
 "metadata": {
  "kernelspec": {
   "display_name": "Python 3",
   "language": "python",
   "name": "python3"
  },
  "language_info": {
   "codemirror_mode": {
    "name": "ipython",
    "version": 3
   },
   "file_extension": ".py",
   "mimetype": "text/x-python",
   "name": "python",
   "nbconvert_exporter": "python",
   "pygments_lexer": "ipython3",
   "version": "3.12.0"
  }
 },
 "nbformat": 4,
 "nbformat_minor": 2
}
