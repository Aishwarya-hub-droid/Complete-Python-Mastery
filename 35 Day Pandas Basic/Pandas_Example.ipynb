{
 "cells": [
  {
   "cell_type": "code",
   "execution_count": 1,
   "id": "a6f0ad45",
   "metadata": {},
   "outputs": [
    {
     "name": "stdout",
     "output_type": "stream",
     "text": [
      "Requirement already satisfied: pandas in c:\\users\\admin\\appdata\\local\\programs\\python\\python313\\lib\\site-packages (2.2.3)\n",
      "Requirement already satisfied: numpy>=1.26.0 in c:\\users\\admin\\appdata\\local\\programs\\python\\python313\\lib\\site-packages (from pandas) (2.2.4)\n",
      "Requirement already satisfied: python-dateutil>=2.8.2 in c:\\users\\admin\\appdata\\roaming\\python\\python313\\site-packages (from pandas) (2.9.0.post0)\n",
      "Requirement already satisfied: pytz>=2020.1 in c:\\users\\admin\\appdata\\local\\programs\\python\\python313\\lib\\site-packages (from pandas) (2025.2)\n",
      "Requirement already satisfied: tzdata>=2022.7 in c:\\users\\admin\\appdata\\roaming\\python\\python313\\site-packages (from pandas) (2025.1)\n",
      "Requirement already satisfied: six>=1.5 in c:\\users\\admin\\appdata\\roaming\\python\\python313\\site-packages (from python-dateutil>=2.8.2->pandas) (1.17.0)\n",
      "Note: you may need to restart the kernel to use updated packages.\n"
     ]
    },
    {
     "name": "stderr",
     "output_type": "stream",
     "text": [
      "\n",
      "[notice] A new release of pip is available: 25.0.1 -> 25.1.1\n",
      "[notice] To update, run: python.exe -m pip install --upgrade pip\n"
     ]
    }
   ],
   "source": [
    "%pip install pandas"
   ]
  },
  {
   "cell_type": "code",
   "execution_count": 2,
   "id": "c1e3e3ec",
   "metadata": {},
   "outputs": [
    {
     "name": "stdout",
     "output_type": "stream",
     "text": [
      "2.2.3\n"
     ]
    }
   ],
   "source": [
    "# check version \n",
    "import pandas as pd\n",
    "print(pd.__version__)"
   ]
  },
  {
   "cell_type": "code",
   "execution_count": 3,
   "id": "1fc665db",
   "metadata": {},
   "outputs": [
    {
     "name": "stdout",
     "output_type": "stream",
     "text": [
      "0      Java\n",
      "1       C++\n",
      "2        c#\n",
      "3    Python\n",
      "4      Ruby\n",
      "5       JSP\n",
      "dtype: object\n"
     ]
    }
   ],
   "source": [
    "# Series and a DataFrame.\n",
    "\n",
    "data = [\"Java\",\"C++\",\"c#\",\"Python\",\"Ruby\",\"JSP\"]\n",
    "\n",
    "s = pd.Series(data)\n",
    "print(s)"
   ]
  },
  {
   "cell_type": "code",
   "execution_count": 4,
   "id": "853f3aff",
   "metadata": {},
   "outputs": [
    {
     "name": "stdout",
     "output_type": "stream",
     "text": [
      "101      Java\n",
      "102       C++\n",
      "103        c#\n",
      "104    Python\n",
      "105      Ruby\n",
      "106       JSP\n",
      "dtype: object\n"
     ]
    }
   ],
   "source": [
    "indexs = [101,102,103,104,105,106]\n",
    "s = pd.Series(data,index=indexs)\n",
    "print(s)"
   ]
  },
  {
   "cell_type": "code",
   "execution_count": 7,
   "id": "5e5be4fc",
   "metadata": {},
   "outputs": [
    {
     "name": "stdout",
     "output_type": "stream",
     "text": [
      "    name  age  salary\n",
      "0    joy   23   23000\n",
      "1  rahul   45   45000\n",
      "2   yash   65   65000\n",
      "3  ketan   78   78000\n",
      "4   amit   42   42000\n"
     ]
    }
   ],
   "source": [
    "# create a DataFrame\n",
    "\n",
    "data = {\n",
    "    \"name\":[\"joy\",\"rahul\",\"yash\",\"ketan\",\"amit\"],\n",
    "    \"age\":[23,45,65,78,42],\n",
    "    \"salary\":[23000,45000,65000,78000,42000]\n",
    "}\n",
    "\n",
    "df = pd.DataFrame(data)\n",
    "print(df)"
   ]
  },
  {
   "cell_type": "code",
   "execution_count": 9,
   "id": "80a7b4ec",
   "metadata": {},
   "outputs": [
    {
     "name": "stdout",
     "output_type": "stream",
     "text": [
      "                Name     Salary          City  Age   Department Date of Join  \\\n",
      "0       Emily Harris   85432.45      New York   35    Marketing   14-03-2017   \n",
      "1       Jacob Wright   60523.12       Houston   29  Engineering   10-06-2019   \n",
      "2     Olivia Johnson   72345.00       Chicago   42           HR   23-09-2015   \n",
      "3     Ethan Thompson   38900.78       Phoenix   26      Support   05-02-2021   \n",
      "4       Ava Martinez  112300.00   Los Angeles   38      Finance   17-07-2013   \n",
      "5   William Anderson   51200.65  Philadelphia   31        Sales   30-12-2020   \n",
      "6       Sophia Clark   78000.30       Houston   45    Marketing   12-08-2016   \n",
      "7        James Lewis   44789.99       Chicago   28      Support   09-01-2022   \n",
      "8    Isabella Walker   91000.55      New York   37  Engineering   03-04-2018   \n",
      "9   Michael Robinson   69500.00       Phoenix   33           HR   15-11-2014   \n",
      "10   Charlotte Adams   76500.20       Chicago   34        Sales   24-05-2016   \n",
      "11   Benjamin Turner   83220.45       Houston   40  Engineering   02-11-2017   \n",
      "12   Amelia Mitchell   49000.99      New York   27           HR   18-03-2020   \n",
      "13       Lucas Perez  103200.75       Phoenix   44      Finance   01-12-2015   \n",
      "14        Mia Carter   58840.10  Philadelphia   30      Support   27-07-2021   \n",
      "15     Henry Ramirez   69000.50   Los Angeles   36    Marketing   06-10-2014   \n",
      "16     Harper Brooks   61000.00      New York   32  Engineering   10-09-2018   \n",
      "17     Daniel Murphy   74020.60       Chicago   41           HR   25-04-2013   \n",
      "18       Evelyn Bell   85800.75       Houston   39        Sales   19-08-2016   \n",
      "19    Matthew Cooper   44200.00       Phoenix   26      Support   14-06-2022   \n",
      "20      Abigail Reed   97500.95  Philadelphia   35      Finance   07-03-2015   \n",
      "21    Jackson Bailey   55200.89   Los Angeles   29    Marketing   30-12-2020   \n",
      "22    Scarlett Kelly   61800.30       Chicago   33        Sales   11-01-2019   \n",
      "23      Aiden Rivera   80500.22       Houston   38  Engineering   28-02-2017   \n",
      "24        Ella James   47000.40      New York   28           HR   05-10-2021   \n",
      "25      David Morgan  109000.00       Phoenix   45      Finance   22-08-2012   \n",
      "26        Grace Diaz   58300.75  Philadelphia   31      Support   13-04-2023   \n",
      "27       Joseph Hall   69500.33   Los Angeles   37    Marketing   19-01-2016   \n",
      "28        Chloe Ward   71200.66       Chicago   34        Sales   20-07-2018   \n",
      "29     Samuel Torres   82000.40       Houston   42  Engineering   17-06-2014   \n",
      "\n",
      "   Employee Code  \n",
      "0        EMP1000  \n",
      "1        EMP1001  \n",
      "2        EMP1002  \n",
      "3        EMP1003  \n",
      "4        EMP1004  \n",
      "5        EMP1005  \n",
      "6        EMP1006  \n",
      "7        EMP1007  \n",
      "8        EMP1008  \n",
      "9        EMP1009  \n",
      "10       EMP1100  \n",
      "11       EMP1101  \n",
      "12       EMP1102  \n",
      "13       EMP1103  \n",
      "14       EMP1104  \n",
      "15       EMP1105  \n",
      "16       EMP1106  \n",
      "17       EMP1107  \n",
      "18       EMP1108  \n",
      "19       EMP1109  \n",
      "20       EMP1110  \n",
      "21       EMP1111  \n",
      "22       EMP1112  \n",
      "23       EMP1113  \n",
      "24       EMP1114  \n",
      "25       EMP1115  \n",
      "26       EMP1116  \n",
      "27       EMP1117  \n",
      "28       EMP1118  \n",
      "29       EMP1119  \n"
     ]
    }
   ],
   "source": [
    "data = pd.read_csv(\"dataset/employee.csv\")\n",
    "print(data)"
   ]
  },
  {
   "cell_type": "code",
   "execution_count": 10,
   "id": "74bbebd1",
   "metadata": {},
   "outputs": [
    {
     "name": "stdout",
     "output_type": "stream",
     "text": [
      "             Name     Salary         City  Age   Department Date of Join  \\\n",
      "0    Emily Harris   85432.45     New York   35    Marketing   14-03-2017   \n",
      "1    Jacob Wright   60523.12      Houston   29  Engineering   10-06-2019   \n",
      "2  Olivia Johnson   72345.00      Chicago   42           HR   23-09-2015   \n",
      "3  Ethan Thompson   38900.78      Phoenix   26      Support   05-02-2021   \n",
      "4    Ava Martinez  112300.00  Los Angeles   38      Finance   17-07-2013   \n",
      "\n",
      "  Employee Code  \n",
      "0       EMP1000  \n",
      "1       EMP1001  \n",
      "2       EMP1002  \n",
      "3       EMP1003  \n",
      "4       EMP1004  \n"
     ]
    }
   ],
   "source": [
    "print(data.head())"
   ]
  },
  {
   "cell_type": "code",
   "execution_count": 11,
   "id": "77f04eb6",
   "metadata": {},
   "outputs": [
    {
     "name": "stdout",
     "output_type": "stream",
     "text": [
      "             Name    Salary      City  Age   Department Date of Join  \\\n",
      "0    Emily Harris  85432.45  New York   35    Marketing   14-03-2017   \n",
      "1    Jacob Wright  60523.12   Houston   29  Engineering   10-06-2019   \n",
      "2  Olivia Johnson  72345.00   Chicago   42           HR   23-09-2015   \n",
      "\n",
      "  Employee Code  \n",
      "0       EMP1000  \n",
      "1       EMP1001  \n",
      "2       EMP1002  \n"
     ]
    }
   ],
   "source": [
    "# top 3\n",
    "print(data.head(3))"
   ]
  },
  {
   "cell_type": "code",
   "execution_count": 12,
   "id": "529ba491",
   "metadata": {},
   "outputs": [
    {
     "name": "stdout",
     "output_type": "stream",
     "text": [
      "Index(['Name', 'Salary', 'City', 'Age', 'Department', 'Date of Join',\n",
      "       'Employee Code'],\n",
      "      dtype='object')\n"
     ]
    }
   ],
   "source": [
    "# print only column\n",
    "print(data.columns)"
   ]
  },
  {
   "cell_type": "code",
   "execution_count": 13,
   "id": "7f63434c",
   "metadata": {},
   "outputs": [
    {
     "name": "stdout",
     "output_type": "stream",
     "text": [
      "              Salary        Age\n",
      "count      30.000000  30.000000\n",
      "mean    71359.402667  34.833333\n",
      "std     19398.163795   5.736053\n",
      "min     38900.780000  26.000000\n",
      "25%     58435.587500  30.250000\n",
      "50%     70350.495000  34.500000\n",
      "75%     82915.437500  38.750000\n",
      "max    112300.000000  45.000000\n"
     ]
    }
   ],
   "source": [
    "print(data.describe())"
   ]
  },
  {
   "cell_type": "code",
   "execution_count": 14,
   "id": "a6afb917",
   "metadata": {},
   "outputs": [
    {
     "name": "stdout",
     "output_type": "stream",
     "text": [
      "<class 'pandas.core.frame.DataFrame'>\n",
      "RangeIndex: 30 entries, 0 to 29\n",
      "Data columns (total 7 columns):\n",
      " #   Column         Non-Null Count  Dtype  \n",
      "---  ------         --------------  -----  \n",
      " 0   Name           30 non-null     object \n",
      " 1   Salary         30 non-null     float64\n",
      " 2   City           30 non-null     object \n",
      " 3   Age            30 non-null     int64  \n",
      " 4   Department     30 non-null     object \n",
      " 5   Date of Join   30 non-null     object \n",
      " 6   Employee Code  30 non-null     object \n",
      "dtypes: float64(1), int64(1), object(5)\n",
      "memory usage: 1.8+ KB\n",
      "None\n"
     ]
    }
   ],
   "source": [
    "print(data.info())"
   ]
  }
 ],
 "metadata": {
  "kernelspec": {
   "display_name": "Python 3",
   "language": "python",
   "name": "python3"
  },
  "language_info": {
   "codemirror_mode": {
    "name": "ipython",
    "version": 3
   },
   "file_extension": ".py",
   "mimetype": "text/x-python",
   "name": "python",
   "nbconvert_exporter": "python",
   "pygments_lexer": "ipython3",
   "version": "3.13.2"
  }
 },
 "nbformat": 4,
 "nbformat_minor": 5
}
