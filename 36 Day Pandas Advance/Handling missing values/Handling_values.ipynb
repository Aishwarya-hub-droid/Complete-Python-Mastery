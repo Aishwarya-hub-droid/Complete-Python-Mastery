{
 "cells": [
  {
   "cell_type": "code",
   "execution_count": 1,
   "id": "18d528b5",
   "metadata": {},
   "outputs": [
    {
     "name": "stdout",
     "output_type": "stream",
     "text": [
      "Collecting pandas\n",
      "  Downloading pandas-2.2.3-cp313-cp313-win_amd64.whl.metadata (19 kB)\n",
      "Requirement already satisfied: numpy>=1.26.0 in c:\\users\\programming\\appdata\\local\\programs\\python\\python313\\lib\\site-packages (from pandas) (2.2.4)\n",
      "Requirement already satisfied: python-dateutil>=2.8.2 in c:\\users\\programming\\appdata\\roaming\\python\\python313\\site-packages (from pandas) (2.9.0.post0)\n",
      "Collecting pytz>=2020.1 (from pandas)\n",
      "  Downloading pytz-2025.2-py2.py3-none-any.whl.metadata (22 kB)\n",
      "Requirement already satisfied: tzdata>=2022.7 in c:\\users\\programming\\appdata\\local\\programs\\python\\python313\\lib\\site-packages (from pandas) (2025.1)\n",
      "Requirement already satisfied: six>=1.5 in c:\\users\\programming\\appdata\\roaming\\python\\python313\\site-packages (from python-dateutil>=2.8.2->pandas) (1.17.0)\n",
      "Downloading pandas-2.2.3-cp313-cp313-win_amd64.whl (11.5 MB)\n",
      "   ---------------------------------------- 0.0/11.5 MB ? eta -:--:--\n",
      "   -------- ------------------------------- 2.4/11.5 MB 11.8 MB/s eta 0:00:01\n",
      "   ----------------- ---------------------- 5.0/11.5 MB 11.7 MB/s eta 0:00:01\n",
      "   -------------------------- ------------- 7.6/11.5 MB 11.7 MB/s eta 0:00:01\n",
      "   ---------------------------------- ----- 10.0/11.5 MB 11.8 MB/s eta 0:00:01\n",
      "   ---------------------------------------- 11.5/11.5 MB 11.0 MB/s eta 0:00:00\n",
      "Downloading pytz-2025.2-py2.py3-none-any.whl (509 kB)\n",
      "Installing collected packages: pytz, pandas\n",
      "Successfully installed pandas-2.2.3 pytz-2025.2\n",
      "Note: you may need to restart the kernel to use updated packages.\n"
     ]
    },
    {
     "name": "stderr",
     "output_type": "stream",
     "text": [
      "\n",
      "[notice] A new release of pip is available: 24.3.1 -> 25.0.1\n",
      "[notice] To update, run: python.exe -m pip install --upgrade pip\n"
     ]
    }
   ],
   "source": [
    "# install pandas \n",
    "\n",
    "%pip install pandas"
   ]
  },
  {
   "cell_type": "code",
   "execution_count": 2,
   "id": "f54256a1",
   "metadata": {},
   "outputs": [
    {
     "name": "stdout",
     "output_type": "stream",
     "text": [
      "  Department            Department_Name                        Division  \\\n",
      "0        ABS  Alcohol Beverage Services           ABS 85 Administration   \n",
      "1        ABS  Alcohol Beverage Services           ABS 85 Administration   \n",
      "2        ABS  Alcohol Beverage Services           ABS 85 Administration   \n",
      "3        ABS  Alcohol Beverage Services  ABS 85 Administrative Services   \n",
      "4        ABS  Alcohol Beverage Services  ABS 85 Administrative Services   \n",
      "\n",
      "  Gender  Base_Salary  Overtime_Pay  Longevity_Pay Grade  \n",
      "0      M   175873.000           NaN            NaN    M2  \n",
      "1      M   145613.360           NaN            NaN    M3  \n",
      "2      F    13697.000           NaN            NaN    M3  \n",
      "3      F    89432.694           NaN          249.0    21  \n",
      "4      F    78947.000        456.68         6257.7    16  \n"
     ]
    }
   ],
   "source": [
    "# import pandas \n",
    "\n",
    "import pandas as pd\n",
    "\n",
    "# read the csv file\n",
    "\n",
    "data = pd.read_csv(\"Employee_Salaries.csv\")\n",
    "\n",
    "# print the first 5 rows of the dataframe\n",
    "\n",
    "print(data.head())"
   ]
  },
  {
   "cell_type": "code",
   "execution_count": 4,
   "id": "b1f46551",
   "metadata": {},
   "outputs": [
    {
     "name": "stdout",
     "output_type": "stream",
     "text": [
      "Index(['Department', 'Department_Name', 'Division', 'Gender', 'Base_Salary',\n",
      "       'Overtime_Pay', 'Longevity_Pay', 'Grade'],\n",
      "      dtype='object')\n"
     ]
    }
   ],
   "source": [
    "# check columns name \n",
    "\n",
    "print(data.columns)"
   ]
  },
  {
   "cell_type": "code",
   "execution_count": 7,
   "id": "4c8ccffc",
   "metadata": {},
   "outputs": [
    {
     "name": "stdout",
     "output_type": "stream",
     "text": [
      "10291\n",
      "8\n"
     ]
    }
   ],
   "source": [
    "# check row count\n",
    "print(data.shape[0])\n",
    "# check column count\n",
    "print(data.shape[1])"
   ]
  },
  {
   "cell_type": "code",
   "execution_count": 8,
   "id": "6aaf93c7",
   "metadata": {},
   "outputs": [
    {
     "name": "stdout",
     "output_type": "stream",
     "text": [
      "Department          object\n",
      "Department_Name     object\n",
      "Division            object\n",
      "Gender              object\n",
      "Base_Salary        float64\n",
      "Overtime_Pay       float64\n",
      "Longevity_Pay      float64\n",
      "Grade               object\n",
      "dtype: object\n"
     ]
    }
   ],
   "source": [
    "# check data types of each column\n",
    "print(data.dtypes)"
   ]
  },
  {
   "cell_type": "code",
   "execution_count": 9,
   "id": "7ed7ca00",
   "metadata": {},
   "outputs": [
    {
     "name": "stdout",
     "output_type": "stream",
     "text": [
      "         Base_Salary   Overtime_Pay  Longevity_Pay\n",
      "count   10291.000000    5640.000000    2837.000000\n",
      "mean    54517.999893    9866.302929    3875.639115\n",
      "std     46325.605040   17031.141579    3844.706186\n",
      "min         1.000000       1.490000       9.570000\n",
      "25%      8217.000000     544.912500     755.400000\n",
      "50%     58263.000000    2750.635000    2337.900000\n",
      "75%     91193.000000   12152.782500    5989.380000\n",
      "max    246162.470000  227428.990000   17885.540000\n"
     ]
    }
   ],
   "source": [
    "# check summary statistics of the dataframe\n",
    "print(data.describe())"
   ]
  },
  {
   "cell_type": "code",
   "execution_count": 10,
   "id": "884c984c",
   "metadata": {},
   "outputs": [
    {
     "name": "stdout",
     "output_type": "stream",
     "text": [
      "Department            0\n",
      "Department_Name       0\n",
      "Division              0\n",
      "Gender                0\n",
      "Base_Salary           0\n",
      "Overtime_Pay       4651\n",
      "Longevity_Pay      7454\n",
      "Grade                33\n",
      "dtype: int64\n"
     ]
    }
   ],
   "source": [
    "# check for missing values\n",
    "print(data.isnull().sum())"
   ]
  },
  {
   "cell_type": "code",
   "execution_count": 12,
   "id": "82456409",
   "metadata": {},
   "outputs": [],
   "source": [
    "# handling missing values\n",
    "data.fillna(0, inplace=True)"
   ]
  },
  {
   "cell_type": "code",
   "execution_count": 13,
   "id": "efd92a56",
   "metadata": {},
   "outputs": [
    {
     "name": "stdout",
     "output_type": "stream",
     "text": [
      "Department         0\n",
      "Department_Name    0\n",
      "Division           0\n",
      "Gender             0\n",
      "Base_Salary        0\n",
      "Overtime_Pay       0\n",
      "Longevity_Pay      0\n",
      "Grade              0\n",
      "dtype: int64\n"
     ]
    }
   ],
   "source": [
    "# check for missing values\n",
    "print(data.isnull().sum())"
   ]
  }
 ],
 "metadata": {
  "kernelspec": {
   "display_name": "Python 3",
   "language": "python",
   "name": "python3"
  },
  "language_info": {
   "codemirror_mode": {
    "name": "ipython",
    "version": 3
   },
   "file_extension": ".py",
   "mimetype": "text/x-python",
   "name": "python",
   "nbconvert_exporter": "python",
   "pygments_lexer": "ipython3",
   "version": "3.13.2"
  }
 },
 "nbformat": 4,
 "nbformat_minor": 5
}
