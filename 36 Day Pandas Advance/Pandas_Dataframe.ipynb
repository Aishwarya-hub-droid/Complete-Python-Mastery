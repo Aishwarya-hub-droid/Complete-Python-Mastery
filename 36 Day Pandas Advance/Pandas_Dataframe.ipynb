{
 "cells": [
  {
   "cell_type": "code",
   "execution_count": 4,
   "metadata": {},
   "outputs": [
    {
     "name": "stdout",
     "output_type": "stream",
     "text": [
      "      name    city  salary\n",
      "0      joy  mumbai   34000\n",
      "1  nishant    pune   56000\n",
      "2  shubham   surat   23000\n",
      "3     tiya  jaipur   89000\n",
      "4     kiya    bhuj   80000\n"
     ]
    }
   ],
   "source": [
    "# pandas dataframe\n",
    "\n",
    "import pandas as pd\n",
    "\n",
    "data = {\n",
    "    'name':['joy','nishant','shubham','tiya','kiya'],\n",
    "    'city':['mumbai','pune','surat','jaipur','bhuj'],\n",
    "    'salary':[34000,56000,23000,89000,80000]\n",
    "}\n",
    "\n",
    "df = pd.DataFrame(data)\n",
    "print(df)\n"
   ]
  },
  {
   "cell_type": "code",
   "execution_count": 5,
   "metadata": {},
   "outputs": [
    {
     "name": "stdout",
     "output_type": "stream",
     "text": [
      "      name    city  salary\n",
      "1      joy  mumbai   34000\n",
      "2  nishant    pune   56000\n",
      "3  shubham   surat   23000\n",
      "4     tiya  jaipur   89000\n",
      "5     kiya    bhuj   80000\n"
     ]
    }
   ],
   "source": [
    "# index \n",
    "\n",
    "index_c =  [1,2,3,4,5]\n",
    "\n",
    "df = pd.DataFrame(data, index = index_c)\n",
    "print(df)"
   ]
  },
  {
   "cell_type": "code",
   "execution_count": 6,
   "metadata": {},
   "outputs": [
    {
     "name": "stdout",
     "output_type": "stream",
     "text": [
      "      Name  Age Country\n",
      "0    Alice   25     USA\n",
      "1      Bob   30  Canada\n",
      "2  Charlie   22      UK\n"
     ]
    }
   ],
   "source": [
    "data = [\n",
    "    {'Name': 'Alice', 'Age': 25, 'Country': 'USA'},\n",
    "    {'Name': 'Bob', 'Age': 30, 'Country': 'Canada'},\n",
    "    {'Name': 'Charlie', 'Age': 22, 'Country': 'UK'}\n",
    "]\n",
    "df = pd.DataFrame(data)\n",
    "print(df)"
   ]
  },
  {
   "cell_type": "code",
   "execution_count": 9,
   "metadata": {},
   "outputs": [
    {
     "name": "stdout",
     "output_type": "stream",
     "text": [
      "      Name  Age\n",
      "0    Alice   25\n",
      "1      Bob   30\n",
      "2  Charlie   22\n"
     ]
    }
   ],
   "source": [
    "new_df = df[['Name','Age']]\n",
    "print(new_df)"
   ]
  },
  {
   "cell_type": "code",
   "execution_count": 10,
   "metadata": {},
   "outputs": [
    {
     "name": "stdout",
     "output_type": "stream",
     "text": [
      "Name       Alice\n",
      "Age           25\n",
      "Country      USA\n",
      "Name: 0, dtype: object\n"
     ]
    }
   ],
   "source": [
    "# Using .loc to select rows by label\n",
    "first_row = df.loc[0]\n",
    "print(first_row)\n",
    "\n"
   ]
  },
  {
   "cell_type": "code",
   "execution_count": 11,
   "metadata": {},
   "outputs": [
    {
     "name": "stdout",
     "output_type": "stream",
     "text": [
      "Name          Bob\n",
      "Age            30\n",
      "Country    Canada\n",
      "Name: 1, dtype: object\n"
     ]
    }
   ],
   "source": [
    "# Using .iloc to select rows by integer index\n",
    "second_row = df.iloc[1]\n",
    "print(second_row)"
   ]
  },
  {
   "cell_type": "code",
   "execution_count": 12,
   "metadata": {},
   "outputs": [
    {
     "name": "stdout",
     "output_type": "stream",
     "text": [
      "Bob\n"
     ]
    }
   ],
   "source": [
    "# Using .loc to select specific rows and columns by label\n",
    "specific_row_col = df.loc[1, 'Name']\n",
    "print(specific_row_col)"
   ]
  },
  {
   "cell_type": "code",
   "execution_count": 13,
   "metadata": {},
   "outputs": [
    {
     "name": "stdout",
     "output_type": "stream",
     "text": [
      "25\n"
     ]
    }
   ],
   "source": [
    "# Using .iloc to select specific rows and columns by integer index\n",
    "specific_row_col_iloc = df.iloc[0, 1]\n",
    "print(specific_row_col_iloc)"
   ]
  },
  {
   "cell_type": "code",
   "execution_count": 14,
   "metadata": {},
   "outputs": [
    {
     "name": "stdout",
     "output_type": "stream",
     "text": [
      "         Age Country\n",
      "Name                \n",
      "Alice     25     USA\n",
      "Bob       30  Canada\n",
      "Charlie   22      UK\n"
     ]
    }
   ],
   "source": [
    "df_with_index = df.set_index('Name')\n",
    "print(df_with_index)"
   ]
  },
  {
   "cell_type": "code",
   "execution_count": 19,
   "metadata": {},
   "outputs": [
    {
     "name": "stdout",
     "output_type": "stream",
     "text": [
      "      Name  Age Country\n",
      "0    Alice   25     USA\n",
      "1      Bob   30  Canada\n",
      "2  Charlie   22      UK\n"
     ]
    }
   ],
   "source": [
    "# Creating a DataFrame\n",
    "data = {\n",
    "    'Name': ['Alice', 'Bob', 'Charlie'],\n",
    "    'Age': [25, 30, 22],\n",
    "    'Country': ['USA', 'Canada', 'UK']\n",
    "}\n",
    "df = pd.DataFrame(data)\n",
    "print(df)"
   ]
  },
  {
   "cell_type": "code",
   "execution_count": 28,
   "metadata": {},
   "outputs": [
    {
     "name": "stdout",
     "output_type": "stream",
     "text": [
      "      Name  Age    Country\n",
      "0    Alice   25        USA\n",
      "1      Bob   30     Canada\n",
      "2  Charlie   22         UK\n",
      "3    David   28  Australia\n",
      "4    David   28  Australia\n"
     ]
    }
   ],
   "source": [
    "# Adding a New Row\n",
    "new_row = {'Name': 'David', 'Age': 28, 'Country': 'Australia'}\n",
    "# Append the new row to the DataFrame\n",
    "df = pd.concat([df, pd.DataFrame([new_row])], ignore_index=True)\n",
    "\n",
    "print(df)"
   ]
  },
  {
   "cell_type": "code",
   "execution_count": 29,
   "metadata": {},
   "outputs": [
    {
     "name": "stdout",
     "output_type": "stream",
     "text": [
      "\n",
      "DataFrame with New Column:\n",
      "      Name  Age    Country  height\n",
      "0    Alice   25        USA     4.5\n",
      "1      Bob   30     Canada     6.7\n",
      "2  Charlie   22         UK     5.6\n",
      "3    David   28  Australia     4.5\n",
      "4    David   28  Australia     5.6\n"
     ]
    }
   ],
   "source": [
    "# Adding a Column\n",
    "#df_with_new_column = df_with_new_row.copy()  # Create a copy to avoid modifying the original\n",
    "df['height'] = [4.5,6.7,5.6,4.5,5.6] \n",
    "print(\"\\nDataFrame with New Column:\")\n",
    "print(df)"
   ]
  }
 ],
 "metadata": {
  "kernelspec": {
   "display_name": "Python 3",
   "language": "python",
   "name": "python3"
  },
  "language_info": {
   "codemirror_mode": {
    "name": "ipython",
    "version": 3
   },
   "file_extension": ".py",
   "mimetype": "text/x-python",
   "name": "python",
   "nbconvert_exporter": "python",
   "pygments_lexer": "ipython3",
   "version": "3.13.0"
  }
 },
 "nbformat": 4,
 "nbformat_minor": 2
}
