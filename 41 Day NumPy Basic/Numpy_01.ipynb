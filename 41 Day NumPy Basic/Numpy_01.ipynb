{
 "cells": [
  {
   "cell_type": "code",
   "execution_count": 2,
   "id": "dd8c1526",
   "metadata": {},
   "outputs": [
    {
     "name": "stdout",
     "output_type": "stream",
     "text": [
      "Requirement already satisfied: numpy in c:\\users\\programming\\appdata\\local\\programs\\python\\python313\\lib\\site-packages (2.2.4)\n",
      "Note: you may need to restart the kernel to use updated packages.\n"
     ]
    }
   ],
   "source": [
    "# install numpy\n",
    "%pip install numpy"
   ]
  },
  {
   "cell_type": "code",
   "execution_count": 3,
   "id": "52dd2502",
   "metadata": {},
   "outputs": [
    {
     "name": "stdout",
     "output_type": "stream",
     "text": [
      "2.2.4\n"
     ]
    }
   ],
   "source": [
    "# check numpy version\n",
    "import numpy as np\n",
    "print(np.__version__)"
   ]
  },
  {
   "cell_type": "code",
   "execution_count": null,
   "id": "a9b0cffe",
   "metadata": {},
   "outputs": [
    {
     "name": "stdout",
     "output_type": "stream",
     "text": [
      "[1 2 3 4 5]\n",
      "<class 'numpy.ndarray'>\n",
      "(5,)\n",
      "int64\n",
      "5\n",
      "8\n",
      "1\n"
     ]
    }
   ],
   "source": [
    "# create a numpy array\n",
    "arr = np.array([1, 2, 3, 4, 5])\n",
    "print(arr)\n",
    "# check the type of the array\n",
    "print(type(arr))\n",
    "# check the shape of the array\n",
    "print(arr.shape)\n",
    "# check the data type of the array\n",
    "print(arr.dtype)\n",
    "# check the size of the array\n",
    "print(arr.size)\n",
    "# check the item size of the array\n",
    "print(arr.itemsize)\n",
    "# check the number of dimensions of the array\n",
    "print(arr.ndim)"
   ]
  },
  {
   "cell_type": "code",
   "execution_count": 9,
   "id": "31d40923",
   "metadata": {},
   "outputs": [
    {
     "name": "stdout",
     "output_type": "stream",
     "text": [
      "[[1 2 3]\n",
      " [4 5 6]\n",
      " [7 8 9]]\n",
      "(3, 3)\n",
      "int64\n",
      "9\n",
      "8\n",
      "2\n"
     ]
    }
   ],
   "source": [
    "# multidimensional array\n",
    "arr2 = np.array([[1, 2, 3], [4, 5, 6], [7, 8, 9]])\n",
    "print(arr2)\n",
    "# check the shape of the array\n",
    "print(arr2.shape)\n",
    "# check the data type of the array\n",
    "print(arr2.dtype)\n",
    "# check the size of the array\n",
    "print(arr2.size)\n",
    "# check the item size of the array\n",
    "print(arr2.itemsize)\n",
    "# check the number of dimensions of the array\n",
    "print(arr2.ndim)"
   ]
  },
  {
   "cell_type": "code",
   "execution_count": 8,
   "id": "3ae0cd8b",
   "metadata": {},
   "outputs": [
    {
     "name": "stdout",
     "output_type": "stream",
     "text": [
      "[[1 2 3]\n",
      " [4 5 6]]\n",
      "(2, 3)\n",
      "2\n"
     ]
    }
   ],
   "source": [
    "# 2d array\n",
    "arr3 = np.array([[1, 2, 3], [4, 5, 6]])\n",
    "print(arr3)\n",
    "# check the shape of the array\n",
    "print(arr3.shape)\n",
    "# check demensions\n",
    "print(arr3.ndim)"
   ]
  },
  {
   "cell_type": "code",
   "execution_count": 10,
   "id": "2c7d52c8",
   "metadata": {},
   "outputs": [
    {
     "name": "stdout",
     "output_type": "stream",
     "text": [
      "[[[1 2]\n",
      "  [3 4]]\n",
      "\n",
      " [[5 6]\n",
      "  [7 8]]]\n",
      "(2, 2, 2)\n",
      "3\n"
     ]
    }
   ],
   "source": [
    "# 3d array\n",
    "arr4 = np.array([[[1, 2], [3, 4]], [[5, 6], [7, 8]]])\n",
    "print(arr4)\n",
    "# check the shape of the array\n",
    "print(arr4.shape)\n",
    "# check the number of dimensions of the array\n",
    "print(arr4.ndim)"
   ]
  },
  {
   "cell_type": "code",
   "execution_count": 11,
   "id": "3d807e97",
   "metadata": {},
   "outputs": [
    {
     "name": "stdout",
     "output_type": "stream",
     "text": [
      "[[[[1 2]\n",
      "   [3 4]]\n",
      "\n",
      "  [[5 6]\n",
      "   [7 8]]]]\n",
      "(1, 2, 2, 2)\n",
      "4\n"
     ]
    }
   ],
   "source": [
    "# 4d array\n",
    "arr5 = np.array([[[[1, 2], [3, 4]], [[5, 6], [7, 8]]]])\n",
    "print(arr5)\n",
    "# check the shape of the array\n",
    "print(arr5.shape)\n",
    "# check the number of dimensions of the array\n",
    "print(arr5.ndim)"
   ]
  },
  {
   "cell_type": "code",
   "execution_count": 20,
   "id": "25ad3d74",
   "metadata": {},
   "outputs": [
    {
     "name": "stdout",
     "output_type": "stream",
     "text": [
      "[ 6  7  8  9 10]\n",
      "[-4 -3 -2 -1  0]\n",
      "[ 5 10 15 20 25]\n",
      "[0.2 0.4 0.6 0.8 1. ]\n",
      "[ 1  4  9 16 25]\n",
      "[1.         1.41421356 1.73205081 2.         2.23606798]\n",
      "15\n",
      "3.0\n",
      "3.0\n"
     ]
    }
   ],
   "source": [
    "# maths operations in numpy\n",
    "arr6 = np.array([1, 2, 3, 4, 5])\n",
    "print(arr6 + 5)  # add 5 to each element\n",
    "\n",
    "# subtract 5 from each element\n",
    "print(arr6 - 5)\n",
    "\n",
    "# multiply each element by 5\n",
    "print(arr6 * 5)\n",
    "\n",
    "# divide each element by 5\n",
    "print(arr6 / 5)\n",
    "\n",
    "# raise each element to the power of 2\n",
    "print(arr6 ** 2)\n",
    "\n",
    "# find the square root of each element\n",
    "print(np.sqrt(arr6))\n",
    "\n",
    "# find the sum of all elements\n",
    "print(np.sum(arr6))\n",
    "\n",
    "# find the mean of all elements\n",
    "print(np.mean(arr6))\n",
    "\n",
    "# find the median of all elements\n",
    "print(np.median(arr6))"
   ]
  },
  {
   "cell_type": "code",
   "execution_count": 26,
   "id": "cf1b4139",
   "metadata": {},
   "outputs": [
    {
     "name": "stdout",
     "output_type": "stream",
     "text": [
      "[0.90118629 0.71915897 0.24373453 0.45543835 0.50643571]\n",
      "[3 4 2 5 5]\n",
      "[[0.307587   0.43455816 0.01596235]\n",
      " [0.93636585 0.52070785 0.68739131]\n",
      " [0.21751107 0.65055805 0.51734293]]\n",
      "[[9 2 9]\n",
      " [9 5 1]\n",
      " [0 2 8]]\n"
     ]
    }
   ],
   "source": [
    "# random numbers\n",
    "arr7 = np.random.rand(5)  # generate 5 random numbers between 0 and 1\n",
    "print(arr7)\n",
    "\n",
    "# generate 5 random integers between 0 and 10\n",
    "arr8 = np.random.randint(0, 10, 5)\n",
    "print(arr8)\n",
    "\n",
    "# generate a 2d array of random numbers\n",
    "arr9 = np.random.rand(3, 3)  # 3x3 array of random numbers between 0 and 1\n",
    "print(arr9)\n",
    "\n",
    "# generate a 2d array of random integers between 0 and 10\n",
    "arr10 = np.random.randint(0, 10, (3, 3))\n",
    "print(arr10)"
   ]
  },
  {
   "cell_type": "code",
   "execution_count": 28,
   "id": "4eebeff6",
   "metadata": {},
   "outputs": [
    {
     "name": "stdout",
     "output_type": "stream",
     "text": [
      "[[0. 0. 0.]\n",
      " [0. 0. 0.]\n",
      " [0. 0. 0.]]\n"
     ]
    }
   ],
   "source": [
    "# zeros array\n",
    "arr11 = np.zeros((3, 3))  # 3x3 array of zeros\n",
    "print(arr11)"
   ]
  },
  {
   "cell_type": "code",
   "execution_count": 30,
   "id": "f6e39462",
   "metadata": {},
   "outputs": [
    {
     "name": "stdout",
     "output_type": "stream",
     "text": [
      "[[1. 1. 1.]\n",
      " [1. 1. 1.]\n",
      " [1. 1. 1.]]\n"
     ]
    }
   ],
   "source": [
    "# generate an array of ones\n",
    "arr12 = np.ones((3, 3))  # 3x3 array of ones\n",
    "print(arr12)"
   ]
  },
  {
   "cell_type": "code",
   "execution_count": 31,
   "id": "0514a5d2",
   "metadata": {},
   "outputs": [
    {
     "name": "stdout",
     "output_type": "stream",
     "text": [
      "[0 2 4 6 8]\n"
     ]
    }
   ],
   "source": [
    "# Array with evenly spaced numbers\n",
    "arr13 = np.arange(0, 10, 2)  # start, stop, step\n",
    "print(arr13)"
   ]
  },
  {
   "cell_type": "code",
   "execution_count": 32,
   "id": "93cfe6d0",
   "metadata": {},
   "outputs": [
    {
     "name": "stdout",
     "output_type": "stream",
     "text": [
      "1\n",
      "5\n"
     ]
    }
   ],
   "source": [
    "# minimum and maximum of an array\n",
    "arr14 = np.array([1, 2, 3, 4, 5])\n",
    "print(np.min(arr14))  # minimum value\n",
    "print(np.max(arr14))  # maximum value"
   ]
  }
 ],
 "metadata": {
  "kernelspec": {
   "display_name": "Python 3",
   "language": "python",
   "name": "python3"
  },
  "language_info": {
   "codemirror_mode": {
    "name": "ipython",
    "version": 3
   },
   "file_extension": ".py",
   "mimetype": "text/x-python",
   "name": "python",
   "nbconvert_exporter": "python",
   "pygments_lexer": "ipython3",
   "version": "3.13.5"
  }
 },
 "nbformat": 4,
 "nbformat_minor": 5
}
