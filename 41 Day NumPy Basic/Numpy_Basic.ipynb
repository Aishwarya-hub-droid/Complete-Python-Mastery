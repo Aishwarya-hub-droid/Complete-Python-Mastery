{
 "cells": [
  {
   "cell_type": "code",
   "execution_count": 2,
   "id": "a8e922ce",
   "metadata": {},
   "outputs": [
    {
     "name": "stdout",
     "output_type": "stream",
     "text": [
      "Requirement already satisfied: numpy in c:\\users\\programming\\appdata\\local\\programs\\python\\python313\\lib\\site-packages (2.2.4)\n",
      "Note: you may need to restart the kernel to use updated packages.\n"
     ]
    }
   ],
   "source": [
    "# numpy in python\n",
    "# numpy is a library for the Python programming language, adding support for large, multi-dimensional arrays and\n",
    "# matrices, along with a large collection of high-level mathematical functions to operate on these arrays.\n",
    "# https://numpy.org/\n",
    "# install numpy\n",
    "%pip install numpy"
   ]
  },
  {
   "cell_type": "code",
   "execution_count": 3,
   "id": "4fe48e6b",
   "metadata": {},
   "outputs": [
    {
     "name": "stdout",
     "output_type": "stream",
     "text": [
      "Numpy version: 2.2.4\n"
     ]
    }
   ],
   "source": [
    "import numpy as np\n",
    "\n",
    "# check numpy version\n",
    "print(\"Numpy version:\", np.__version__)"
   ]
  },
  {
   "cell_type": "code",
   "execution_count": 4,
   "id": "88df9791",
   "metadata": {},
   "outputs": [
    {
     "name": "stdout",
     "output_type": "stream",
     "text": [
      "Numpy array: [1 2 3 4 5]\n"
     ]
    }
   ],
   "source": [
    "# create a numpy array\n",
    "arr = np.array([1, 2, 3, 4, 5])\n",
    "\n",
    "# print the array\n",
    "print(\"Numpy array:\", arr)"
   ]
  },
  {
   "cell_type": "code",
   "execution_count": 6,
   "id": "6920aa72",
   "metadata": {},
   "outputs": [
    {
     "name": "stdout",
     "output_type": "stream",
     "text": [
      "2D Numpy array:\n",
      " [[1 2 3]\n",
      " [4 5 6]\n",
      " [7 8 9]]\n"
     ]
    }
   ],
   "source": [
    "# 2d array\n",
    "arr_2d = np.array([[1, 2, 3], [4, 5, 6], [7, 8, 9]])\n",
    "# print the 2d array\n",
    "print(\"2D Numpy array:\\n\", arr_2d)"
   ]
  },
  {
   "cell_type": "code",
   "execution_count": 8,
   "id": "6c3a4a65",
   "metadata": {},
   "outputs": [
    {
     "name": "stdout",
     "output_type": "stream",
     "text": [
      "Element at (0, 1): 2\n",
      "5\n"
     ]
    }
   ],
   "source": [
    "# accessing elements\n",
    "print(\"Element at (0, 1):\", arr_2d[0, 1])  # Accessing element at row 0, column 1\n",
    "\n",
    "# access 5 numbers\n",
    "print(arr_2d[1,1])  \n"
   ]
  },
  {
   "cell_type": "code",
   "execution_count": 9,
   "id": "6b545828",
   "metadata": {},
   "outputs": [
    {
     "name": "stdout",
     "output_type": "stream",
     "text": [
      "Dimensions of arr_2d: 2\n"
     ]
    }
   ],
   "source": [
    "# check Dimensions \n",
    "print(\"Dimensions of arr_2d:\", arr_2d.ndim)  # Number of dimensions"
   ]
  },
  {
   "cell_type": "code",
   "execution_count": 10,
   "id": "67fac6b1",
   "metadata": {},
   "outputs": [
    {
     "name": "stdout",
     "output_type": "stream",
     "text": [
      "Shape of 2D array: (3, 3)\n"
     ]
    }
   ],
   "source": [
    "# check the shape of the array\n",
    "print(\"Shape of 2D array:\", arr_2d.shape)"
   ]
  },
  {
   "cell_type": "code",
   "execution_count": 11,
   "id": "e132764f",
   "metadata": {},
   "outputs": [
    {
     "name": "stdout",
     "output_type": "stream",
     "text": [
      "Array after adding 2: [3 4 5 6 7]\n"
     ]
    }
   ],
   "source": [
    "# perform basic operations\n",
    "# add 2 to each element\n",
    "arr_plus_2 = arr + 2\n",
    "print(\"Array after adding 2:\", arr_plus_2)"
   ]
  },
  {
   "cell_type": "code",
   "execution_count": 12,
   "id": "e5271e49",
   "metadata": {},
   "outputs": [
    {
     "name": "stdout",
     "output_type": "stream",
     "text": [
      "2D Array after adding 2:\n",
      " [[ 3  4  5]\n",
      " [ 6  7  8]\n",
      " [ 9 10 11]]\n"
     ]
    }
   ],
   "source": [
    "# 2d array addition\n",
    "arr_2d_plus_2 = arr_2d + 2 \n",
    "print(\"2D Array after adding 2:\\n\", arr_2d_plus_2)"
   ]
  },
  {
   "cell_type": "code",
   "execution_count": 13,
   "id": "4e66d513",
   "metadata": {},
   "outputs": [
    {
     "name": "stdout",
     "output_type": "stream",
     "text": [
      "Array after multiplying by 2: [ 2  4  6  8 10]\n",
      "2D Array after multiplying by 2:\n",
      " [[ 2  4  6]\n",
      " [ 8 10 12]\n",
      " [14 16 18]]\n"
     ]
    }
   ],
   "source": [
    "# manipulate the array\n",
    "arr = arr * 2\n",
    "print(\"Array after multiplying by 2:\", arr)\n",
    "# 2d array multiplication  \n",
    "arr = arr * 2\n",
    "print(\"2D Array after multiplying by 2:\\n\", arr_2d * 2)"
   ]
  },
  {
   "cell_type": "code",
   "execution_count": 14,
   "id": "a3b991df",
   "metadata": {},
   "outputs": [
    {
     "name": "stdout",
     "output_type": "stream",
     "text": [
      "3x3 Array of zeros:\n",
      " [[0. 0. 0.]\n",
      " [0. 0. 0.]\n",
      " [0. 0. 0.]]\n"
     ]
    }
   ],
   "source": [
    "# zeros array\n",
    "zeros_array = np.zeros((3, 3))  # Create a 3x3 array of zeros\n",
    "print(\"3x3 Array of zeros:\\n\", zeros_array)"
   ]
  },
  {
   "cell_type": "code",
   "execution_count": 15,
   "id": "746c3433",
   "metadata": {},
   "outputs": [
    {
     "name": "stdout",
     "output_type": "stream",
     "text": [
      "2x4 Array of ones:\n",
      " [[1. 1. 1. 1.]\n",
      " [1. 1. 1. 1.]]\n"
     ]
    }
   ],
   "source": [
    "# ones array\n",
    "ones_array = np.ones((2, 4))  # Create a 2x4 array of ones\n",
    "print(\"2x4 Array of ones:\\n\", ones_array)"
   ]
  },
  {
   "cell_type": "code",
   "execution_count": 21,
   "id": "528a2505",
   "metadata": {},
   "outputs": [
    {
     "name": "stdout",
     "output_type": "stream",
     "text": [
      "3x3 Array of random floats:\n",
      " [[0.62478815 0.81300297 0.59104626]\n",
      " [0.61493888 0.06570633 0.97290026]\n",
      " [0.22768621 0.36627237 0.30568376]]\n"
     ]
    }
   ],
   "source": [
    "# random array\n",
    "random_array = np.random.rand(3, 3)  # Create a 3x3 array of random floats\n",
    "print(\"3x3 Array of random floats:\\n\", random_array)"
   ]
  },
  {
   "cell_type": "code",
   "execution_count": 29,
   "id": "109dded7",
   "metadata": {},
   "outputs": [
    {
     "name": "stdout",
     "output_type": "stream",
     "text": [
      "3x3 Array of random integers:\n",
      " [[ 5  6  1]\n",
      " [ 3  9  8]\n",
      " [10  2  4]]\n"
     ]
    }
   ],
   "source": [
    "# random array integer\n",
    "arr = [1, 2, 3, 4, 5, 6, 7, 8, 9, 10]\n",
    "random_int_array = np.random.choice(arr, size=(3, 3), replace=False)  # Create a 3x3 array of random integers\n",
    "print(\"3x3 Array of random integers:\\n\", random_int_array)"
   ]
  },
  {
   "cell_type": "code",
   "execution_count": 30,
   "id": "44e44a77",
   "metadata": {},
   "outputs": [
    {
     "name": "stdout",
     "output_type": "stream",
     "text": [
      "3D Array:\n",
      " [[[0.08632614 0.54507178 0.62324463 0.39372562]\n",
      "  [0.6623341  0.01761548 0.46987873 0.67724972]\n",
      "  [0.2262496  0.78953657 0.04335852 0.6374155 ]]\n",
      "\n",
      " [[0.32706643 0.59794318 0.03707852 0.5970671 ]\n",
      "  [0.80704221 0.13555004 0.59558967 0.70801319]\n",
      "  [0.52596247 0.17511052 0.16857647 0.10324734]]]\n",
      "Accessing all elements in the second dimension:\n",
      " [[0.54507178 0.01761548 0.78953657]\n",
      " [0.59794318 0.13555004 0.17511052]]\n"
     ]
    }
   ],
   "source": [
    "# Ellipsis (…) Indexing \n",
    "# Create a 3D array\n",
    "three_d_array = np.random.rand(2, 3, 4)  # 2x3x4 array of random floats\n",
    "print(\"3D Array:\\n\", three_d_array)\n",
    "# Accessing all elements in the second dimension using Ellipsis\n",
    "print(\"Accessing all elements in the second dimension:\\n\", three_d_array[..., 1])  # Accessing all elements in the second dimension"
   ]
  }
 ],
 "metadata": {
  "kernelspec": {
   "display_name": "Python 3",
   "language": "python",
   "name": "python3"
  },
  "language_info": {
   "codemirror_mode": {
    "name": "ipython",
    "version": 3
   },
   "file_extension": ".py",
   "mimetype": "text/x-python",
   "name": "python",
   "nbconvert_exporter": "python",
   "pygments_lexer": "ipython3",
   "version": "3.13.5"
  }
 },
 "nbformat": 4,
 "nbformat_minor": 5
}
