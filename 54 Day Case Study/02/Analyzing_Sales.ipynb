{
 "cells": [
  {
   "cell_type": "code",
   "execution_count": 44,
   "metadata": {},
   "outputs": [
    {
     "name": "stdout",
     "output_type": "stream",
     "text": [
      "Requirement already satisfied: seaborn in c:\\users\\comp\\appdata\\local\\programs\\python\\python313\\lib\\site-packages (0.13.2)\n",
      "Requirement already satisfied: numpy!=1.24.0,>=1.20 in c:\\users\\comp\\appdata\\local\\programs\\python\\python313\\lib\\site-packages (from seaborn) (2.2.1)\n",
      "Requirement already satisfied: pandas>=1.2 in c:\\users\\comp\\appdata\\local\\programs\\python\\python313\\lib\\site-packages (from seaborn) (2.2.3)\n",
      "Requirement already satisfied: matplotlib!=3.6.1,>=3.4 in c:\\users\\comp\\appdata\\local\\programs\\python\\python313\\lib\\site-packages (from seaborn) (3.10.0)\n",
      "Requirement already satisfied: contourpy>=1.0.1 in c:\\users\\comp\\appdata\\local\\programs\\python\\python313\\lib\\site-packages (from matplotlib!=3.6.1,>=3.4->seaborn) (1.3.1)\n",
      "Requirement already satisfied: cycler>=0.10 in c:\\users\\comp\\appdata\\local\\programs\\python\\python313\\lib\\site-packages (from matplotlib!=3.6.1,>=3.4->seaborn) (0.12.1)\n",
      "Requirement already satisfied: fonttools>=4.22.0 in c:\\users\\comp\\appdata\\local\\programs\\python\\python313\\lib\\site-packages (from matplotlib!=3.6.1,>=3.4->seaborn) (4.55.3)\n",
      "Requirement already satisfied: kiwisolver>=1.3.1 in c:\\users\\comp\\appdata\\local\\programs\\python\\python313\\lib\\site-packages (from matplotlib!=3.6.1,>=3.4->seaborn) (1.4.8)\n",
      "Requirement already satisfied: packaging>=20.0 in c:\\users\\comp\\appdata\\roaming\\python\\python313\\site-packages (from matplotlib!=3.6.1,>=3.4->seaborn) (24.2)\n",
      "Requirement already satisfied: pillow>=8 in c:\\users\\comp\\appdata\\local\\programs\\python\\python313\\lib\\site-packages (from matplotlib!=3.6.1,>=3.4->seaborn) (11.1.0)\n",
      "Requirement already satisfied: pyparsing>=2.3.1 in c:\\users\\comp\\appdata\\local\\programs\\python\\python313\\lib\\site-packages (from matplotlib!=3.6.1,>=3.4->seaborn) (3.2.1)\n",
      "Requirement already satisfied: python-dateutil>=2.7 in c:\\users\\comp\\appdata\\roaming\\python\\python313\\site-packages (from matplotlib!=3.6.1,>=3.4->seaborn) (2.9.0.post0)\n",
      "Requirement already satisfied: pytz>=2020.1 in c:\\users\\comp\\appdata\\local\\programs\\python\\python313\\lib\\site-packages (from pandas>=1.2->seaborn) (2024.2)\n",
      "Requirement already satisfied: tzdata>=2022.7 in c:\\users\\comp\\appdata\\local\\programs\\python\\python313\\lib\\site-packages (from pandas>=1.2->seaborn) (2024.2)\n",
      "Requirement already satisfied: six>=1.5 in c:\\users\\comp\\appdata\\roaming\\python\\python313\\site-packages (from python-dateutil>=2.7->matplotlib!=3.6.1,>=3.4->seaborn) (1.17.0)\n",
      "Note: you may need to restart the kernel to use updated packages.\n"
     ]
    },
    {
     "name": "stderr",
     "output_type": "stream",
     "text": [
      "\n",
      "[notice] A new release of pip is available: 24.2 -> 25.0.1\n",
      "[notice] To update, run: python.exe -m pip install --upgrade pip\n"
     ]
    },
    {
     "name": "stdout",
     "output_type": "stream",
     "text": [
      "Requirement already satisfied: matplotlib in c:\\users\\comp\\appdata\\local\\programs\\python\\python313\\lib\\site-packages (3.10.0)Note: you may need to restart the kernel to use updated packages.\n",
      "\n",
      "Requirement already satisfied: contourpy>=1.0.1 in c:\\users\\comp\\appdata\\local\\programs\\python\\python313\\lib\\site-packages (from matplotlib) (1.3.1)\n",
      "Requirement already satisfied: cycler>=0.10 in c:\\users\\comp\\appdata\\local\\programs\\python\\python313\\lib\\site-packages (from matplotlib) (0.12.1)\n",
      "Requirement already satisfied: fonttools>=4.22.0 in c:\\users\\comp\\appdata\\local\\programs\\python\\python313\\lib\\site-packages (from matplotlib) (4.55.3)\n",
      "Requirement already satisfied: kiwisolver>=1.3.1 in c:\\users\\comp\\appdata\\local\\programs\\python\\python313\\lib\\site-packages (from matplotlib) (1.4.8)\n",
      "Requirement already satisfied: numpy>=1.23 in c:\\users\\comp\\appdata\\local\\programs\\python\\python313\\lib\\site-packages (from matplotlib) (2.2.1)\n",
      "Requirement already satisfied: packaging>=20.0 in c:\\users\\comp\\appdata\\roaming\\python\\python313\\site-packages (from matplotlib) (24.2)\n",
      "Requirement already satisfied: pillow>=8 in c:\\users\\comp\\appdata\\local\\programs\\python\\python313\\lib\\site-packages (from matplotlib) (11.1.0)\n",
      "Requirement already satisfied: pyparsing>=2.3.1 in c:\\users\\comp\\appdata\\local\\programs\\python\\python313\\lib\\site-packages (from matplotlib) (3.2.1)\n",
      "Requirement already satisfied: python-dateutil>=2.7 in c:\\users\\comp\\appdata\\roaming\\python\\python313\\site-packages (from matplotlib) (2.9.0.post0)\n",
      "Requirement already satisfied: six>=1.5 in c:\\users\\comp\\appdata\\roaming\\python\\python313\\site-packages (from python-dateutil>=2.7->matplotlib) (1.17.0)\n"
     ]
    },
    {
     "name": "stderr",
     "output_type": "stream",
     "text": [
      "\n",
      "[notice] A new release of pip is available: 24.2 -> 25.0.1\n",
      "[notice] To update, run: python.exe -m pip install --upgrade pip\n"
     ]
    }
   ],
   "source": [
    "%pip install seaborn\n",
    "%pip install matplotlib"
   ]
  },
  {
   "cell_type": "code",
   "execution_count": 56,
   "metadata": {},
   "outputs": [
    {
     "name": "stdout",
     "output_type": "stream",
     "text": [
      "         Date     Store         City  Revenue Product Category  Quantity  \\\n",
      "0  2023-04-13   Store_2      Phoenix      321             Toys         2   \n",
      "1  2024-03-11  Store_10      Houston     1513        Groceries         8   \n",
      "2  2023-12-15   Store_2  Los Angeles     1821        Furniture         9   \n",
      "3  2023-09-28  Store_10  Los Angeles     1312         Clothing         7   \n",
      "4  2023-04-17   Store_1      Chicago      426         Clothing         3   \n",
      "\n",
      "   Employees  Transactions  Payment Method  Discount  Customer_Age  \\\n",
      "0         28            17  Online Payment     13.82            27   \n",
      "1          6            36  Online Payment     21.60            56   \n",
      "2         26            19      Debit Card     49.02            45   \n",
      "3          7            64     Credit Card      3.38            66   \n",
      "4         16            91  Online Payment     25.94            53   \n",
      "\n",
      "  Customer_Gender  \n",
      "0      Non-binary  \n",
      "1      Non-binary  \n",
      "2      Non-binary  \n",
      "3          Female  \n",
      "4            Male  \n"
     ]
    }
   ],
   "source": [
    "import pandas as pd\n",
    "import matplotlib.pyplot as plt\n",
    "import seaborn as sns\n",
    "\n",
    "# Load dataset\n",
    "sales_df = pd.read_csv(\"sales_data.csv\")\n",
    "\n",
    "# Display the first five rows\n",
    "print(sales_df.head())"
   ]
  },
  {
   "cell_type": "code",
   "execution_count": 57,
   "metadata": {},
   "outputs": [
    {
     "name": "stdout",
     "output_type": "stream",
     "text": [
      "Date                0\n",
      "Store               0\n",
      "City                0\n",
      "Revenue             0\n",
      "Product Category    0\n",
      "Quantity            0\n",
      "Employees           0\n",
      "Transactions        0\n",
      "Payment Method      0\n",
      "Discount            0\n",
      "Customer_Age        0\n",
      "Customer_Gender     0\n",
      "dtype: int64\n"
     ]
    }
   ],
   "source": [
    "# Check for missing values\n",
    "print(sales_df.isnull().sum())"
   ]
  },
  {
   "cell_type": "code",
   "execution_count": 58,
   "metadata": {},
   "outputs": [],
   "source": [
    "sales_df = sales_df.dropna()  # Drop rows with missing values"
   ]
  },
  {
   "cell_type": "code",
   "execution_count": 59,
   "metadata": {},
   "outputs": [],
   "source": [
    "sales_df['Date'] = pd.to_datetime(sales_df['Date'])"
   ]
  },
  {
   "cell_type": "code",
   "execution_count": 60,
   "metadata": {},
   "outputs": [],
   "source": [
    "sales_df = sales_df.drop_duplicates()"
   ]
  },
  {
   "cell_type": "code",
   "execution_count": 62,
   "metadata": {},
   "outputs": [
    {
     "name": "stdout",
     "output_type": "stream",
     "text": [
      "500\n"
     ]
    }
   ],
   "source": [
    "#Total Transactions Recorded\n",
    "print(sales_df.shape[0])"
   ]
  },
  {
   "cell_type": "code",
   "execution_count": 63,
   "metadata": {},
   "outputs": [
    {
     "name": "stdout",
     "output_type": "stream",
     "text": [
      "Store_10\n"
     ]
    }
   ],
   "source": [
    "# Store Location with Highest Sales\n",
    "print(sales_df.groupby('Store')['Revenue'].sum().idxmax())"
   ]
  },
  {
   "cell_type": "code",
   "execution_count": 65,
   "metadata": {},
   "outputs": [
    {
     "name": "stdout",
     "output_type": "stream",
     "text": [
      "City\n",
      "Chicago        107678\n",
      "New York       106089\n",
      "Los Angeles    104965\n",
      "Phoenix         98623\n",
      "Houston         93171\n",
      "Name: Revenue, dtype: int64\n"
     ]
    }
   ],
   "source": [
    "# Top 5 Cities in Terms of Sales\n",
    "print(sales_df.groupby('City')['Revenue'].sum().sort_values(ascending=False).head(5))"
   ]
  },
  {
   "cell_type": "code",
   "execution_count": 67,
   "metadata": {},
   "outputs": [
    {
     "name": "stdout",
     "output_type": "stream",
     "text": [
      "Clothing\n"
     ]
    }
   ],
   "source": [
    "# Most Sold Product Category\n",
    "print(sales_df.groupby('Product Category')['Quantity'].sum().idxmax())"
   ]
  },
  {
   "cell_type": "code",
   "execution_count": 68,
   "metadata": {},
   "outputs": [
    {
     "name": "stdout",
     "output_type": "stream",
     "text": [
      "Store_6\n"
     ]
    }
   ],
   "source": [
    "# Store with Highest Average Transaction Value\n",
    "\n",
    "print(sales_df.groupby('Store')['Revenue'].mean().idxmax())\n"
   ]
  },
  {
   "cell_type": "code",
   "execution_count": 69,
   "metadata": {},
   "outputs": [
    {
     "name": "stdout",
     "output_type": "stream",
     "text": [
      "Store\n",
      "Store_1     61734\n",
      "Store_10    78093\n",
      "Store_2     46645\n",
      "Store_3     48520\n",
      "Store_4     39991\n",
      "Store_5     64218\n",
      "Store_6     51657\n",
      "Store_7     45679\n",
      "Store_8     35540\n",
      "Store_9     38449\n",
      "Name: Revenue, dtype: int64\n"
     ]
    }
   ],
   "source": [
    "# Total Sales by Store \n",
    "print(sales_df.groupby('Store')['Revenue'].sum())"
   ]
  },
  {
   "cell_type": "code",
   "execution_count": 70,
   "metadata": {},
   "outputs": [
    {
     "name": "stdout",
     "output_type": "stream",
     "text": [
      "Store\n",
      "Store_8    35540\n",
      "Store_9    38449\n",
      "Store_4    39991\n",
      "Store_7    45679\n",
      "Store_2    46645\n",
      "Name: Revenue, dtype: int64\n"
     ]
    }
   ],
   "source": [
    "# Stores with Lowest Revenue\n",
    "print(sales_df.groupby('Store')['Revenue'].sum().sort_values().head())\n"
   ]
  },
  {
   "cell_type": "code",
   "execution_count": 72,
   "metadata": {},
   "outputs": [
    {
     "name": "stdout",
     "output_type": "stream",
     "text": [
      "        Store  Revenue_per_Employee\n",
      "0     Store_2             11.464286\n",
      "1    Store_10            252.166667\n",
      "2     Store_2             70.038462\n",
      "3    Store_10            187.428571\n",
      "4     Store_1             26.625000\n",
      "..        ...                   ...\n",
      "495   Store_8            158.777778\n",
      "496   Store_1             66.727273\n",
      "497   Store_3             79.080000\n",
      "498  Store_10            150.500000\n",
      "499   Store_9            189.333333\n",
      "\n",
      "[500 rows x 2 columns]\n"
     ]
    }
   ],
   "source": [
    "# Revenue Per Employee\n",
    "sales_df['Revenue_per_Employee'] = sales_df['Revenue'] / sales_df['Employees']\n",
    "print(sales_df[['Store', 'Revenue_per_Employee']].drop_duplicates())"
   ]
  },
  {
   "cell_type": "code",
   "execution_count": 75,
   "metadata": {},
   "outputs": [
    {
     "name": "stdout",
     "output_type": "stream",
     "text": [
      "Chicago\n"
     ]
    }
   ],
   "source": [
    "# City with Highest Number of Transactions\n",
    "print(sales_df['City'].value_counts().idxmax())"
   ]
  },
  {
   "cell_type": "code",
   "execution_count": 77,
   "metadata": {},
   "outputs": [
    {
     "data": {
      "image/png": "[encoded data removed]",
      "text/plain": [
       "<Figure size 640x480 with 1 Axes>"
      ]
     },
     "metadata": {},
     "output_type": "display_data"
    }
   ],
   "source": [
    "# Revenue Trend Over Time\n",
    "sales_df.groupby(sales_df['Date'].dt.to_period('M'))['Revenue'].sum().plot()\n",
    "plt.show()"
   ]
  },
  {
   "cell_type": "code",
   "execution_count": 84,
   "metadata": {},
   "outputs": [
    {
     "name": "stdout",
     "output_type": "stream",
     "text": [
      "Clothing\n"
     ]
    }
   ],
   "source": [
    "# Best-Selling Product\n",
    "if 'Product Category' in sales_df.columns and 'Quantity' in sales_df.columns:\n",
    "    print(sales_df.groupby('Product Category')['Quantity'].sum().idxmax())\n",
    "else:\n",
    "    print(\"Error: Column 'Product' or 'Quantity' not found in dataset\")"
   ]
  },
  {
   "cell_type": "code",
   "execution_count": 85,
   "metadata": {},
   "outputs": [
    {
     "name": "stdout",
     "output_type": "stream",
     "text": [
      "Store_10\n"
     ]
    }
   ],
   "source": [
    "# Store with Highest Foot Traffic\n",
    "print(sales_df.groupby('Store')['Transactions'].sum().idxmax())"
   ]
  },
  {
   "cell_type": "code",
   "execution_count": 86,
   "metadata": {},
   "outputs": [
    {
     "name": "stdout",
     "output_type": "stream",
     "text": [
      "1021.052\n"
     ]
    }
   ],
   "source": [
    "# Average Revenue Per Transaction\n",
    "\n",
    "print(sales_df['Revenue'].mean())"
   ]
  },
  {
   "cell_type": "code",
   "execution_count": 88,
   "metadata": {},
   "outputs": [
    {
     "name": "stdout",
     "output_type": "stream",
     "text": [
      "4\n"
     ]
    }
   ],
   "source": [
    "# Month with Highest Sales\n",
    "print(sales_df.groupby(sales_df['Date'].dt.month)['Revenue'].sum().idxmax())"
   ]
  },
  {
   "cell_type": "code",
   "execution_count": 89,
   "metadata": {},
   "outputs": [
    {
     "name": "stdout",
     "output_type": "stream",
     "text": [
      "Monday\n"
     ]
    }
   ],
   "source": [
    "# Day of the Week with Highest Sales\n",
    "sales_df['Day_of_Week'] = sales_df['Date'].dt.day_name()\n",
    "print(sales_df.groupby('Day_of_Week')['Revenue'].sum().idxmax())"
   ]
  },
  {
   "cell_type": "code",
   "execution_count": 91,
   "metadata": {},
   "outputs": [
    {
     "name": "stdout",
     "output_type": "stream",
     "text": [
      "Is_Weekend\n",
      "False    352375\n",
      "True     158151\n",
      "Name: Revenue, dtype: int64\n"
     ]
    }
   ],
   "source": [
    "# Sales Comparison Between Weekdays and Weekends\n",
    "sales_df['Weekday'] = sales_df['Date'].dt.weekday\n",
    "sales_df['Is_Weekend'] = sales_df['Weekday'] >= 5\n",
    "print(sales_df.groupby('Is_Weekend')['Revenue'].sum())"
   ]
  },
  {
   "cell_type": "code",
   "execution_count": 93,
   "metadata": {},
   "outputs": [
    {
     "name": "stdout",
     "output_type": "stream",
     "text": [
      "Payment Method\n",
      "Cash              130059\n",
      "Credit Card       141408\n",
      "Debit Card        104139\n",
      "Online Payment    134920\n",
      "Name: Revenue, dtype: int64\n"
     ]
    }
   ],
   "source": [
    "# Total Revenue by Payment Method\n",
    "print(sales_df.groupby('Payment Method')['Revenue'].sum())"
   ]
  },
  {
   "cell_type": "code",
   "execution_count": 94,
   "metadata": {},
   "outputs": [
    {
     "name": "stdout",
     "output_type": "stream",
     "text": [
      "          Discount   Revenue\n",
      "Discount  1.000000  0.033525\n",
      "Revenue   0.033525  1.000000\n"
     ]
    }
   ],
   "source": [
    "# Correlation Between Discount and Revenue\n",
    "print(sales_df[['Discount', 'Revenue']].corr())"
   ]
  },
  {
   "cell_type": "markdown",
   "metadata": {},
   "source": [
    "## Step 4: Sales Trends Analysis\n",
    "### Monthly Sales Trend"
   ]
  },
  {
   "cell_type": "code",
   "execution_count": 97,
   "metadata": {},
   "outputs": [
    {
     "name": "stdout",
     "output_type": "stream",
     "text": [
      "Month\n",
      "1     49762\n",
      "2     61056\n",
      "3     47679\n",
      "4     66539\n",
      "5     45342\n",
      "6     36034\n",
      "7     34038\n",
      "8     35510\n",
      "9     30224\n",
      "10    36176\n",
      "11    30232\n",
      "12    37934\n",
      "Name: Revenue, dtype: int64\n"
     ]
    },
    {
     "data": {
      "image/png": "[encoded data removed]",
      "text/plain": [
       "<Figure size 1000x600 with 1 Axes>"
      ]
     },
     "metadata": {},
     "output_type": "display_data"
    }
   ],
   "source": [
    "# Convert the 'Date' column to datetime\n",
    "sales_df['Date'] = pd.to_datetime(sales_df['Date'])\n",
    "\n",
    "# Extract the month from the 'Date' column\n",
    "sales_df['Month'] = sales_df['Date'].dt.month\n",
    "\n",
    "# Group by month and calculate the total sales for each group\n",
    "monthly_sales = sales_df.groupby('Month')['Revenue'].sum()\n",
    "\n",
    "# Print the monthly sales\n",
    "print(monthly_sales)\n",
    "\n",
    "# Plot the monthly sales trend\n",
    "plt.figure(figsize=(10, 6))\n",
    "monthly_sales.plot(kind='bar', color='skyblue')\n",
    "plt.title('Monthly Sales Trend')\n",
    "plt.xlabel('Month')\n",
    "plt.ylabel('Total Revenue')\n",
    "plt.xticks(rotation=0)\n",
    "plt.show()"
   ]
  },
  {
   "cell_type": "code",
   "execution_count": 98,
   "metadata": {},
   "outputs": [
    {
     "name": "stdout",
     "output_type": "stream",
     "text": [
      "Best Performing Month: 4 with Total Revenue: 66539\n",
      "Worst Performing Month: 9 with Total Revenue: 30224\n"
     ]
    }
   ],
   "source": [
    "# Find the best performing month\n",
    "best_month = monthly_sales.idxmax()\n",
    "best_month_sales = monthly_sales.max()\n",
    "\n",
    "# Find the worst performing month\n",
    "worst_month = monthly_sales.idxmin()\n",
    "worst_month_sales = monthly_sales.min()\n",
    "\n",
    "print(f\"Best Performing Month: {best_month} with Total Revenue: {best_month_sales}\")\n",
    "print(f\"Worst Performing Month: {worst_month} with Total Revenue: {worst_month_sales}\")"
   ]
  },
  {
   "cell_type": "code",
   "execution_count": 99,
   "metadata": {},
   "outputs": [
    {
     "name": "stdout",
     "output_type": "stream",
     "text": [
      "Best Performing Store: Store_10 with Total Revenue: 78093\n"
     ]
    }
   ],
   "source": [
    "# Group by store and calculate the total sales for each group\n",
    "store_sales = sales_df.groupby('Store')['Revenue'].sum()\n",
    "\n",
    "# Find the best performing store\n",
    "best_store = store_sales.idxmax()\n",
    "best_store_sales = store_sales.max()\n",
    "\n",
    "print(f\"Best Performing Store: {best_store} with Total Revenue: {best_store_sales}\")"
   ]
  },
  {
   "cell_type": "code",
   "execution_count": 101,
   "metadata": {},
   "outputs": [
    {
     "name": "stdout",
     "output_type": "stream",
     "text": [
      "Customer_Gender\n",
      "Female         971.395210\n",
      "Male          1073.668790\n",
      "Non-binary    1021.232955\n",
      "Name: Revenue, dtype: float64\n"
     ]
    },
    {
     "data": {
      "image/png": "[encoded data removed]",
      "text/plain": [
       "<Figure size 1000x600 with 1 Axes>"
      ]
     },
     "metadata": {},
     "output_type": "display_data"
    }
   ],
   "source": [
    "# Group by gender and calculate the average spending for each group\n",
    "average_spending_by_gender = sales_df.groupby('Customer_Gender')['Revenue'].mean()\n",
    "\n",
    "# Print the average spending by gender\n",
    "print(average_spending_by_gender)\n",
    "\n",
    "# Plot the average spending by gender\n",
    "plt.figure(figsize=(10, 6))\n",
    "average_spending_by_gender.plot(kind='bar', color='lightgreen')\n",
    "plt.title('Average Spending by Gender')\n",
    "plt.xlabel('Gender')\n",
    "plt.ylabel('Average Revenue')\n",
    "plt.xticks(rotation=0)\n",
    "plt.show()"
   ]
  },
  {
   "cell_type": "code",
   "execution_count": 107,
   "metadata": {},
   "outputs": [
    {
     "name": "stdout",
     "output_type": "stream",
     "text": [
      "Customer_Age\n",
      "18-25     62753\n",
      "26-35    107552\n",
      "36-50    141130\n",
      "51-65    151285\n",
      "66-80     39617\n",
      "Name: Revenue, dtype: int64\n"
     ]
    },
    {
     "name": "stderr",
     "output_type": "stream",
     "text": [
      "C:\\Users\\comp\\AppData\\Local\\Temp\\ipykernel_11844\\835674942.py:3: FutureWarning: The default of observed=False is deprecated and will be changed to True in a future version of pandas. Pass observed=False to retain current behavior or observed=True to adopt the future default and silence this warning.\n",
      "  age_spending = sales_df.groupby(age_groups)['Revenue'].sum()\n"
     ]
    }
   ],
   "source": [
    "# Age Group with Highest Spending\n",
    "age_groups = pd.cut(sales_df['Customer_Age'], bins=[18, 25, 35, 50, 65, 80], labels=['18-25', '26-35', '36-50', '51-65', '66-80'])\n",
    "age_spending = sales_df.groupby(age_groups)['Revenue'].sum()\n",
    "print(age_spending)"
   ]
  },
  {
   "cell_type": "code",
   "execution_count": 108,
   "metadata": {},
   "outputs": [
    {
     "name": "stdout",
     "output_type": "stream",
     "text": [
      "Best Performing Month: 4 with Total Revenue: 66539\n",
      "Worst Performing Month: 9 with Total Revenue: 30224\n",
      "Best Performing Store: Store_10 with Total Revenue: 78093\n",
      "Customer_Gender\n",
      "Female         971.395210\n",
      "Male          1073.668790\n",
      "Non-binary    1021.232955\n",
      "Name: Revenue, dtype: float64\n"
     ]
    },
    {
     "data": {
      "image/png": "[encoded data removed]",
      "text/plain": [
       "<Figure size 1000x600 with 1 Axes>"
      ]
     },
     "metadata": {},
     "output_type": "display_data"
    },
    {
     "name": "stdout",
     "output_type": "stream",
     "text": [
      "Customer_Age\n",
      "18-25     62753\n",
      "26-35    107552\n",
      "36-50    141130\n",
      "51-65    151285\n",
      "66-80     39617\n",
      "Name: Revenue, dtype: int64\n"
     ]
    },
    {
     "name": "stderr",
     "output_type": "stream",
     "text": [
      "C:\\Users\\comp\\AppData\\Local\\Temp\\ipykernel_11844\\164919779.py:38: FutureWarning: The default of observed=False is deprecated and will be changed to True in a future version of pandas. Pass observed=False to retain current behavior or observed=True to adopt the future default and silence this warning.\n",
      "  age_spending = sales_df.groupby(age_groups)['Revenue'].sum()\n"
     ]
    },
    {
     "data": {
      "image/png": "[encoded data removed]",
      "text/plain": [
       "<Figure size 1000x600 with 1 Axes>"
      ]
     },
     "metadata": {},
     "output_type": "display_data"
    },
    {
     "name": "stdout",
     "output_type": "stream",
     "text": [
      "Age Group with Highest Spending: 51-65 with Total Revenue: 151285\n"
     ]
    }
   ],
   "source": [
    "# Find the best and worst performing months\n",
    "best_month = monthly_sales.idxmax()\n",
    "best_month_sales = monthly_sales.max()\n",
    "worst_month = monthly_sales.idxmin()\n",
    "worst_month_sales = monthly_sales.min()\n",
    "\n",
    "print(f\"Best Performing Month: {best_month} with Total Revenue: {best_month_sales}\")\n",
    "print(f\"Worst Performing Month: {worst_month} with Total Revenue: {worst_month_sales}\")\n",
    "\n",
    "# Group by store and calculate the total sales for each group\n",
    "store_sales = sales_df.groupby('Store')['Revenue'].sum()\n",
    "\n",
    "# Find the best performing store\n",
    "best_store = store_sales.idxmax()\n",
    "best_store_sales = store_sales.max()\n",
    "\n",
    "print(f\"Best Performing Store: {best_store} with Total Revenue: {best_store_sales}\")\n",
    "\n",
    "# Group by gender and calculate the average spending for each group\n",
    "average_spending_by_gender = sales_df.groupby('Customer_Gender')['Revenue'].mean()\n",
    "\n",
    "# Print the average spending by gender\n",
    "print(average_spending_by_gender)\n",
    "\n",
    "# Plot the average spending by gender\n",
    "plt.figure(figsize=(10, 6))\n",
    "average_spending_by_gender.plot(kind='bar', color='lightgreen')\n",
    "plt.title('Average Spending by Gender')\n",
    "plt.xlabel('Gender')\n",
    "plt.ylabel('Average Revenue')\n",
    "plt.xticks(rotation=0)\n",
    "plt.show()\n",
    "\n",
    "# Define age groups\n",
    "age_groups = pd.cut(sales_df['Customer_Age'], bins=[18, 25, 35, 50, 65, 80], labels=['18-25', '26-35', '36-50', '51-65', '66-80'])\n",
    "\n",
    "# Group by age group and calculate the total spending for each group\n",
    "age_spending = sales_df.groupby(age_groups)['Revenue'].sum()\n",
    "\n",
    "# Print the total spending by age group\n",
    "print(age_spending)\n",
    "\n",
    "# Plot the total spending by age group\n",
    "plt.figure(figsize=(10, 6))\n",
    "age_spending.plot(kind='bar', color='orange')\n",
    "plt.title('Total Spending by Age Group')\n",
    "plt.xlabel('Age Group')\n",
    "plt.ylabel('Total Revenue')\n",
    "plt.xticks(rotation=0)\n",
    "plt.show()\n",
    "\n",
    "# Find the age group with the highest spending\n",
    "highest_spending_age_group = age_spending.idxmax()\n",
    "highest_spending_age_group_sales = age_spending.max()\n",
    "\n",
    "print(f\"Age Group with Highest Spending: {highest_spending_age_group} with Total Revenue: {highest_spending_age_group_sales}\")"
   ]
  }
 ],
 "metadata": {
  "kernelspec": {
   "display_name": "Python 3",
   "language": "python",
   "name": "python3"
  },
  "language_info": {
   "codemirror_mode": {
    "name": "ipython",
    "version": 3
   },
   "file_extension": ".py",
   "mimetype": "text/x-python",
   "name": "python",
   "nbconvert_exporter": "python",
   "pygments_lexer": "ipython3",
   "version": "3.13.0"
  }
 },
 "nbformat": 4,
 "nbformat_minor": 2
}
