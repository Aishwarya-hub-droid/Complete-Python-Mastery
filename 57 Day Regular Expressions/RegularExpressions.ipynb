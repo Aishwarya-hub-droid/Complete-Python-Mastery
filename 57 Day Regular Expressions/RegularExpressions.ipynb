{
 "cells": [
  {
   "cell_type": "code",
   "execution_count": 1,
   "metadata": {},
   "outputs": [
    {
     "name": "stdout",
     "output_type": "stream",
     "text": [
      "Number found: 150\n"
     ]
    }
   ],
   "source": [
    "import re\n",
    "\n",
    "text = \"The price is 150 dollars.\"\n",
    "match = re.search(r'\\d+', text)\n",
    "if match:\n",
    "    print(\"Number found:\", match.group())  # Output: 150"
   ]
  },
  {
   "cell_type": "code",
   "execution_count": 4,
   "metadata": {},
   "outputs": [
    {
     "name": "stdout",
     "output_type": "stream",
     "text": [
      "Emails found: ['codeswithpankaj@gmail.com', 'p4n.learning@gmail.com']\n"
     ]
    }
   ],
   "source": [
    "import re\n",
    "\n",
    "text = \"Contact me at codeswithpankaj@gmail.com and p4n.learning@gmail.com\"\n",
    "emails = re.findall(r'[\\w.-]+@[\\w.-]+', text)\n",
    "print(\"Emails found:\", emails)  \n"
   ]
  },
  {
   "cell_type": "code",
   "execution_count": 6,
   "metadata": {},
   "outputs": [
    {
     "name": "stdout",
     "output_type": "stream",
     "text": [
      "Words found: ['Python', 'is', 'an', 'amazing', 'programming', 'language']\n"
     ]
    }
   ],
   "source": [
    "import re\n",
    "\n",
    "text = \"Python is an amazing programming language!\"\n",
    "words = re.findall(r'\\w+', text)\n",
    "print(\"Words found:\", words)\n",
    "# Output: ['Python', 'is', 'an', 'amazing', 'programming', 'language']"
   ]
  },
  {
   "cell_type": "code",
   "execution_count": 7,
   "metadata": {},
   "outputs": [
    {
     "name": "stdout",
     "output_type": "stream",
     "text": [
      "Hello ###, this is a test ###.\n"
     ]
    }
   ],
   "source": [
    "import re\n",
    "\n",
    "text = \"Hello 123, this is a test 456.\"\n",
    "new_text = re.sub(r'\\d+', '###', text)\n",
    "print(new_text)  # Output: \"Hello ###, this is a test ###.\""
   ]
  }
 ],
 "metadata": {
  "kernelspec": {
   "display_name": "Python 3",
   "language": "python",
   "name": "python3"
  },
  "language_info": {
   "codemirror_mode": {
    "name": "ipython",
    "version": 3
   },
   "file_extension": ".py",
   "mimetype": "text/x-python",
   "name": "python",
   "nbconvert_exporter": "python",
   "pygments_lexer": "ipython3",
   "version": "3.13.0"
  }
 },
 "nbformat": 4,
 "nbformat_minor": 2
}
