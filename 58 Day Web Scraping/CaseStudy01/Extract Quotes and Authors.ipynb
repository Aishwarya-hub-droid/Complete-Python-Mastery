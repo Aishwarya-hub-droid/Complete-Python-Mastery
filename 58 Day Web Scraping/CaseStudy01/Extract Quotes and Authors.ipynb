{
 "cells": [
  {
   "cell_type": "code",
   "execution_count": null,
   "metadata": {},
   "outputs": [],
   "source": [
    "pip install requests beautifulsoup4 pandas"
   ]
  },
  {
   "cell_type": "code",
   "execution_count": 1,
   "metadata": {},
   "outputs": [
    {
     "name": "stdout",
     "output_type": "stream",
     "text": [
      "Page fetched successfully!\n"
     ]
    }
   ],
   "source": [
    "import requests\n",
    "\n",
    "url = \"http://quotes.toscrape.com/\"\n",
    "response = requests.get(url)\n",
    "\n",
    "# Check if request was successful\n",
    "if response.status_code == 200:\n",
    "    print(\"Page fetched successfully!\")\n",
    "else:\n",
    "    print(\"Failed to fetch page.\")\n"
   ]
  },
  {
   "cell_type": "code",
   "execution_count": 2,
   "metadata": {},
   "outputs": [
    {
     "name": "stdout",
     "output_type": "stream",
     "text": [
      "<!DOCTYPE html>\n",
      "<html lang=\"en\">\n",
      " <head>\n",
      "  <meta charset=\"utf-8\"/>\n",
      "  <title>\n",
      "   Quotes to Scrape\n",
      "  </title>\n",
      "  <link href=\"/static/bootstrap.min.css\" rel=\"stylesheet\"/>\n",
      "  <link href=\"/static/main.css\" rel=\"stylesheet\"/>\n",
      " </head>\n",
      " <body>\n",
      "  <div class=\"container\">\n",
      "   <div class=\"row header-box\">\n",
      "    <div class=\"col-md-8\">\n",
      "     <h1>\n",
      "      <a href=\"/\" style=\"text-decoration: none\">\n",
      "       Quotes to Scrape\n",
      "      </a>\n",
      "     </h1>\n",
      "    </div>\n",
      "    <div class=\"col-md-4\">\n",
      "     <p>\n",
      "      <a href=\"/login\">\n",
      "   \n"
     ]
    }
   ],
   "source": [
    "from bs4 import BeautifulSoup\n",
    "\n",
    "soup = BeautifulSoup(response.text, \"html.parser\")\n",
    "\n",
    "# Print formatted HTML (optional)\n",
    "print(soup.prettify()[:500])  # Show first 500 characters"
   ]
  },
  {
   "cell_type": "code",
   "execution_count": 3,
   "metadata": {},
   "outputs": [
    {
     "name": "stdout",
     "output_type": "stream",
     "text": [
      "Quote: “The world as we have created it is a process of our thinking. It cannot be changed without changing our thinking.”\n",
      "Author: Albert Einstein\n",
      "--------------------------------------------------\n",
      "Quote: “It is our choices, Harry, that show what we truly are, far more than our abilities.”\n",
      "Author: J.K. Rowling\n",
      "--------------------------------------------------\n",
      "Quote: “There are only two ways to live your life. One is as though nothing is a miracle. The other is as though everything is a miracle.”\n",
      "Author: Albert Einstein\n",
      "--------------------------------------------------\n",
      "Quote: “The person, be it gentleman or lady, who has not pleasure in a good novel, must be intolerably stupid.”\n",
      "Author: Jane Austen\n",
      "--------------------------------------------------\n",
      "Quote: “Imperfection is beauty, madness is genius and it's better to be absolutely ridiculous than absolutely boring.”\n",
      "Author: Marilyn Monroe\n",
      "--------------------------------------------------\n",
      "Quote: “Try not to become a man of success. Rather become a man of value.”\n",
      "Author: Albert Einstein\n",
      "--------------------------------------------------\n",
      "Quote: “It is better to be hated for what you are than to be loved for what you are not.”\n",
      "Author: André Gide\n",
      "--------------------------------------------------\n",
      "Quote: “I have not failed. I've just found 10,000 ways that won't work.”\n",
      "Author: Thomas A. Edison\n",
      "--------------------------------------------------\n",
      "Quote: “A woman is like a tea bag; you never know how strong it is until it's in hot water.”\n",
      "Author: Eleanor Roosevelt\n",
      "--------------------------------------------------\n",
      "Quote: “A day without sunshine is like, you know, night.”\n",
      "Author: Steve Martin\n",
      "--------------------------------------------------\n"
     ]
    }
   ],
   "source": [
    "quotes = soup.find_all(\"span\", class_=\"text\")  # Extract quotes\n",
    "authors = soup.find_all(\"small\", class_=\"author\")  # Extract authors\n",
    "\n",
    "# Print extracted data\n",
    "for i in range(len(quotes)):\n",
    "    print(f\"Quote: {quotes[i].text}\")\n",
    "    print(f\"Author: {authors[i].text}\")\n",
    "    print(\"-\" * 50)\n"
   ]
  },
  {
   "cell_type": "code",
   "execution_count": 4,
   "metadata": {},
   "outputs": [
    {
     "name": "stdout",
     "output_type": "stream",
     "text": [
      "Data saved to quotes.csv!\n"
     ]
    }
   ],
   "source": [
    "import pandas as pd\n",
    "\n",
    "data = {\"Quote\": [q.text for q in quotes], \"Author\": [a.text for a in authors]}\n",
    "df = pd.DataFrame(data)\n",
    "\n",
    "df.to_csv(\"quotes.csv\", index=False)\n",
    "print(\"Data saved to quotes.csv!\")\n"
   ]
  },
  {
   "cell_type": "code",
   "execution_count": 5,
   "metadata": {},
   "outputs": [
    {
     "name": "stdout",
     "output_type": "stream",
     "text": [
      "Scraped Page 1\n",
      "Scraped Page 2\n",
      "Scraped Page 3\n",
      "Scraped Page 4\n",
      "Scraped Page 5\n",
      "Scraped Page 6\n",
      "Scraped Page 7\n",
      "Scraped Page 8\n",
      "Scraped Page 9\n",
      "Scraped Page 10\n",
      "All pages scraped and saved to all_quotes.csv!\n"
     ]
    }
   ],
   "source": [
    "page = 1\n",
    "all_quotes = []\n",
    "all_authors = []\n",
    "\n",
    "while True:\n",
    "    url = f\"http://quotes.toscrape.com/page/{page}/\"\n",
    "    response = requests.get(url)\n",
    "    \n",
    "    if \"No quotes found!\" in response.text:  # Stop if no more pages\n",
    "        break\n",
    "\n",
    "    soup = BeautifulSoup(response.text, \"html.parser\")\n",
    "    quotes = soup.find_all(\"span\", class_=\"text\")\n",
    "    authors = soup.find_all(\"small\", class_=\"author\")\n",
    "\n",
    "    all_quotes.extend([q.text for q in quotes])\n",
    "    all_authors.extend([a.text for a in authors])\n",
    "\n",
    "    print(f\"Scraped Page {page}\")\n",
    "    page += 1\n",
    "\n",
    "# Save to CSV\n",
    "df = pd.DataFrame({\"Quote\": all_quotes, \"Author\": all_authors})\n",
    "df.to_csv(\"all_quotes.csv\", index=False)\n",
    "print(\"All pages scraped and saved to all_quotes.csv!\")\n"
   ]
  },
  {
   "cell_type": "code",
   "execution_count": 2,
   "metadata": {},
   "outputs": [
    {
     "name": "stdout",
     "output_type": "stream",
     "text": [
      "200\n"
     ]
    }
   ],
   "source": [
    "import requests  # Make sure this is at the top of your script\n",
    "\n",
    "headers = {\n",
    "    \"User-Agent\": \"Mozilla/5.0 (Windows NT 10.0; Win64; x64)\"\n",
    "}\n",
    "\n",
    "url = \"http://quotes.toscrape.com/\"\n",
    "response = requests.get(url, headers=headers)\n",
    "\n",
    "print(response.status_code)  # Should print 200 if successful\n"
   ]
  }
 ],
 "metadata": {
  "kernelspec": {
   "display_name": "Python 3",
   "language": "python",
   "name": "python3"
  },
  "language_info": {
   "codemirror_mode": {
    "name": "ipython",
    "version": 3
   },
   "file_extension": ".py",
   "mimetype": "text/x-python",
   "name": "python",
   "nbconvert_exporter": "python",
   "pygments_lexer": "ipython3",
   "version": "3.12.1"
  }
 },
 "nbformat": 4,
 "nbformat_minor": 2
}
