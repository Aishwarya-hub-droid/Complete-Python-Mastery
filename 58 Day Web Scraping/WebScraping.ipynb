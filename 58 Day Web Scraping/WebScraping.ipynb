{
 "cells": [
  {
   "cell_type": "code",
   "execution_count": 1,
   "metadata": {},
   "outputs": [
    {
     "name": "stdout",
     "output_type": "stream",
     "text": [
      "Collecting requestsNote: you may need to restart the kernel to use updated packages.\n",
      "\n",
      "  Downloading requests-2.32.3-py3-none-any.whl.metadata (4.6 kB)\n",
      "Collecting beautifulsoup4\n",
      "  Downloading beautifulsoup4-4.13.3-py3-none-any.whl.metadata (3.8 kB)\n",
      "Collecting charset-normalizer<4,>=2 (from requests)\n",
      "  Downloading charset_normalizer-3.4.1-cp313-cp313-win_amd64.whl.metadata (36 kB)\n",
      "Collecting idna<4,>=2.5 (from requests)\n",
      "  Downloading idna-3.10-py3-none-any.whl.metadata (10 kB)\n",
      "Collecting urllib3<3,>=1.21.1 (from requests)\n",
      "  Downloading urllib3-2.3.0-py3-none-any.whl.metadata (6.5 kB)\n",
      "Collecting certifi>=2017.4.17 (from requests)\n",
      "  Downloading certifi-2025.1.31-py3-none-any.whl.metadata (2.5 kB)\n",
      "Collecting soupsieve>1.2 (from beautifulsoup4)\n",
      "  Downloading soupsieve-2.6-py3-none-any.whl.metadata (4.6 kB)\n",
      "Collecting typing-extensions>=4.0.0 (from beautifulsoup4)\n",
      "  Using cached typing_extensions-4.12.2-py3-none-any.whl.metadata (3.0 kB)\n",
      "Downloading requests-2.32.3-py3-none-any.whl (64 kB)\n",
      "Downloading beautifulsoup4-4.13.3-py3-none-any.whl (186 kB)\n",
      "Downloading certifi-2025.1.31-py3-none-any.whl (166 kB)\n",
      "Downloading charset_normalizer-3.4.1-cp313-cp313-win_amd64.whl (102 kB)\n",
      "Downloading idna-3.10-py3-none-any.whl (70 kB)\n",
      "Downloading soupsieve-2.6-py3-none-any.whl (36 kB)\n",
      "Using cached typing_extensions-4.12.2-py3-none-any.whl (37 kB)\n",
      "Downloading urllib3-2.3.0-py3-none-any.whl (128 kB)\n",
      "Installing collected packages: urllib3, typing-extensions, soupsieve, idna, charset-normalizer, certifi, requests, beautifulsoup4\n",
      "Successfully installed beautifulsoup4-4.13.3 certifi-2025.1.31 charset-normalizer-3.4.1 idna-3.10 requests-2.32.3 soupsieve-2.6 typing-extensions-4.12.2 urllib3-2.3.0\n"
     ]
    },
    {
     "name": "stderr",
     "output_type": "stream",
     "text": [
      "  WARNING: The script normalizer.exe is installed in 'c:\\Users\\comp\\AppData\\Local\\Programs\\Python\\Python313\\Scripts' which is not on PATH.\n",
      "  Consider adding this directory to PATH or, if you prefer to suppress this warning, use --no-warn-script-location.\n",
      "\n",
      "[notice] A new release of pip is available: 24.2 -> 25.0.1\n",
      "[notice] To update, run: python.exe -m pip install --upgrade pip\n"
     ]
    }
   ],
   "source": [
    "# Web Scraping\n",
    "%pip install requests beautifulsoup4"
   ]
  },
  {
   "cell_type": "code",
   "execution_count": 2,
   "metadata": {},
   "outputs": [],
   "source": [
    "import requests\n",
    "from bs4 import BeautifulSoup"
   ]
  },
  {
   "cell_type": "code",
   "execution_count": 3,
   "metadata": {},
   "outputs": [
    {
     "name": "stdout",
     "output_type": "stream",
     "text": [
      "Page fetched successfully!\n",
      "<!DOCTYPE html>\n",
      "<html lang=\"en\">\n",
      "<head>\n",
      "  \n",
      "  <meta charset='utf-8'>\n",
      "  <meta name=\"viewport\" content=\"width=device-width, initial-scale=1\" id=\"wixDesktopViewport\" />\n",
      "  <meta http-equiv=\"X-UA-Compatible\" content=\"IE=edge\">\n",
      "  <meta name=\"generator\" content=\"Wix.com Website Builder\"/>\n",
      "\n",
      "  <link rel=\"icon\" sizes=\"192x192\" href=\"https://static.wixstatic.com/media/94e4b2_f3360ec1914246ff9389ced92626f5d7%7Emv2.png/v1/fill/w_192%2Ch_192%2Clg_1%2Cusm_0.66_1.00_0.01/94e4b2_f3360ec1914246ff9389ced92626f5d7%7\n"
     ]
    }
   ],
   "source": [
    "import requests\n",
    "\n",
    "url = \"https://codeswithpankaj.com\"\n",
    "response = requests.get(url)\n",
    "\n",
    "# Check if the request was successful\n",
    "if response.status_code == 200:\n",
    "    print(\"Page fetched successfully!\")\n",
    "    print(response.text[:500])  # Print first 500 characters of the HTML\n",
    "else:\n",
    "    print(f\"Failed to fetch page. Status code: {response.status_code}\")\n"
   ]
  },
  {
   "cell_type": "code",
   "execution_count": 4,
   "metadata": {},
   "outputs": [
    {
     "name": "stdout",
     "output_type": "stream",
     "text": [
      "Page Title: Codes With Pankaj | Programming Tutorials\n"
     ]
    }
   ],
   "source": [
    "from bs4 import BeautifulSoup\n",
    "\n",
    "html_content = response.text\n",
    "soup = BeautifulSoup(html_content, \"html.parser\")\n",
    "\n",
    "# Print the title of the page\n",
    "print(\"Page Title:\", soup.title.string)"
   ]
  },
  {
   "cell_type": "code",
   "execution_count": 5,
   "metadata": {},
   "outputs": [
    {
     "name": "stdout",
     "output_type": "stream",
     "text": [
      "https://www.codeswithpankaj.com\n",
      "https://www.codeswithpankaj.com/about\n",
      "https://www.codeswithpankaj.com/plans-pricing\n",
      "https://www.codeswithpankaj.com/contact-10\n",
      "https://www.codeswithpankaj.com/python-course\n",
      "https://www.codeswithpankaj.com/tutorial\n",
      "https://www.codeswithpankaj.com/blogs\n",
      "https://www.codeswithpankaj.com/books\n",
      "https://www.codeswithpankaj.com/programs\n",
      "https://www.whatsapp.com/channel/0029VaBgv6j0bIdp136CT43H\n",
      "https://tutorial.codeswithpankaj.com/machine-learning\n",
      "https://tutorial.codeswithpankaj.com/sql\n",
      "https://tutorial.codeswithpankaj.com/python\n",
      "https://tutorial.codeswithpankaj.com/css\n",
      "https://tutorial.codeswithpankaj.com/java-script\n",
      "https://tutorial.codeswithpankaj.com/html\n",
      "https://tutorial.codeswithpankaj.com/r-programming\n",
      "https://tutorial.codeswithpankaj.com/java-tutorial/\n",
      "https://tutorial.codeswithpankaj.com/tutorials\n",
      "https://github.com/Pankaj-Str\n",
      "https://github.com/Pankaj-Str/JAVA-SE-Tutorial-codeswithpankaj\n",
      "https://github.com/Pankaj-Str/JAVA-SE-Tutorial-codeswithpankaj\n",
      "https://github.com/Pankaj-Str/SQL-tutorial\n",
      "https://github.com/Pankaj-Str/SQL-tutorial\n",
      "https://github.com/Pankaj-Str/C-Programming-Tutorial-codeswithpankaj\n",
      "https://github.com/Pankaj-Str/C-Programming-Tutorial-codeswithpankaj\n",
      "https://github.com/Pankaj-Str/Nodejs-Concepts\n",
      "https://github.com/Pankaj-Str/Nodejs-Concepts\n",
      "https://github.com/Pankaj-Str/ExpressJS-tutorial-codeswithpankaj\n",
      "https://github.com/Pankaj-Str/ExpressJS-tutorial-codeswithpankaj\n",
      "https://github.com/Pankaj-Str/JavaScript-Tutorial\n",
      "https://github.com/Pankaj-Str/JavaScript-Tutorial\n",
      "https://github.com/Pankaj-Str/Python-Interview-Questions\n",
      "https://github.com/Pankaj-Str/Python-Interview-Questions\n",
      "https://github.com/Pankaj-Str/Front-end-Development-Tutorial/tree/main/BootStrap-Tutorial\n",
      "https://github.com/Pankaj-Str/Front-end-Development-Tutorial/tree/main/BootStrap-Tutorial\n",
      "https://github.com/Pankaj-Str/Complete-Python-Mastery-codeswithpankaj\n",
      "https://github.com/Pankaj-Str/Complete-Python-Mastery-codeswithpankaj\n",
      "https://github.com/Pankaj-Str/Django-Tutorial\n",
      "https://github.com/Pankaj-Str/Django-Tutorial\n",
      "https://github.com/Pankaj-Str/R-Programming-Tutorial\n",
      "https://github.com/Pankaj-Str/R-Programming-Tutorial\n",
      "https://github.com/Pankaj-Str/Spring-Tutorial\n",
      "https://github.com/Pankaj-Str/Spring-Tutorial\n",
      "https://github.com/Pankaj-Str/C-Programming-Tutorial-codeswithpankaj\n",
      "https://github.com/Pankaj-Str/C-Programming-Tutorial-codeswithpankaj\n",
      "https://github.com/Pankaj-Str/Servlet-Tutorial\n",
      "https://github.com/Pankaj-Str/Servlet-Tutorial\n",
      "https://github.com/Pankaj-Str/Learn-CPP\n",
      "https://github.com/Pankaj-Str/Learn-CPP\n",
      "https://github.com/Pankaj-Str/Front-end-Development-Tutorial\n",
      "https://github.com/Pankaj-Str/Front-end-Development-Tutorial\n",
      "https://github.com/Pankaj-Str/Learn-DSA-Python\n",
      "https://github.com/Pankaj-Str/Learn-DSA-Python\n",
      "https://github.com/Pankaj-Str/MongoDB-Tutorial\n",
      "https://github.com/Pankaj-Str/MongoDB-Tutorial\n",
      "https://github.com/Pankaj-Str/Learn-Data-Structures-JAVA\n",
      "https://github.com/Pankaj-Str/Learn-Data-Structures-JAVA\n",
      "https://github.com/Pankaj-Str/ReactJS-tutorial\n",
      "https://github.com/Pankaj-Str/ReactJS-tutorial\n",
      "https://github.com/Pankaj-Str/Data-Structures-CPP\n",
      "https://github.com/Pankaj-Str/Data-Structures-CPP\n",
      "https://www.codeswithpankaj.com/about\n",
      "https://medium.com/@codeswithpankaj\n",
      "https://www.youtube.com/@codeswithpankaj\n",
      "https://x.com/pankaj_str\n",
      "https://www.linkedin.com/in/codeswithpankaj?utm_source=share&utm_campaign=share_via&utm_content=profile&utm_medium=ios_app\n",
      "https://www.instagram.com/pankaj_str\n",
      "https://www.codeswithpankaj.com/_files/ugd/94e4b2_1275385a4ecb454cae02a7943abae05d.pdf\n",
      "https://www.codeswithpankaj.com/_files/ugd/94e4b2_3832228ae470479d923cfbef7f3a150f.pdf\n",
      "https://www.codeswithpankaj.com/_files/ugd/94e4b2_0736f15218434bcfa63c92e72d58a9f1.pdf\n",
      "https://www.codeswithpankaj.com/_files/ugd/94e4b2_4a92f95bd48f47e599cf6788a9662fd4.pdf\n",
      "https://www.codeswithpankaj.com/_files/ugd/94e4b2_8cca5ffc91934caea2be830904b5a977.pdf\n",
      "https://www.codeswithpankaj.com/_files/ugd/94e4b2_3f84e92f97ed435ebe48d0bbae685f42.pdf\n",
      "https://www.codeswithpankaj.com/_files/ugd/94e4b2_fbec1e080a784c978b4a43452f2e8597.pdf\n",
      "https://www.codeswithpankaj.com/_files/ugd/94e4b2_3f7b7823a5154ddd8387400737b1464b.pdf\n",
      "https://www.codeswithpankaj.com/_files/ugd/94e4b2_5d8fc9a60da44c5ba711cb46561f3dfe.pdf\n",
      "https://www.codeswithpankaj.com/_files/ugd/94e4b2_2f38313e8d4c47528006677b175e9dc4.pdf\n",
      "https://www.codeswithpankaj.com/_files/ugd/94e4b2_1ccfe9610f9b4473a5860f6ecf3f7265.pdf\n",
      "https://www.codeswithpankaj.com/python-course\n",
      "https://codeswithpankaj.medium.com/\n",
      "https://www.codeswithpankaj.com/tutorial/categories/anguler-js\n",
      "https://www.codeswithpankaj.com/tutorial/categories/python\n",
      "https://www.codeswithpankaj.com\n",
      "https://www.codeswithpankaj.com/tutorial/categories/node-js\n",
      "https://www.codeswithpankaj.com/tutorial/categories/react-js\n",
      "https://www.codeswithpankaj.com/tutorial/categories/r-programming\n",
      "https://www.codeswithpankaj.com/tutorial/categories/_c-1\n",
      "https://www.codeswithpankaj.com/tutorial/categories/django\n",
      "https://www.codeswithpankaj.com/tutorial/categories/php\n",
      "https://www.codeswithpankaj.com\n",
      "https://www.codeswithpankaj.com/tutorial/categories/dsa-using-java\n",
      "https://www.codeswithpankaj.com/tutorial/categories/dsa-using-java\n",
      "https://www.codeswithpankaj.com/tutorial/categories/_c\n",
      "https://www.codeswithpankaj.com/tutorial/categories/machine-learning\n",
      "https://www.codeswithpankaj.com/tutorial/categories/sql\n",
      "https://www.codeswithpankaj.com/post/sql-practice-creating-and-managing-a-complete-company-database\n",
      "https://www.codeswithpankaj.com/tutorial/categories/sql\n",
      "https://www.codeswithpankaj.com/post/sql-joins-tutorial\n",
      "https://www.codeswithpankaj.com/tutorial/categories/r-programming\n",
      "https://www.codeswithpankaj.com/post/r-data-frame-a-comprehensive-guide\n",
      "https://www.codeswithpankaj.com/tutorial/categories/r-programming\n",
      "https://www.codeswithpankaj.com/post/basic-practice-programming-questions-in-r-to-help-you-get-started\n",
      "https://www.codeswithpankaj.com/tutorial/categories/php\n",
      "https://www.codeswithpankaj.com/post/how-to-fetch-and-display-the-provided-json-data-as-a-table-in-php\n",
      "https://www.codeswithpankaj.com/tutorial/categories/php\n",
      "https://www.codeswithpankaj.com/post/implement-a-session-timeout-mechanism-in-php\n",
      "https://www.codeswithpankaj.com/tutorial/categories/_c\n",
      "https://www.codeswithpankaj.com/post/printing-upper-right-and-lower-left-triangles-of-a-matrix-in-c\n",
      "https://www.codeswithpankaj.com/tutorial/categories/python\n",
      "https://www.codeswithpankaj.com/post/code-introspection-in-python\n",
      "https://www.codeswithpankaj.com/tutorial/categories/java\n",
      "https://www.codeswithpankaj.com/post/understanding-java-stream-api-a-comprehensive-guide-for-beginners\n",
      "https://www.codeswithpankaj.com/tutorial/categories/java\n",
      "https://www.codeswithpankaj.com/post/how-to-use-annotations-and-base64-encoding-in-java-a-complete-guide\n",
      "\n",
      "\n",
      "\n",
      "\n",
      "\n",
      "\n",
      "http://buymeacoffee.com/pankaj_str\n",
      "https://github.com/Pankaj-Str\n",
      "https://discord.com/invite/mHgkZ65VGz\n",
      "https://dev.to/codeswithpankaj\n",
      "https://p4n.in\n",
      "https://www.whatsapp.com/channel/0029VaBgv6j0bIdp136CT43H\n",
      "https://www.instagram.com/codeswithpankaj/\n",
      "https://www.facebook.com/p4n.in\n",
      "https://x.com/Pankaj_str\n",
      "http://www.linkedin.com/in/codeswithpankaj\n",
      "https://www.youtube.com/@codeswithpankaj\n",
      "https://www.codeswithpankaj.com/terms-conditions\n",
      "https://www.codeswithpankaj.com/terms-conditions\n"
     ]
    }
   ],
   "source": [
    "for link in soup.find_all(\"a\"):\n",
    "    print(link.get(\"href\"))"
   ]
  },
  {
   "cell_type": "code",
   "execution_count": 6,
   "metadata": {},
   "outputs": [
    {
     "name": "stdout",
     "output_type": "stream",
     "text": [
      "No Filler, \n",
      " Just Code  \n",
      "That Works.\n",
      "Step-by-step learning that takes you from beginner to pro.\n",
      "Get the latest tutorials and updates\n",
      "Explore GitHub Repositories\n",
      "Access Free Coding Tutorials and Resources\n",
      "CODES WITH PANKAJ\n",
      "Downloads Latest Update\n",
      "Trusted by Industry Leaders\n",
      "Find the latest Blogs & Tutorial articles\n",
      "SQL Practice : Creating and Managing a Complete Company Database\n",
      "SQL Joins Tutorial : Mastering Data Relationships in Databases\n",
      "R Data Frame: A Comprehensive Guide\n",
      "Essential R Programming Practice Questions for Beginners\n",
      "How to fetch and display the provided JSON data as a table in PHP\n",
      "Implement a session timeout mechanism in PHP\n",
      "Printing Upper Right and Lower Left Triangles of a Matrix in C\n",
      "Code Introspection in Python\n",
      "Understanding Java Stream API: A Comprehensive Guide for Beginners\n",
      "How to Use Annotations and Base64 Encoding in Java - A Complete Guide\n"
     ]
    }
   ],
   "source": [
    "headlines = soup.find_all(\"h2\")  # Assuming headlines are in <h2> tags\n",
    "for headline in headlines:\n",
    "    print(headline.text.strip())"
   ]
  },
  {
   "cell_type": "code",
   "execution_count": 7,
   "metadata": {},
   "outputs": [
    {
     "name": "stdout",
     "output_type": "stream",
     "text": [
      "Collecting selenium\n",
      "  Downloading selenium-4.28.1-py3-none-any.whl.metadata (7.1 kB)\n",
      "Requirement already satisfied: urllib3<3,>=1.26 in c:\\users\\comp\\appdata\\local\\programs\\python\\python313\\lib\\site-packages (from urllib3[socks]<3,>=1.26->selenium) (2.3.0)\n",
      "Collecting trio~=0.17 (from selenium)\n",
      "  Downloading trio-0.29.0-py3-none-any.whl.metadata (8.5 kB)\n",
      "Collecting trio-websocket~=0.9 (from selenium)\n",
      "  Downloading trio_websocket-0.12.1-py3-none-any.whl.metadata (5.1 kB)\n",
      "Requirement already satisfied: certifi>=2021.10.8 in c:\\users\\comp\\appdata\\local\\programs\\python\\python313\\lib\\site-packages (from selenium) (2025.1.31)\n",
      "Requirement already satisfied: typing_extensions~=4.9 in c:\\users\\comp\\appdata\\local\\programs\\python\\python313\\lib\\site-packages (from selenium) (4.12.2)\n",
      "Collecting websocket-client~=1.8 (from selenium)\n",
      "  Downloading websocket_client-1.8.0-py3-none-any.whl.metadata (8.0 kB)\n",
      "Collecting attrs>=23.2.0 (from trio~=0.17->selenium)\n",
      "  Downloading attrs-25.1.0-py3-none-any.whl.metadata (10 kB)\n",
      "Collecting sortedcontainers (from trio~=0.17->selenium)\n",
      "  Downloading sortedcontainers-2.4.0-py2.py3-none-any.whl.metadata (10 kB)\n",
      "Requirement already satisfied: idna in c:\\users\\comp\\appdata\\local\\programs\\python\\python313\\lib\\site-packages (from trio~=0.17->selenium) (3.10)\n",
      "Collecting outcome (from trio~=0.17->selenium)\n",
      "  Downloading outcome-1.3.0.post0-py2.py3-none-any.whl.metadata (2.6 kB)\n",
      "Collecting sniffio>=1.3.0 (from trio~=0.17->selenium)\n",
      "  Downloading sniffio-1.3.1-py3-none-any.whl.metadata (3.9 kB)\n",
      "Collecting cffi>=1.14 (from trio~=0.17->selenium)\n",
      "  Downloading cffi-1.17.1-cp313-cp313-win_amd64.whl.metadata (1.6 kB)\n",
      "Collecting wsproto>=0.14 (from trio-websocket~=0.9->selenium)\n",
      "  Downloading wsproto-1.2.0-py3-none-any.whl.metadata (5.6 kB)\n",
      "Collecting pysocks!=1.5.7,<2.0,>=1.5.6 (from urllib3[socks]<3,>=1.26->selenium)\n",
      "  Downloading PySocks-1.7.1-py3-none-any.whl.metadata (13 kB)\n",
      "Collecting pycparser (from cffi>=1.14->trio~=0.17->selenium)\n",
      "  Downloading pycparser-2.22-py3-none-any.whl.metadata (943 bytes)\n",
      "Collecting h11<1,>=0.9.0 (from wsproto>=0.14->trio-websocket~=0.9->selenium)\n",
      "  Downloading h11-0.14.0-py3-none-any.whl.metadata (8.2 kB)\n",
      "Downloading selenium-4.28.1-py3-none-any.whl (9.5 MB)\n",
      "   ---------------------------------------- 0.0/9.5 MB ? eta -:--:--\n",
      "   --------- ------------------------------ 2.4/9.5 MB 11.8 MB/s eta 0:00:01\n",
      "   ------------------- -------------------- 4.7/9.5 MB 11.8 MB/s eta 0:00:01\n",
      "   ----------------------------- ---------- 7.1/9.5 MB 11.8 MB/s eta 0:00:01\n",
      "   ---------------------------------------  9.4/9.5 MB 11.8 MB/s eta 0:00:01\n",
      "   ---------------------------------------- 9.5/9.5 MB 11.0 MB/s eta 0:00:00\n",
      "Downloading trio-0.29.0-py3-none-any.whl (492 kB)\n",
      "Downloading trio_websocket-0.12.1-py3-none-any.whl (21 kB)\n",
      "Downloading websocket_client-1.8.0-py3-none-any.whl (58 kB)\n",
      "Downloading attrs-25.1.0-py3-none-any.whl (63 kB)\n",
      "Downloading cffi-1.17.1-cp313-cp313-win_amd64.whl (182 kB)\n",
      "Downloading outcome-1.3.0.post0-py2.py3-none-any.whl (10 kB)\n",
      "Downloading PySocks-1.7.1-py3-none-any.whl (16 kB)\n",
      "Downloading sniffio-1.3.1-py3-none-any.whl (10 kB)\n",
      "Downloading wsproto-1.2.0-py3-none-any.whl (24 kB)\n",
      "Downloading sortedcontainers-2.4.0-py2.py3-none-any.whl (29 kB)\n",
      "Downloading h11-0.14.0-py3-none-any.whl (58 kB)\n",
      "Downloading pycparser-2.22-py3-none-any.whl (117 kB)\n",
      "Installing collected packages: sortedcontainers, websocket-client, sniffio, pysocks, pycparser, h11, attrs, wsproto, outcome, cffi, trio, trio-websocket, selenium\n",
      "Successfully installed attrs-25.1.0 cffi-1.17.1 h11-0.14.0 outcome-1.3.0.post0 pycparser-2.22 pysocks-1.7.1 selenium-4.28.1 sniffio-1.3.1 sortedcontainers-2.4.0 trio-0.29.0 trio-websocket-0.12.1 websocket-client-1.8.0 wsproto-1.2.0\n",
      "Note: you may need to restart the kernel to use updated packages.\n"
     ]
    },
    {
     "name": "stderr",
     "output_type": "stream",
     "text": [
      "  WARNING: The script wsdump.exe is installed in 'c:\\Users\\comp\\AppData\\Local\\Programs\\Python\\Python313\\Scripts' which is not on PATH.\n",
      "  Consider adding this directory to PATH or, if you prefer to suppress this warning, use --no-warn-script-location.\n",
      "\n",
      "[notice] A new release of pip is available: 24.2 -> 25.0.1\n",
      "[notice] To update, run: python.exe -m pip install --upgrade pip\n"
     ]
    }
   ],
   "source": [
    "%pip install selenium"
   ]
  },
  {
   "cell_type": "code",
   "execution_count": 8,
   "metadata": {},
   "outputs": [
    {
     "name": "stdout",
     "output_type": "stream",
     "text": [
      "Codes With Pankaj | Programming Tutorials\n"
     ]
    }
   ],
   "source": [
    "from selenium import webdriver\n",
    "\n",
    "driver = webdriver.Chrome()\n",
    "driver.get(\"https://codeswithpankaj.com\")\n",
    "\n",
    "# Extract page source after JavaScript execution\n",
    "html = driver.page_source\n",
    "soup = BeautifulSoup(html, \"html.parser\")\n",
    "\n",
    "print(soup.title.string)\n",
    "\n",
    "driver.quit()"
   ]
  },
  {
   "cell_type": "code",
   "execution_count": 9,
   "metadata": {},
   "outputs": [],
   "source": [
    "headers = {\n",
    "    \"User-Agent\": \"Mozilla/5.0 (Windows NT 10.0; Win64; x64)\"\n",
    "}\n",
    "\n",
    "response = requests.get(url, headers=headers)"
   ]
  },
  {
   "cell_type": "code",
   "execution_count": 10,
   "metadata": {},
   "outputs": [
    {
     "name": "stdout",
     "output_type": "stream",
     "text": [
      "Data saved to data.csv\n"
     ]
    }
   ],
   "source": [
    "import csv\n",
    "\n",
    "data = [[\"Headline 1\"], [\"Headline 2\"], [\"Headline 3\"]]\n",
    "\n",
    "with open(\"data.csv\", \"w\", newline=\"\", encoding=\"utf-8\") as file:\n",
    "    writer = csv.writer(file)\n",
    "    writer.writerow([\"Headlines\"])\n",
    "    writer.writerows(data)\n",
    "\n",
    "print(\"Data saved to data.csv\")"
   ]
  }
 ],
 "metadata": {
  "kernelspec": {
   "display_name": "Python 3",
   "language": "python",
   "name": "python3"
  },
  "language_info": {
   "codemirror_mode": {
    "name": "ipython",
    "version": 3
   },
   "file_extension": ".py",
   "mimetype": "text/x-python",
   "name": "python",
   "nbconvert_exporter": "python",
   "pygments_lexer": "ipython3",
   "version": "3.13.0"
  }
 },
 "nbformat": 4,
 "nbformat_minor": 2
}
