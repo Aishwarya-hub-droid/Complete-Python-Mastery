{
 "cells": [
  {
   "cell_type": "code",
   "execution_count": 3,
   "id": "9a2f6c54",
   "metadata": {},
   "outputs": [
    {
     "name": "stdout",
     "output_type": "stream",
     "text": [
      "[{'employee_id': 'E001', 'name': 'Alice Johnson', 'age': 30, 'gender': 'Female', 'department': 'Human Resources', 'designation': 'HR Manager', 'salary': 75000, 'full_time': True, 'email': 'alice.johnson@example.com', 'date_of_joining': '2018-05-21'}, {'employee_id': 'E002', 'name': 'Bob Smith', 'age': 28, 'gender': 'Male', 'department': 'Engineering', 'designation': 'Software Engineer', 'salary': 90000, 'full_time': True, 'email': 'bob.smith@example.com', 'date_of_joining': '2020-08-15'}, {'employee_id': 'E003', 'name': 'Catherine Lee', 'age': 35, 'gender': 'Female', 'department': 'Finance', 'designation': 'Accountant', 'salary': 68000, 'full_time': False, 'email': 'catherine.lee@example.com', 'date_of_joining': '2017-03-10'}, {'employee_id': 'E004', 'name': 'David Brown', 'age': 40, 'gender': 'Male', 'department': 'Engineering', 'designation': 'Team Lead', 'salary': 105000, 'full_time': True, 'email': 'david.brown@example.com', 'date_of_joining': '2015-11-30'}, {'employee_id': 'E005', 'name': 'Eva Green', 'age': 26, 'gender': 'Female', 'department': 'Marketing', 'designation': 'Content Specialist', 'salary': 62000, 'full_time': True, 'email': 'eva.green@example.com', 'date_of_joining': '2021-02-05'}]\n"
     ]
    }
   ],
   "source": [
    "# json in python \n",
    "\n",
    "# json is a standard library in python\n",
    "# json is a data format that is easy to read and write for humans and machines\n",
    "\n",
    "# how to use json in python\n",
    "import json\n",
    "\n",
    "# fatch data from json file\n",
    "\n",
    "with open('data.json') as f:\n",
    "    data = json.load(f)\n",
    "    print(data)"
   ]
  },
  {
   "cell_type": "code",
   "execution_count": null,
   "id": "13992c86",
   "metadata": {},
   "outputs": [
    {
     "name": "stdout",
     "output_type": "stream",
     "text": [
      "Name: Alice Johnson, Department: Human Resources\n",
      "Name: Bob Smith, Department: Engineering\n",
      "Name: Catherine Lee, Department: Finance\n",
      "Name: David Brown, Department: Engineering\n",
      "Name: Eva Green, Department: Marketing\n"
     ]
    }
   ],
   "source": [
    "# fetch employee names and their departments from json file\n",
    "\n",
    "with open('data.json') as f:\n",
    "    data = json.load(f)\n",
    "    for employee in data:\n",
    "        print(f\"Name: {employee['name']}, Department: {employee['department']}\")        "
   ]
  },
  {
   "cell_type": "code",
   "execution_count": 8,
   "id": "94399a49",
   "metadata": {},
   "outputs": [
    {
     "name": "stdout",
     "output_type": "stream",
     "text": [
      "  employee_id           name  age  gender       department  \\\n",
      "0        E001  Alice Johnson   30  Female  Human Resources   \n",
      "1        E002      Bob Smith   28    Male      Engineering   \n",
      "2        E003  Catherine Lee   35  Female          Finance   \n",
      "3        E004    David Brown   40    Male      Engineering   \n",
      "4        E005      Eva Green   26  Female        Marketing   \n",
      "\n",
      "          designation  salary  full_time                      email  \\\n",
      "0          HR Manager   75000       True  alice.johnson@example.com   \n",
      "1   Software Engineer   90000       True      bob.smith@example.com   \n",
      "2          Accountant   68000      False  catherine.lee@example.com   \n",
      "3           Team Lead  105000       True    david.brown@example.com   \n",
      "4  Content Specialist   62000       True      eva.green@example.com   \n",
      "\n",
      "  date_of_joining  \n",
      "0      2018-05-21  \n",
      "1      2020-08-15  \n",
      "2      2017-03-10  \n",
      "3      2015-11-30  \n",
      "4      2021-02-05  \n"
     ]
    }
   ],
   "source": [
    "# view as table \n",
    "\n",
    "import pandas as pd\n",
    "import json\n",
    "\n",
    "# read json file\n",
    "with open('data.json') as f:\n",
    "    data = json.load(f)\n",
    "    df = pd.DataFrame(data)\n",
    "    print(df)"
   ]
  },
  {
   "cell_type": "code",
   "execution_count": 9,
   "id": "2336d7d1",
   "metadata": {},
   "outputs": [],
   "source": [
    "# write data to csv file\n",
    "\n",
    "df.to_csv('new data.csv', index=False)"
   ]
  },
  {
   "cell_type": "code",
   "execution_count": 11,
   "id": "7a4b44e8",
   "metadata": {},
   "outputs": [
    {
     "name": "stdout",
     "output_type": "stream",
     "text": [
      "Collecting requests\n",
      "  Downloading requests-2.32.3-py3-none-any.whl.metadata (4.6 kB)\n",
      "Collecting charset-normalizer<4,>=2 (from requests)\n",
      "  Downloading charset_normalizer-3.4.1-cp313-cp313-win_amd64.whl.metadata (36 kB)\n",
      "Collecting idna<4,>=2.5 (from requests)\n",
      "  Downloading idna-3.10-py3-none-any.whl.metadata (10 kB)\n",
      "Collecting urllib3<3,>=1.21.1 (from requests)\n",
      "  Downloading urllib3-2.3.0-py3-none-any.whl.metadata (6.5 kB)\n",
      "Collecting certifi>=2017.4.17 (from requests)\n",
      "  Downloading certifi-2025.1.31-py3-none-any.whl.metadata (2.5 kB)\n",
      "Downloading requests-2.32.3-py3-none-any.whl (64 kB)\n",
      "Downloading certifi-2025.1.31-py3-none-any.whl (166 kB)\n",
      "Downloading charset_normalizer-3.4.1-cp313-cp313-win_amd64.whl (102 kB)\n",
      "Downloading idna-3.10-py3-none-any.whl (70 kB)\n",
      "Downloading urllib3-2.3.0-py3-none-any.whl (128 kB)\n",
      "Installing collected packages: urllib3, idna, charset-normalizer, certifi, requests\n",
      "Successfully installed certifi-2025.1.31 charset-normalizer-3.4.1 idna-3.10 requests-2.32.3 urllib3-2.3.0\n",
      "Note: you may need to restart the kernel to use updated packages.\n"
     ]
    },
    {
     "name": "stderr",
     "output_type": "stream",
     "text": [
      "\n",
      "[notice] A new release of pip is available: 24.3.1 -> 25.0.1\n",
      "[notice] To update, run: python.exe -m pip install --upgrade pip\n"
     ]
    }
   ],
   "source": [
    "\n",
    "# Install the requests module\n",
    "%pip install requests"
   ]
  },
  {
   "cell_type": "code",
   "execution_count": 13,
   "id": "8090d136",
   "metadata": {},
   "outputs": [
    {
     "name": "stdout",
     "output_type": "stream",
     "text": [
      "[{'Message': 'Number of pincode(s) found:21', 'Status': 'Success', 'PostOffice': [{'Name': 'Baroda House', 'Description': None, 'BranchType': 'Sub Post Office', 'DeliveryStatus': 'Non-Delivery', 'Circle': 'Delhi', 'District': 'Central Delhi', 'Division': 'New Delhi Central', 'Region': 'Delhi', 'Block': 'New Delhi', 'State': 'Delhi', 'Country': 'India', 'Pincode': '110001'}, {'Name': 'Bengali Market', 'Description': None, 'BranchType': 'Sub Post Office', 'DeliveryStatus': 'Non-Delivery', 'Circle': 'Delhi', 'District': 'Central Delhi', 'Division': 'New Delhi Central', 'Region': 'Delhi', 'Block': 'New Delhi', 'State': 'Delhi', 'Country': 'India', 'Pincode': '110001'}, {'Name': 'Bhagat Singh Market', 'Description': None, 'BranchType': 'Sub Post Office', 'DeliveryStatus': 'Non-Delivery', 'Circle': 'Delhi', 'District': 'Central Delhi', 'Division': 'New Delhi Central', 'Region': 'Delhi', 'Block': 'New Delhi', 'State': 'Delhi', 'Country': 'India', 'Pincode': '110001'}, {'Name': 'Connaught Place', 'Description': None, 'BranchType': 'Sub Post Office', 'DeliveryStatus': 'Non-Delivery', 'Circle': 'Delhi', 'District': 'Central Delhi', 'Division': 'New Delhi Central', 'Region': 'Delhi', 'Block': 'New Delhi', 'State': 'Delhi', 'Country': 'India', 'Pincode': '110001'}, {'Name': 'Constitution House', 'Description': None, 'BranchType': 'Sub Post Office', 'DeliveryStatus': 'Non-Delivery', 'Circle': 'Delhi', 'District': 'Central Delhi', 'Division': 'New Delhi Central', 'Region': 'Delhi', 'Block': 'New Delhi', 'State': 'Delhi', 'Country': 'India', 'Pincode': '110001'}, {'Name': 'Election Commission', 'Description': None, 'BranchType': 'Sub Post Office', 'DeliveryStatus': 'Non-Delivery', 'Circle': 'Delhi', 'District': 'Central Delhi', 'Division': 'New Delhi Central', 'Region': 'Delhi', 'Block': 'New Delhi', 'State': 'Delhi', 'Country': 'India', 'Pincode': '110001'}, {'Name': 'Janpath', 'Description': None, 'BranchType': 'Sub Post Office', 'DeliveryStatus': 'Non-Delivery', 'Circle': 'Delhi', 'District': 'Central Delhi', 'Division': 'New Delhi Central', 'Region': 'Delhi', 'Block': 'New Delhi', 'State': 'Delhi', 'Country': 'India', 'Pincode': '110001'}, {'Name': 'Krishi Bhawan', 'Description': None, 'BranchType': 'Sub Post Office', 'DeliveryStatus': 'Non-Delivery', 'Circle': 'Delhi', 'District': 'Central Delhi', 'Division': 'New Delhi Central', 'Region': 'Delhi', 'Block': 'New Delhi', 'State': 'Delhi', 'Country': 'India', 'Pincode': '110001'}, {'Name': 'Lady Harding Medical College', 'Description': None, 'BranchType': 'Sub Post Office', 'DeliveryStatus': 'Non-Delivery', 'Circle': 'Delhi', 'District': 'Central Delhi', 'Division': 'New Delhi Central', 'Region': 'Delhi', 'Block': 'New Delhi', 'State': 'Delhi', 'Country': 'India', 'Pincode': '110001'}, {'Name': 'New Delhi ', 'Description': None, 'BranchType': 'Head Post Office', 'DeliveryStatus': 'Delivery', 'Circle': 'Delhi', 'District': 'New Delhi', 'Division': 'New Delhi GPO', 'Region': 'Delhi', 'Block': 'New Delhi', 'State': 'Delhi', 'Country': 'India', 'Pincode': '110001'}, {'Name': 'North Avenue', 'Description': None, 'BranchType': 'Sub Post Office', 'DeliveryStatus': 'Non-Delivery', 'Circle': 'Delhi', 'District': 'Central Delhi', 'Division': 'New Delhi Central', 'Region': 'Delhi', 'Block': 'New Delhi', 'State': 'Delhi', 'Country': 'India', 'Pincode': '110001'}, {'Name': 'Parliament House', 'Description': None, 'BranchType': 'Sub Post Office', 'DeliveryStatus': 'Non-Delivery', 'Circle': 'Delhi', 'District': 'Central Delhi', 'Division': 'New Delhi Central', 'Region': 'Delhi', 'Block': 'New Delhi', 'State': 'Delhi', 'Country': 'India', 'Pincode': '110001'}, {'Name': 'Patiala House', 'Description': None, 'BranchType': 'Sub Post Office', 'DeliveryStatus': 'Non-Delivery', 'Circle': 'Delhi', 'District': 'Central Delhi', 'Division': 'New Delhi Central', 'Region': 'Delhi', 'Block': 'New Delhi', 'State': 'Delhi', 'Country': 'India', 'Pincode': '110001'}, {'Name': 'Pragati Maidan', 'Description': None, 'BranchType': 'Sub Post Office', 'DeliveryStatus': 'Non-Delivery', 'Circle': 'Delhi', 'District': 'Central Delhi', 'Division': 'New Delhi Central', 'Region': 'Delhi', 'Block': 'New Delhi', 'State': 'Delhi', 'Country': 'India', 'Pincode': '110001'}, {'Name': 'Pragati Maidan Camp', 'Description': None, 'BranchType': 'Sub Post Office', 'DeliveryStatus': 'Non-Delivery', 'Circle': 'Delhi', 'District': 'Central Delhi', 'Division': 'New Delhi Central', 'Region': 'Delhi', 'Block': 'New Delhi', 'State': 'Delhi', 'Country': 'India', 'Pincode': '110001'}, {'Name': 'Rail Bhawan', 'Description': None, 'BranchType': 'Sub Post Office', 'DeliveryStatus': 'Non-Delivery', 'Circle': 'Delhi', 'District': 'Central Delhi', 'Division': 'New Delhi Central', 'Region': 'Delhi', 'Block': 'New Delhi', 'State': 'Delhi', 'Country': 'India', 'Pincode': '110001'}, {'Name': 'Sansad Marg', 'Description': None, 'BranchType': 'Head Post Office', 'DeliveryStatus': 'Non-Delivery', 'Circle': 'Delhi', 'District': 'Central Delhi', 'Division': 'New Delhi Central', 'Region': 'Delhi', 'Block': 'New Delhi', 'State': 'Delhi', 'Country': 'India', 'Pincode': '110001'}, {'Name': 'Sansadiya Soudh', 'Description': None, 'BranchType': 'Sub Post Office', 'DeliveryStatus': 'Non-Delivery', 'Circle': 'Delhi', 'District': 'Central Delhi', 'Division': 'New Delhi Central', 'Region': 'Delhi', 'Block': 'New Delhi', 'State': 'Delhi', 'Country': 'India', 'Pincode': '110001'}, {'Name': 'Secretariat North', 'Description': None, 'BranchType': 'Sub Post Office', 'DeliveryStatus': 'Non-Delivery', 'Circle': 'Delhi', 'District': 'Central Delhi', 'Division': 'New Delhi Central', 'Region': 'Delhi', 'Block': 'New Delhi', 'State': 'Delhi', 'Country': 'India', 'Pincode': '110001'}, {'Name': 'Shastri Bhawan', 'Description': None, 'BranchType': 'Sub Post Office', 'DeliveryStatus': 'Non-Delivery', 'Circle': 'Delhi', 'District': 'Central Delhi', 'Division': 'New Delhi Central', 'Region': 'Delhi', 'Block': 'New Delhi', 'State': 'Delhi', 'Country': 'India', 'Pincode': '110001'}, {'Name': 'Supreme Court', 'Description': None, 'BranchType': 'Sub Post Office', 'DeliveryStatus': 'Non-Delivery', 'Circle': 'Delhi', 'District': 'Central Delhi', 'Division': 'New Delhi Central', 'Region': 'Delhi', 'Block': 'New Delhi', 'State': 'Delhi', 'Country': 'India', 'Pincode': '110001'}]}]\n"
     ]
    }
   ],
   "source": [
    "# fetch data online json fill\n",
    "\n",
    "import requests\n",
    "import json\n",
    "\n",
    "# fetch data from url\n",
    "\n",
    "url = 'https://api.postalpincode.in/pincode/110001'\n",
    "response = requests.get(url)\n",
    "data = response.json()\n",
    "print(data)"
   ]
  },
  {
   "cell_type": "code",
   "execution_count": 14,
   "id": "bc18293e",
   "metadata": {},
   "outputs": [
    {
     "name": "stdout",
     "output_type": "stream",
     "text": [
      "                         Message   Status  \\\n",
      "0  Number of pincode(s) found:21  Success   \n",
      "\n",
      "                                          PostOffice  \n",
      "0  [{'Name': 'Baroda House', 'Description': None,...  \n"
     ]
    }
   ],
   "source": [
    "# view as table \n",
    "import pandas as pd\n",
    "import json\n",
    "import requests\n",
    "\n",
    "# fetch data from url\n",
    "url = 'https://api.postalpincode.in/pincode/110001'\n",
    "\n",
    "response = requests.get(url)\n",
    "data = response.json()\n",
    "df = pd.DataFrame(data)\n",
    "print(df)"
   ]
  },
  {
   "cell_type": "code",
   "execution_count": null,
   "id": "b2650705",
   "metadata": {},
   "outputs": [
    {
     "name": "stdout",
     "output_type": "stream",
     "text": [
      "                        Message   Status  \\\n",
      "0  Number of pincode(s) found:3  Success   \n",
      "\n",
      "                                          PostOffice  \n",
      "0  [{'Name': 'Dahisar', 'Description': None, 'Bra...  \n",
      "Name: Dahisar\n",
      "Description: None\n",
      "BranchType: Sub Post Office\n",
      "DeliveryStatus: Delivery\n",
      "Circle: Maharashtra\n",
      "District: Mumbai\n",
      "Division: Mumbai  North West\n",
      "Region: Mumbai\n",
      "Block: Dahisar East\n",
      "State: Maharashtra\n",
      "Country: India\n",
      "Pincode: 400068\n",
      "         Name Description          BranchType DeliveryStatus       Circle  \\\n",
      "0     Dahisar        None     Sub Post Office       Delivery  Maharashtra   \n",
      "1  Dahisar RS        None     Sub Post Office   Non-Delivery  Maharashtra   \n",
      "2   Ketkipada        None  Branch Post Office   Non-Delivery  Maharashtra   \n",
      "\n",
      "  District            Division  Region         Block        State Country  \\\n",
      "0   Mumbai  Mumbai  North West  Mumbai  Dahisar East  Maharashtra   India   \n",
      "1   Mumbai  Mumbai  North West  Mumbai  Dahisar West  Maharashtra   India   \n",
      "2   Mumbai  Mumbai  North West  Mumbai  Dahisar East  Maharashtra   India   \n",
      "\n",
      "  Pincode  \n",
      "0  400068  \n",
      "1  400068  \n",
      "2  400068  \n"
     ]
    }
   ],
   "source": [
    "# fetch data keys and values from json file\n",
    "\n",
    "import json\n",
    "import requests\n",
    "import pandas as pd\n",
    "\n",
    "# fetch data from url\n",
    "\n",
    "url = 'https://api.postalpincode.in/pincode/400068'\n",
    "\n",
    "response = requests.get(url)\n",
    "data = response.json()\n",
    "df = pd.DataFrame(data)\n",
    "print(df)\n",
    "\n",
    "# view name and State , country , pincode\n",
    "\n",
    "# print(\"Name: \", data[0]['PostOffice'][0]['Name'])\n",
    "# print(\"State: \", data[0]['PostOffice'][0]['State'])\n",
    "# print(\"Country: \", data[0]['PostOffice'][0]['Country'])\n",
    "# print(\"Pincode: \", data[0]['PostOffice'][0]['Pincode'])\n",
    "\n",
    "\n",
    "# view all keys and values\n",
    "\n",
    "for key, value in data[0]['PostOffice'][0].items():\n",
    "    print(f\"{key}: {value}\")\n",
    "\n",
    "\n",
    "# view as table \n",
    "\n",
    "df = pd.DataFrame(data[0]['PostOffice'])\n",
    "print(df)\n"
   ]
  },
  {
   "cell_type": "code",
   "execution_count": 26,
   "id": "1cb21165",
   "metadata": {},
   "outputs": [],
   "source": [
    "# write data to csv file\n",
    "df.to_csv('new data.csv', index=False)"
   ]
  }
 ],
 "metadata": {
  "kernelspec": {
   "display_name": "Python 3",
   "language": "python",
   "name": "python3"
  },
  "language_info": {
   "codemirror_mode": {
    "name": "ipython",
    "version": 3
   },
   "file_extension": ".py",
   "mimetype": "text/x-python",
   "name": "python",
   "nbconvert_exporter": "python",
   "pygments_lexer": "ipython3",
   "version": "3.13.2"
  }
 },
 "nbformat": 4,
 "nbformat_minor": 5
}
