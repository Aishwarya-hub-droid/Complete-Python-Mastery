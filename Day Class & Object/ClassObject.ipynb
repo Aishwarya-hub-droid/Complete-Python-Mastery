{
 "cells": [
  {
   "cell_type": "code",
   "execution_count": 2,
   "metadata": {},
   "outputs": [
    {
     "name": "stdout",
     "output_type": "stream",
     "text": [
      "Your Name : Joy\n",
      "Your City : Mumbai\n"
     ]
    }
   ],
   "source": [
    "# create Class\n",
    "class Person:\n",
    "    def info():\n",
    "        print('Your Name : Joy')\n",
    "        print('Your City : Mumbai')\n",
    "\n",
    "# create object\n",
    "\n",
    "obj = Person\n",
    "obj.info()"
   ]
  },
  {
   "cell_type": "code",
   "execution_count": 5,
   "metadata": {},
   "outputs": [
    {
     "name": "stdout",
     "output_type": "stream",
     "text": [
      "Your Name :  Rohit\n",
      "Your Height :  5.6\n",
      "your age :  25\n",
      "------------\n",
      "Your Name :  Joy\n",
      "Your Height :  4.6\n",
      "your age :  21\n"
     ]
    }
   ],
   "source": [
    "# create Class\n",
    "class Person1:\n",
    "    def getname(name):\n",
    "        print('Your Name : ',name)\n",
    "    def getage(age):\n",
    "        print('your age : ',age)\n",
    "    def getheight(height):\n",
    "        print('Your Height : ',height)\n",
    "\n",
    "\n",
    "# create object\n",
    "\n",
    "obj1 = Person1\n",
    "obj1.getname(\"Rohit\")\n",
    "obj1.getheight(5.6)\n",
    "obj1.getage(25)\n",
    "print('------------')\n",
    "obj1.getname(\"Joy\")\n",
    "obj1.getheight(4.6)\n",
    "obj1.getage(21)\n"
   ]
  },
  {
   "cell_type": "code",
   "execution_count": 7,
   "metadata": {},
   "outputs": [
    {
     "name": "stdout",
     "output_type": "stream",
     "text": [
      "Hello, my name is joy, and I am 12 years old.\n"
     ]
    }
   ],
   "source": [
    "class Person2:\n",
    "    def __init__(self, name, age):\n",
    "        self.name = name\n",
    "        self.age = age\n",
    "\n",
    "    def greet(self):\n",
    "        print(f\"Hello, my name is {self.name}, and I am {self.age} years old.\")\n",
    "\n",
    "obj2 = Person2(\"joy\",12)\n",
    "obj2.greet()\n"
   ]
  }
 ],
 "metadata": {
  "kernelspec": {
   "display_name": "Python 3",
   "language": "python",
   "name": "python3"
  },
  "language_info": {
   "codemirror_mode": {
    "name": "ipython",
    "version": 3
   },
   "file_extension": ".py",
   "mimetype": "text/x-python",
   "name": "python",
   "nbconvert_exporter": "python",
   "pygments_lexer": "ipython3",
   "version": "3.10.8"
  }
 },
 "nbformat": 4,
 "nbformat_minor": 2
}
