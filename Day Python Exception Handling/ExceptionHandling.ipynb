{
 "cells": [
  {
   "cell_type": "code",
   "execution_count": 15,
   "metadata": {},
   "outputs": [
    {
     "name": "stdout",
     "output_type": "stream",
     "text": [
      "do not enter zero ...\n"
     ]
    }
   ],
   "source": [
    "try:\n",
    "    name = str(input('Enter Your Name ...'))\n",
    "    age = int(input('Enter Your Age ...'))\n",
    "    height = int(input(\"Enter your height \"))\n",
    "    bmi = age/height\n",
    "    print(\"BMI - \",bmi)\n",
    "    print('Your Name : ',name)\n",
    "    print('Your Age : ',age)\n",
    "except ValueError:\n",
    "    print(\"Enter Only Number ...\")\n",
    "except ZeroDivisionError:\n",
    "    print(\"do not enter zero ...\")       "
   ]
  }
 ],
 "metadata": {
  "kernelspec": {
   "display_name": "Python 3",
   "language": "python",
   "name": "python3"
  },
  "language_info": {
   "codemirror_mode": {
    "name": "ipython",
    "version": 3
   },
   "file_extension": ".py",
   "mimetype": "text/x-python",
   "name": "python",
   "nbconvert_exporter": "python",
   "pygments_lexer": "ipython3",
   "version": "3.10.8"
  },
  "orig_nbformat": 4
 },
 "nbformat": 4,
 "nbformat_minor": 2
}
