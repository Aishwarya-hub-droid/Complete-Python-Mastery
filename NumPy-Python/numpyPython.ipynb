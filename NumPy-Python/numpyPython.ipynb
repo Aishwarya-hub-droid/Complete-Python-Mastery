{
 "cells": [
  {
   "cell_type": "code",
   "execution_count": 1,
   "metadata": {},
   "outputs": [],
   "source": [
    "import numpy as np"
   ]
  },
  {
   "cell_type": "code",
   "execution_count": 3,
   "metadata": {},
   "outputs": [
    {
     "name": "stdout",
     "output_type": "stream",
     "text": [
      "1.26.0\n"
     ]
    }
   ],
   "source": [
    "# Checking NumPy Version \n",
    "print(np.__version__)"
   ]
  },
  {
   "cell_type": "code",
   "execution_count": 8,
   "metadata": {},
   "outputs": [
    {
     "name": "stdout",
     "output_type": "stream",
     "text": [
      "<class 'numpy.ndarray'>\n",
      "42\n"
     ]
    }
   ],
   "source": [
    "# Creating NumPy Arrays \n",
    "arr = np.array(42)\n",
    "# check type\n",
    "print(type(arr))\n",
    "print(arr)"
   ]
  },
  {
   "cell_type": "code",
   "execution_count": 17,
   "metadata": {},
   "outputs": [
    {
     "name": "stdout",
     "output_type": "stream",
     "text": [
      "[23 33 44 55]\n",
      "1\n"
     ]
    }
   ],
   "source": [
    "# 1-D Arrays:\n",
    "arr = np.array([23,33,44,55])\n",
    "print(arr)\n",
    "# Check Number of Dimensions\n",
    "print(arr.ndim)"
   ]
  },
  {
   "cell_type": "code",
   "execution_count": 16,
   "metadata": {},
   "outputs": [
    {
     "name": "stdout",
     "output_type": "stream",
     "text": [
      "[[3 4 5 6]\n",
      " [6 7 8 9]]\n",
      "2\n"
     ]
    }
   ],
   "source": [
    "# 2-D Arrays\n",
    "arr = np.array([[3,4,5,6],[6,7,8,9]])\n",
    "print(arr)\n",
    "# Check Number of Dimensions\n",
    "print(arr.ndim)"
   ]
  },
  {
   "cell_type": "code",
   "execution_count": 21,
   "metadata": {},
   "outputs": [
    {
     "name": "stdout",
     "output_type": "stream",
     "text": [
      "[[[3 4 5 6]\n",
      "  [6 7 8 9]]\n",
      "\n",
      " [[5 6 7 8]\n",
      "  [5 6 7 8]]]\n"
     ]
    }
   ],
   "source": [
    "# 3-D Arrays:\n",
    "arr = np.array([[[3,4,5,6],[6,7,8,9]],[[5,6,7,8],[5,6,7,8]]])\n",
    "print(arr)"
   ]
  },
  {
   "cell_type": "code",
   "execution_count": 15,
   "metadata": {},
   "outputs": [
    {
     "name": "stdout",
     "output_type": "stream",
     "text": [
      "3\n"
     ]
    }
   ],
   "source": [
    "# Check Number of Dimensions\n",
    "print(arr.ndim)"
   ]
  },
  {
   "cell_type": "code",
   "execution_count": 20,
   "metadata": {},
   "outputs": [
    {
     "name": "stdout",
     "output_type": "stream",
     "text": [
      "[[[[ 1  2]\n",
      "   [ 3  4]]\n",
      "\n",
      "  [[ 5  6]\n",
      "   [ 7  8]]]\n",
      "\n",
      "\n",
      " [[[ 9 10]\n",
      "   [11 12]]\n",
      "\n",
      "  [[13 14]\n",
      "   [15 16]]]]\n",
      "4\n"
     ]
    }
   ],
   "source": [
    "# Higher-Dimensional Arrays :\n",
    "arr_nd = np.array([[[[1, 2], [3, 4]], [[5, 6], [7, 8]]], [[[9, 10], [11, 12]], [[13, 14], [15, 16]]]])\n",
    "print(arr_nd)\n",
    "# Check Number of Dimensions\n",
    "print(arr_nd.ndim)"
   ]
  },
  {
   "cell_type": "code",
   "execution_count": 24,
   "metadata": {},
   "outputs": [
    {
     "name": "stdout",
     "output_type": "stream",
     "text": [
      "1\n",
      "3\n",
      "5\n",
      "4\n"
     ]
    }
   ],
   "source": [
    "# Basic Indexing\n",
    "# index                    0  1  2  3  4\n",
    "arr =            np.array([1, 2, 3, 4, 5])\n",
    "# Negative Index          -5 -4 -3 -2 -1\n",
    "print(arr[0])  # Access the first element (1)\n",
    "print(arr[2])  # Access the third element (3)\n",
    "# Negative Index \n",
    "print(arr[-1])  # Access the last element (5)\n",
    "print(arr[-2])  # Access the second-to-last element (4)"
   ]
  },
  {
   "cell_type": "code",
   "execution_count": 28,
   "metadata": {},
   "outputs": [
    {
     "name": "stdout",
     "output_type": "stream",
     "text": [
      "2\n",
      "6\n"
     ]
    }
   ],
   "source": [
    "# Multidimensional Array Indexing \n",
    "arr_2d = np.array([[1, 2, 3], [4, 5, 6],[7,8,9]])\n",
    "\n",
    "print(arr_2d[0, 1]) # Access element at row 1, column 2 (6)\n",
    "\n",
    "# Using a single tuple of indices\n",
    "indices = (1, 2)\n",
    "print(arr_2d[indices])  # Access the same element (6)"
   ]
  }
 ],
 "metadata": {
  "kernelspec": {
   "display_name": "venv",
   "language": "python",
   "name": "python3"
  },
  "language_info": {
   "codemirror_mode": {
    "name": "ipython",
    "version": 3
   },
   "file_extension": ".py",
   "mimetype": "text/x-python",
   "name": "python",
   "nbconvert_exporter": "python",
   "pygments_lexer": "ipython3",
   "version": "3.11.4"
  }
 },
 "nbformat": 4,
 "nbformat_minor": 2
}
