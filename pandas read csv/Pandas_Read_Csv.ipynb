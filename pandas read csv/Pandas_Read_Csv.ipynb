{
 "cells": [
  {
   "cell_type": "markdown",
   "metadata": {},
   "source": [
    "# Mastering Pandas read_csv() with Examples – A Tutorial by CodesWithPankaj.com\n",
    "\n",
    "Introduction:\n",
    "\n",
    "Pandas, a powerful data manipulation library in Python, has become an essential tool for data scientists and analysts. One of its key functions is `read_csv()`, which allows users to read data from CSV (Comma-Separated Values) files into a Pandas DataFrame. In this tutorial, brought to you by CodesWithPankaj.com, we will explore the intricacies of `read_csv()` with clear examples to help you harness its full potential.\n",
    "\n",
    "Understanding read_csv():\n",
    "\n",
    "`read_csv()` is a versatile function that offers various parameters to handle diverse scenarios when reading CSV files. Whether your dataset has a specific delimiter, contains missing values, or requires custom column names, Pandas provides options to accommodate these situations."
   ]
  },
  {
   "cell_type": "markdown",
   "metadata": {},
   "source": [
    "##  Importing a CSV file using the read_csv() function"
   ]
  },
  {
   "cell_type": "code",
   "execution_count": 1,
   "metadata": {},
   "outputs": [
    {
     "name": "stdout",
     "output_type": "stream",
     "text": [
      "                    name  age     sex  \\\n",
      "0         Aaron, Dayan M   38    Male   \n",
      "1       Aaron, Freddie L   52    Male   \n",
      "2        Aaron, Tyrone M   44    Male   \n",
      "3        Abazenab, Kokeb   42  Female   \n",
      "4  Abbott, Christopher D   32    Male   \n",
      "\n",
      "                                       ethnic.origin  \\\n",
      "0  Black or African American (Not Hispanic or Lat...   \n",
      "1  Black or African American (Not Hispanic or Lat...   \n",
      "2  Black or African American (Not Hispanic or Lat...   \n",
      "3  Black or African American (Not Hispanic or Lat...   \n",
      "4                     White (Not Hispanic or Latino)   \n",
      "\n",
      "                            job.title  \\\n",
      "0                    ATL311 Team Lead   \n",
      "1  Environmental Service Worker I (D)   \n",
      "2       Watershed Crew Supervisor (D)   \n",
      "3         Benefits Representative, Sr   \n",
      "4     Recreation Operations Assistant   \n",
      "\n",
      "                                organization  annual.salary  \n",
      "0                      EXE Executive Offices       45999.99  \n",
      "1             DPW Department of Public Works       26700.10  \n",
      "2     DWM Department of Watershed Management       46575.01  \n",
      "3           DHR Department of Human Reources       42866.89  \n",
      "4  PRC Parks, Recreation, & Cultural Affairs       28035.05  \n"
     ]
    }
   ],
   "source": [
    "# Importing the Pandas library\n",
    "import pandas as pd\n",
    "\n",
    "# Specify the file path or URL of the CSV file\n",
    "file_path = 'DataSet/p4n_emp.csv'\n",
    "\n",
    "# Use the read_csv() function to read the CSV file into a DataFrame\n",
    "df = pd.read_csv(file_path)\n",
    "\n",
    "# Display the first few rows of the DataFrame\n",
    "print(df.head())\n"
   ]
  },
  {
   "cell_type": "markdown",
   "metadata": {},
   "source": [
    "## Setting a column as the index"
   ]
  },
  {
   "cell_type": "code",
   "execution_count": null,
   "metadata": {},
   "outputs": [],
   "source": []
  },
  {
   "cell_type": "markdown",
   "metadata": {},
   "source": [
    "### Conclusion:\n",
    "\n",
    "The `read_csv()` function in Pandas is a versatile tool that enables seamless data import from CSV files. In this tutorial, we've explored various scenarios, including basic usage, handling custom delimiters, managing missing values, and specifying custom column names. Armed with this knowledge, you'll be better equipped to tackle diverse datasets in your data science endeavors.\n",
    "\n",
    "Visit CodesWithPankaj.com for more in-depth tutorials and coding insights to enhance your Python and Pandas skills. Happy coding!"
   ]
  },
  {
   "cell_type": "code",
   "execution_count": null,
   "metadata": {},
   "outputs": [],
   "source": []
  }
 ],
 "metadata": {
  "kernelspec": {
   "display_name": "Python 3",
   "language": "python",
   "name": "python3"
  },
  "language_info": {
   "codemirror_mode": {
    "name": "ipython",
    "version": 3
   },
   "file_extension": ".py",
   "mimetype": "text/x-python",
   "name": "python",
   "nbconvert_exporter": "python",
   "pygments_lexer": "ipython3",
   "version": "3.10.8"
  }
 },
 "nbformat": 4,
 "nbformat_minor": 2
}
